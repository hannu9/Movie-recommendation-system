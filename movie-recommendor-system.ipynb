{
 "cells": [
  {
   "cell_type": "code",
   "execution_count": 2,
   "id": "70059c88",
   "metadata": {},
   "outputs": [],
   "source": [
    "import numpy as np\n",
    "import pandas as pd"
   ]
  },
  {
   "cell_type": "code",
   "execution_count": 3,
   "id": "5412c8bf",
   "metadata": {},
   "outputs": [],
   "source": [
    "movies = pd.read_csv('tmdb_5000_movies.csv')\n",
    "credits = pd.read_csv('tmdb_5000_credits.csv')"
   ]
  },
  {
   "cell_type": "code",
   "execution_count": 81,
   "id": "44aebdc0",
   "metadata": {},
   "outputs": [
    {
     "data": {
      "text/html": [
       "<div>\n",
       "<style scoped>\n",
       "    .dataframe tbody tr th:only-of-type {\n",
       "        vertical-align: middle;\n",
       "    }\n",
       "\n",
       "    .dataframe tbody tr th {\n",
       "        vertical-align: top;\n",
       "    }\n",
       "\n",
       "    .dataframe thead th {\n",
       "        text-align: right;\n",
       "    }\n",
       "</style>\n",
       "<table border=\"1\" class=\"dataframe\">\n",
       "  <thead>\n",
       "    <tr style=\"text-align: right;\">\n",
       "      <th></th>\n",
       "      <th>movie_id</th>\n",
       "      <th>title</th>\n",
       "      <th>overview</th>\n",
       "      <th>genres</th>\n",
       "      <th>keywords</th>\n",
       "      <th>cast</th>\n",
       "      <th>crew</th>\n",
       "      <th>tags</th>\n",
       "    </tr>\n",
       "  </thead>\n",
       "  <tbody>\n",
       "    <tr>\n",
       "      <th>0</th>\n",
       "      <td>19995</td>\n",
       "      <td>Avatar</td>\n",
       "      <td>[In, the, 22nd, century,, a, paraplegic, Marin...</td>\n",
       "      <td>[[, {, \", i, d, \", :, , 2, 8, ,, , \", n, a, m,...</td>\n",
       "      <td>[[, {, \", i, d, \", :, , 1, 4, 6, 3, ,, , \", n,...</td>\n",
       "      <td>[[, {, \", c, a, s, t, _, i, d, \", :, , 2, 4, 2...</td>\n",
       "      <td>[[, {, \", c, r, e, d, i, t, _, i, d, \", :, , \"...</td>\n",
       "      <td>[In, the, 22nd, century,, a, paraplegic, Marin...</td>\n",
       "    </tr>\n",
       "    <tr>\n",
       "      <th>1</th>\n",
       "      <td>285</td>\n",
       "      <td>Pirates of the Caribbean: At World's End</td>\n",
       "      <td>[Captain, Barbossa,, long, believed, to, be, d...</td>\n",
       "      <td>[[, {, \", i, d, \", :, , 1, 2, ,, , \", n, a, m,...</td>\n",
       "      <td>[[, {, \", i, d, \", :, , 2, 7, 0, ,, , \", n, a,...</td>\n",
       "      <td>[[, {, \", c, a, s, t, _, i, d, \", :, , 4, ,, ,...</td>\n",
       "      <td>[[, {, \", c, r, e, d, i, t, _, i, d, \", :, , \"...</td>\n",
       "      <td>[Captain, Barbossa,, long, believed, to, be, d...</td>\n",
       "    </tr>\n",
       "    <tr>\n",
       "      <th>2</th>\n",
       "      <td>206647</td>\n",
       "      <td>Spectre</td>\n",
       "      <td>[A, cryptic, message, from, Bond’s, past, send...</td>\n",
       "      <td>[[, {, \", i, d, \", :, , 2, 8, ,, , \", n, a, m,...</td>\n",
       "      <td>[[, {, \", i, d, \", :, , 4, 7, 0, ,, , \", n, a,...</td>\n",
       "      <td>[[, {, \", c, a, s, t, _, i, d, \", :, , 1, ,, ,...</td>\n",
       "      <td>[[, {, \", c, r, e, d, i, t, _, i, d, \", :, , \"...</td>\n",
       "      <td>[A, cryptic, message, from, Bond’s, past, send...</td>\n",
       "    </tr>\n",
       "    <tr>\n",
       "      <th>3</th>\n",
       "      <td>49026</td>\n",
       "      <td>The Dark Knight Rises</td>\n",
       "      <td>[Following, the, death, of, District, Attorney...</td>\n",
       "      <td>[[, {, \", i, d, \", :, , 2, 8, ,, , \", n, a, m,...</td>\n",
       "      <td>[[, {, \", i, d, \", :, , 8, 4, 9, ,, , \", n, a,...</td>\n",
       "      <td>[[, {, \", c, a, s, t, _, i, d, \", :, , 2, ,, ,...</td>\n",
       "      <td>[[, {, \", c, r, e, d, i, t, _, i, d, \", :, , \"...</td>\n",
       "      <td>[Following, the, death, of, District, Attorney...</td>\n",
       "    </tr>\n",
       "    <tr>\n",
       "      <th>4</th>\n",
       "      <td>49529</td>\n",
       "      <td>John Carter</td>\n",
       "      <td>[John, Carter, is, a, war-weary,, former, mili...</td>\n",
       "      <td>[[, {, \", i, d, \", :, , 2, 8, ,, , \", n, a, m,...</td>\n",
       "      <td>[[, {, \", i, d, \", :, , 8, 1, 8, ,, , \", n, a,...</td>\n",
       "      <td>[[, {, \", c, a, s, t, _, i, d, \", :, , 5, ,, ,...</td>\n",
       "      <td>[[, {, \", c, r, e, d, i, t, _, i, d, \", :, , \"...</td>\n",
       "      <td>[John, Carter, is, a, war-weary,, former, mili...</td>\n",
       "    </tr>\n",
       "    <tr>\n",
       "      <th>5</th>\n",
       "      <td>559</td>\n",
       "      <td>Spider-Man 3</td>\n",
       "      <td>[The, seemingly, invincible, Spider-Man, goes,...</td>\n",
       "      <td>[[, {, \", i, d, \", :, , 1, 4, ,, , \", n, a, m,...</td>\n",
       "      <td>[[, {, \", i, d, \", :, , 8, 5, 1, ,, , \", n, a,...</td>\n",
       "      <td>[[, {, \", c, a, s, t, _, i, d, \", :, , 3, 0, ,...</td>\n",
       "      <td>[[, {, \", c, r, e, d, i, t, _, i, d, \", :, , \"...</td>\n",
       "      <td>[The, seemingly, invincible, Spider-Man, goes,...</td>\n",
       "    </tr>\n",
       "    <tr>\n",
       "      <th>6</th>\n",
       "      <td>38757</td>\n",
       "      <td>Tangled</td>\n",
       "      <td>[When, the, kingdom's, most, wanted-and, most,...</td>\n",
       "      <td>[[, {, \", i, d, \", :, , 1, 6, ,, , \", n, a, m,...</td>\n",
       "      <td>[[, {, \", i, d, \", :, , 1, 5, 6, 2, ,, , \", n,...</td>\n",
       "      <td>[[, {, \", c, a, s, t, _, i, d, \", :, , 3, 4, ,...</td>\n",
       "      <td>[[, {, \", c, r, e, d, i, t, _, i, d, \", :, , \"...</td>\n",
       "      <td>[When, the, kingdom's, most, wanted-and, most,...</td>\n",
       "    </tr>\n",
       "    <tr>\n",
       "      <th>7</th>\n",
       "      <td>99861</td>\n",
       "      <td>Avengers: Age of Ultron</td>\n",
       "      <td>[When, Tony, Stark, tries, to, jumpstart, a, d...</td>\n",
       "      <td>[[, {, \", i, d, \", :, , 2, 8, ,, , \", n, a, m,...</td>\n",
       "      <td>[[, {, \", i, d, \", :, , 8, 8, 2, 8, ,, , \", n,...</td>\n",
       "      <td>[[, {, \", c, a, s, t, _, i, d, \", :, , 7, 6, ,...</td>\n",
       "      <td>[[, {, \", c, r, e, d, i, t, _, i, d, \", :, , \"...</td>\n",
       "      <td>[When, Tony, Stark, tries, to, jumpstart, a, d...</td>\n",
       "    </tr>\n",
       "    <tr>\n",
       "      <th>8</th>\n",
       "      <td>767</td>\n",
       "      <td>Harry Potter and the Half-Blood Prince</td>\n",
       "      <td>[As, Harry, begins, his, sixth, year, at, Hogw...</td>\n",
       "      <td>[[, {, \", i, d, \", :, , 1, 2, ,, , \", n, a, m,...</td>\n",
       "      <td>[[, {, \", i, d, \", :, , 6, 1, 6, ,, , \", n, a,...</td>\n",
       "      <td>[[, {, \", c, a, s, t, _, i, d, \", :, , 3, ,, ,...</td>\n",
       "      <td>[[, {, \", c, r, e, d, i, t, _, i, d, \", :, , \"...</td>\n",
       "      <td>[As, Harry, begins, his, sixth, year, at, Hogw...</td>\n",
       "    </tr>\n",
       "    <tr>\n",
       "      <th>9</th>\n",
       "      <td>209112</td>\n",
       "      <td>Batman v Superman: Dawn of Justice</td>\n",
       "      <td>[Fearing, the, actions, of, a, god-like, Super...</td>\n",
       "      <td>[[, {, \", i, d, \", :, , 2, 8, ,, , \", n, a, m,...</td>\n",
       "      <td>[[, {, \", i, d, \", :, , 8, 4, 9, ,, , \", n, a,...</td>\n",
       "      <td>[[, {, \", c, a, s, t, _, i, d, \", :, , 1, 8, ,...</td>\n",
       "      <td>[[, {, \", c, r, e, d, i, t, _, i, d, \", :, , \"...</td>\n",
       "      <td>[Fearing, the, actions, of, a, god-like, Super...</td>\n",
       "    </tr>\n",
       "    <tr>\n",
       "      <th>10</th>\n",
       "      <td>1452</td>\n",
       "      <td>Superman Returns</td>\n",
       "      <td>[Superman, returns, to, discover, his, 5-year,...</td>\n",
       "      <td>[[, {, \", i, d, \", :, , 1, 2, ,, , \", n, a, m,...</td>\n",
       "      <td>[[, {, \", i, d, \", :, , 8, 3, ,, , \", n, a, m,...</td>\n",
       "      <td>[[, {, \", c, a, s, t, _, i, d, \", :, , 3, ,, ,...</td>\n",
       "      <td>[[, {, \", c, r, e, d, i, t, _, i, d, \", :, , \"...</td>\n",
       "      <td>[Superman, returns, to, discover, his, 5-year,...</td>\n",
       "    </tr>\n",
       "    <tr>\n",
       "      <th>11</th>\n",
       "      <td>10764</td>\n",
       "      <td>Quantum of Solace</td>\n",
       "      <td>[Quantum, of, Solace, continues, the, adventur...</td>\n",
       "      <td>[[, {, \", i, d, \", :, , 1, 2, ,, , \", n, a, m,...</td>\n",
       "      <td>[[, {, \", i, d, \", :, , 6, 2, 7, ,, , \", n, a,...</td>\n",
       "      <td>[[, {, \", c, a, s, t, _, i, d, \", :, , 1, ,, ,...</td>\n",
       "      <td>[[, {, \", c, r, e, d, i, t, _, i, d, \", :, , \"...</td>\n",
       "      <td>[Quantum, of, Solace, continues, the, adventur...</td>\n",
       "    </tr>\n",
       "    <tr>\n",
       "      <th>12</th>\n",
       "      <td>58</td>\n",
       "      <td>Pirates of the Caribbean: Dead Man's Chest</td>\n",
       "      <td>[Captain, Jack, Sparrow, works, his, way, out,...</td>\n",
       "      <td>[[, {, \", i, d, \", :, , 1, 2, ,, , \", n, a, m,...</td>\n",
       "      <td>[[, {, \", i, d, \", :, , 6, 1, 6, ,, , \", n, a,...</td>\n",
       "      <td>[[, {, \", c, a, s, t, _, i, d, \", :, , 3, 7, ,...</td>\n",
       "      <td>[[, {, \", c, r, e, d, i, t, _, i, d, \", :, , \"...</td>\n",
       "      <td>[Captain, Jack, Sparrow, works, his, way, out,...</td>\n",
       "    </tr>\n",
       "    <tr>\n",
       "      <th>13</th>\n",
       "      <td>57201</td>\n",
       "      <td>The Lone Ranger</td>\n",
       "      <td>[The, Texas, Rangers, chase, down, a, gang, of...</td>\n",
       "      <td>[[, {, \", i, d, \", :, , 2, 8, ,, , \", n, a, m,...</td>\n",
       "      <td>[[, {, \", i, d, \", :, , 1, 5, 5, 6, ,, , \", n,...</td>\n",
       "      <td>[[, {, \", c, a, s, t, _, i, d, \", :, , 4, ,, ,...</td>\n",
       "      <td>[[, {, \", c, r, e, d, i, t, _, i, d, \", :, , \"...</td>\n",
       "      <td>[The, Texas, Rangers, chase, down, a, gang, of...</td>\n",
       "    </tr>\n",
       "    <tr>\n",
       "      <th>14</th>\n",
       "      <td>49521</td>\n",
       "      <td>Man of Steel</td>\n",
       "      <td>[A, young, boy, learns, that, he, has, extraor...</td>\n",
       "      <td>[[, {, \", i, d, \", :, , 2, 8, ,, , \", n, a, m,...</td>\n",
       "      <td>[[, {, \", i, d, \", :, , 8, 3, ,, , \", n, a, m,...</td>\n",
       "      <td>[[, {, \", c, a, s, t, _, i, d, \", :, , 2, ,, ,...</td>\n",
       "      <td>[[, {, \", c, r, e, d, i, t, _, i, d, \", :, , \"...</td>\n",
       "      <td>[A, young, boy, learns, that, he, has, extraor...</td>\n",
       "    </tr>\n",
       "  </tbody>\n",
       "</table>\n",
       "</div>"
      ],
      "text/plain": [
       "    movie_id                                       title  \\\n",
       "0      19995                                      Avatar   \n",
       "1        285    Pirates of the Caribbean: At World's End   \n",
       "2     206647                                     Spectre   \n",
       "3      49026                       The Dark Knight Rises   \n",
       "4      49529                                 John Carter   \n",
       "5        559                                Spider-Man 3   \n",
       "6      38757                                     Tangled   \n",
       "7      99861                     Avengers: Age of Ultron   \n",
       "8        767      Harry Potter and the Half-Blood Prince   \n",
       "9     209112          Batman v Superman: Dawn of Justice   \n",
       "10      1452                            Superman Returns   \n",
       "11     10764                           Quantum of Solace   \n",
       "12        58  Pirates of the Caribbean: Dead Man's Chest   \n",
       "13     57201                             The Lone Ranger   \n",
       "14     49521                                Man of Steel   \n",
       "\n",
       "                                             overview  \\\n",
       "0   [In, the, 22nd, century,, a, paraplegic, Marin...   \n",
       "1   [Captain, Barbossa,, long, believed, to, be, d...   \n",
       "2   [A, cryptic, message, from, Bond’s, past, send...   \n",
       "3   [Following, the, death, of, District, Attorney...   \n",
       "4   [John, Carter, is, a, war-weary,, former, mili...   \n",
       "5   [The, seemingly, invincible, Spider-Man, goes,...   \n",
       "6   [When, the, kingdom's, most, wanted-and, most,...   \n",
       "7   [When, Tony, Stark, tries, to, jumpstart, a, d...   \n",
       "8   [As, Harry, begins, his, sixth, year, at, Hogw...   \n",
       "9   [Fearing, the, actions, of, a, god-like, Super...   \n",
       "10  [Superman, returns, to, discover, his, 5-year,...   \n",
       "11  [Quantum, of, Solace, continues, the, adventur...   \n",
       "12  [Captain, Jack, Sparrow, works, his, way, out,...   \n",
       "13  [The, Texas, Rangers, chase, down, a, gang, of...   \n",
       "14  [A, young, boy, learns, that, he, has, extraor...   \n",
       "\n",
       "                                               genres  \\\n",
       "0   [[, {, \", i, d, \", :, , 2, 8, ,, , \", n, a, m,...   \n",
       "1   [[, {, \", i, d, \", :, , 1, 2, ,, , \", n, a, m,...   \n",
       "2   [[, {, \", i, d, \", :, , 2, 8, ,, , \", n, a, m,...   \n",
       "3   [[, {, \", i, d, \", :, , 2, 8, ,, , \", n, a, m,...   \n",
       "4   [[, {, \", i, d, \", :, , 2, 8, ,, , \", n, a, m,...   \n",
       "5   [[, {, \", i, d, \", :, , 1, 4, ,, , \", n, a, m,...   \n",
       "6   [[, {, \", i, d, \", :, , 1, 6, ,, , \", n, a, m,...   \n",
       "7   [[, {, \", i, d, \", :, , 2, 8, ,, , \", n, a, m,...   \n",
       "8   [[, {, \", i, d, \", :, , 1, 2, ,, , \", n, a, m,...   \n",
       "9   [[, {, \", i, d, \", :, , 2, 8, ,, , \", n, a, m,...   \n",
       "10  [[, {, \", i, d, \", :, , 1, 2, ,, , \", n, a, m,...   \n",
       "11  [[, {, \", i, d, \", :, , 1, 2, ,, , \", n, a, m,...   \n",
       "12  [[, {, \", i, d, \", :, , 1, 2, ,, , \", n, a, m,...   \n",
       "13  [[, {, \", i, d, \", :, , 2, 8, ,, , \", n, a, m,...   \n",
       "14  [[, {, \", i, d, \", :, , 2, 8, ,, , \", n, a, m,...   \n",
       "\n",
       "                                             keywords  \\\n",
       "0   [[, {, \", i, d, \", :, , 1, 4, 6, 3, ,, , \", n,...   \n",
       "1   [[, {, \", i, d, \", :, , 2, 7, 0, ,, , \", n, a,...   \n",
       "2   [[, {, \", i, d, \", :, , 4, 7, 0, ,, , \", n, a,...   \n",
       "3   [[, {, \", i, d, \", :, , 8, 4, 9, ,, , \", n, a,...   \n",
       "4   [[, {, \", i, d, \", :, , 8, 1, 8, ,, , \", n, a,...   \n",
       "5   [[, {, \", i, d, \", :, , 8, 5, 1, ,, , \", n, a,...   \n",
       "6   [[, {, \", i, d, \", :, , 1, 5, 6, 2, ,, , \", n,...   \n",
       "7   [[, {, \", i, d, \", :, , 8, 8, 2, 8, ,, , \", n,...   \n",
       "8   [[, {, \", i, d, \", :, , 6, 1, 6, ,, , \", n, a,...   \n",
       "9   [[, {, \", i, d, \", :, , 8, 4, 9, ,, , \", n, a,...   \n",
       "10  [[, {, \", i, d, \", :, , 8, 3, ,, , \", n, a, m,...   \n",
       "11  [[, {, \", i, d, \", :, , 6, 2, 7, ,, , \", n, a,...   \n",
       "12  [[, {, \", i, d, \", :, , 6, 1, 6, ,, , \", n, a,...   \n",
       "13  [[, {, \", i, d, \", :, , 1, 5, 5, 6, ,, , \", n,...   \n",
       "14  [[, {, \", i, d, \", :, , 8, 3, ,, , \", n, a, m,...   \n",
       "\n",
       "                                                 cast  \\\n",
       "0   [[, {, \", c, a, s, t, _, i, d, \", :, , 2, 4, 2...   \n",
       "1   [[, {, \", c, a, s, t, _, i, d, \", :, , 4, ,, ,...   \n",
       "2   [[, {, \", c, a, s, t, _, i, d, \", :, , 1, ,, ,...   \n",
       "3   [[, {, \", c, a, s, t, _, i, d, \", :, , 2, ,, ,...   \n",
       "4   [[, {, \", c, a, s, t, _, i, d, \", :, , 5, ,, ,...   \n",
       "5   [[, {, \", c, a, s, t, _, i, d, \", :, , 3, 0, ,...   \n",
       "6   [[, {, \", c, a, s, t, _, i, d, \", :, , 3, 4, ,...   \n",
       "7   [[, {, \", c, a, s, t, _, i, d, \", :, , 7, 6, ,...   \n",
       "8   [[, {, \", c, a, s, t, _, i, d, \", :, , 3, ,, ,...   \n",
       "9   [[, {, \", c, a, s, t, _, i, d, \", :, , 1, 8, ,...   \n",
       "10  [[, {, \", c, a, s, t, _, i, d, \", :, , 3, ,, ,...   \n",
       "11  [[, {, \", c, a, s, t, _, i, d, \", :, , 1, ,, ,...   \n",
       "12  [[, {, \", c, a, s, t, _, i, d, \", :, , 3, 7, ,...   \n",
       "13  [[, {, \", c, a, s, t, _, i, d, \", :, , 4, ,, ,...   \n",
       "14  [[, {, \", c, a, s, t, _, i, d, \", :, , 2, ,, ,...   \n",
       "\n",
       "                                                 crew  \\\n",
       "0   [[, {, \", c, r, e, d, i, t, _, i, d, \", :, , \"...   \n",
       "1   [[, {, \", c, r, e, d, i, t, _, i, d, \", :, , \"...   \n",
       "2   [[, {, \", c, r, e, d, i, t, _, i, d, \", :, , \"...   \n",
       "3   [[, {, \", c, r, e, d, i, t, _, i, d, \", :, , \"...   \n",
       "4   [[, {, \", c, r, e, d, i, t, _, i, d, \", :, , \"...   \n",
       "5   [[, {, \", c, r, e, d, i, t, _, i, d, \", :, , \"...   \n",
       "6   [[, {, \", c, r, e, d, i, t, _, i, d, \", :, , \"...   \n",
       "7   [[, {, \", c, r, e, d, i, t, _, i, d, \", :, , \"...   \n",
       "8   [[, {, \", c, r, e, d, i, t, _, i, d, \", :, , \"...   \n",
       "9   [[, {, \", c, r, e, d, i, t, _, i, d, \", :, , \"...   \n",
       "10  [[, {, \", c, r, e, d, i, t, _, i, d, \", :, , \"...   \n",
       "11  [[, {, \", c, r, e, d, i, t, _, i, d, \", :, , \"...   \n",
       "12  [[, {, \", c, r, e, d, i, t, _, i, d, \", :, , \"...   \n",
       "13  [[, {, \", c, r, e, d, i, t, _, i, d, \", :, , \"...   \n",
       "14  [[, {, \", c, r, e, d, i, t, _, i, d, \", :, , \"...   \n",
       "\n",
       "                                                 tags  \n",
       "0   [In, the, 22nd, century,, a, paraplegic, Marin...  \n",
       "1   [Captain, Barbossa,, long, believed, to, be, d...  \n",
       "2   [A, cryptic, message, from, Bond’s, past, send...  \n",
       "3   [Following, the, death, of, District, Attorney...  \n",
       "4   [John, Carter, is, a, war-weary,, former, mili...  \n",
       "5   [The, seemingly, invincible, Spider-Man, goes,...  \n",
       "6   [When, the, kingdom's, most, wanted-and, most,...  \n",
       "7   [When, Tony, Stark, tries, to, jumpstart, a, d...  \n",
       "8   [As, Harry, begins, his, sixth, year, at, Hogw...  \n",
       "9   [Fearing, the, actions, of, a, god-like, Super...  \n",
       "10  [Superman, returns, to, discover, his, 5-year,...  \n",
       "11  [Quantum, of, Solace, continues, the, adventur...  \n",
       "12  [Captain, Jack, Sparrow, works, his, way, out,...  \n",
       "13  [The, Texas, Rangers, chase, down, a, gang, of...  \n",
       "14  [A, young, boy, learns, that, he, has, extraor...  "
      ]
     },
     "execution_count": 81,
     "metadata": {},
     "output_type": "execute_result"
    }
   ],
   "source": [
    "movies.head(15)"
   ]
  },
  {
   "cell_type": "code",
   "execution_count": 5,
   "id": "322d702f",
   "metadata": {},
   "outputs": [
    {
     "data": {
      "text/html": [
       "<div>\n",
       "<style scoped>\n",
       "    .dataframe tbody tr th:only-of-type {\n",
       "        vertical-align: middle;\n",
       "    }\n",
       "\n",
       "    .dataframe tbody tr th {\n",
       "        vertical-align: top;\n",
       "    }\n",
       "\n",
       "    .dataframe thead th {\n",
       "        text-align: right;\n",
       "    }\n",
       "</style>\n",
       "<table border=\"1\" class=\"dataframe\">\n",
       "  <thead>\n",
       "    <tr style=\"text-align: right;\">\n",
       "      <th></th>\n",
       "      <th>movie_id</th>\n",
       "      <th>title</th>\n",
       "      <th>cast</th>\n",
       "      <th>crew</th>\n",
       "    </tr>\n",
       "  </thead>\n",
       "  <tbody>\n",
       "    <tr>\n",
       "      <th>0</th>\n",
       "      <td>19995</td>\n",
       "      <td>Avatar</td>\n",
       "      <td>[{\"cast_id\": 242, \"character\": \"Jake Sully\", \"...</td>\n",
       "      <td>[{\"credit_id\": \"52fe48009251416c750aca23\", \"de...</td>\n",
       "    </tr>\n",
       "  </tbody>\n",
       "</table>\n",
       "</div>"
      ],
      "text/plain": [
       "   movie_id   title                                               cast  \\\n",
       "0     19995  Avatar  [{\"cast_id\": 242, \"character\": \"Jake Sully\", \"...   \n",
       "\n",
       "                                                crew  \n",
       "0  [{\"credit_id\": \"52fe48009251416c750aca23\", \"de...  "
      ]
     },
     "execution_count": 5,
     "metadata": {},
     "output_type": "execute_result"
    }
   ],
   "source": [
    "credits.head(1)"
   ]
  },
  {
   "cell_type": "code",
   "execution_count": 6,
   "id": "408a1ed9",
   "metadata": {},
   "outputs": [],
   "source": [
    "movies = movies.merge(credits,on='title')"
   ]
  },
  {
   "cell_type": "code",
   "execution_count": 7,
   "id": "bde6f630",
   "metadata": {},
   "outputs": [
    {
     "data": {
      "text/html": [
       "<div>\n",
       "<style scoped>\n",
       "    .dataframe tbody tr th:only-of-type {\n",
       "        vertical-align: middle;\n",
       "    }\n",
       "\n",
       "    .dataframe tbody tr th {\n",
       "        vertical-align: top;\n",
       "    }\n",
       "\n",
       "    .dataframe thead th {\n",
       "        text-align: right;\n",
       "    }\n",
       "</style>\n",
       "<table border=\"1\" class=\"dataframe\">\n",
       "  <thead>\n",
       "    <tr style=\"text-align: right;\">\n",
       "      <th></th>\n",
       "      <th>budget</th>\n",
       "      <th>genres</th>\n",
       "      <th>homepage</th>\n",
       "      <th>id</th>\n",
       "      <th>keywords</th>\n",
       "      <th>original_language</th>\n",
       "      <th>original_title</th>\n",
       "      <th>overview</th>\n",
       "      <th>popularity</th>\n",
       "      <th>production_companies</th>\n",
       "      <th>...</th>\n",
       "      <th>runtime</th>\n",
       "      <th>spoken_languages</th>\n",
       "      <th>status</th>\n",
       "      <th>tagline</th>\n",
       "      <th>title</th>\n",
       "      <th>vote_average</th>\n",
       "      <th>vote_count</th>\n",
       "      <th>movie_id</th>\n",
       "      <th>cast</th>\n",
       "      <th>crew</th>\n",
       "    </tr>\n",
       "  </thead>\n",
       "  <tbody>\n",
       "    <tr>\n",
       "      <th>0</th>\n",
       "      <td>237000000</td>\n",
       "      <td>[{\"id\": 28, \"name\": \"Action\"}, {\"id\": 12, \"nam...</td>\n",
       "      <td>http://www.avatarmovie.com/</td>\n",
       "      <td>19995</td>\n",
       "      <td>[{\"id\": 1463, \"name\": \"culture clash\"}, {\"id\":...</td>\n",
       "      <td>en</td>\n",
       "      <td>Avatar</td>\n",
       "      <td>In the 22nd century, a paraplegic Marine is di...</td>\n",
       "      <td>150.437577</td>\n",
       "      <td>[{\"name\": \"Ingenious Film Partners\", \"id\": 289...</td>\n",
       "      <td>...</td>\n",
       "      <td>162.0</td>\n",
       "      <td>[{\"iso_639_1\": \"en\", \"name\": \"English\"}, {\"iso...</td>\n",
       "      <td>Released</td>\n",
       "      <td>Enter the World of Pandora.</td>\n",
       "      <td>Avatar</td>\n",
       "      <td>7.2</td>\n",
       "      <td>11800</td>\n",
       "      <td>19995</td>\n",
       "      <td>[{\"cast_id\": 242, \"character\": \"Jake Sully\", \"...</td>\n",
       "      <td>[{\"credit_id\": \"52fe48009251416c750aca23\", \"de...</td>\n",
       "    </tr>\n",
       "  </tbody>\n",
       "</table>\n",
       "<p>1 rows × 23 columns</p>\n",
       "</div>"
      ],
      "text/plain": [
       "      budget                                             genres  \\\n",
       "0  237000000  [{\"id\": 28, \"name\": \"Action\"}, {\"id\": 12, \"nam...   \n",
       "\n",
       "                      homepage     id  \\\n",
       "0  http://www.avatarmovie.com/  19995   \n",
       "\n",
       "                                            keywords original_language  \\\n",
       "0  [{\"id\": 1463, \"name\": \"culture clash\"}, {\"id\":...                en   \n",
       "\n",
       "  original_title                                           overview  \\\n",
       "0         Avatar  In the 22nd century, a paraplegic Marine is di...   \n",
       "\n",
       "   popularity                               production_companies  ... runtime  \\\n",
       "0  150.437577  [{\"name\": \"Ingenious Film Partners\", \"id\": 289...  ...   162.0   \n",
       "\n",
       "                                    spoken_languages    status  \\\n",
       "0  [{\"iso_639_1\": \"en\", \"name\": \"English\"}, {\"iso...  Released   \n",
       "\n",
       "                       tagline   title vote_average vote_count movie_id  \\\n",
       "0  Enter the World of Pandora.  Avatar          7.2      11800    19995   \n",
       "\n",
       "                                                cast  \\\n",
       "0  [{\"cast_id\": 242, \"character\": \"Jake Sully\", \"...   \n",
       "\n",
       "                                                crew  \n",
       "0  [{\"credit_id\": \"52fe48009251416c750aca23\", \"de...  \n",
       "\n",
       "[1 rows x 23 columns]"
      ]
     },
     "execution_count": 7,
     "metadata": {},
     "output_type": "execute_result"
    }
   ],
   "source": [
    "movies.head(1)"
   ]
  },
  {
   "cell_type": "code",
   "execution_count": 8,
   "id": "46a02408",
   "metadata": {},
   "outputs": [],
   "source": [
    "# geners \n",
    "# id \n",
    "# keywords \n",
    "# title \n",
    "# overview \n",
    "# cast \n",
    "# crew \n",
    "# based on these cols we will recommend movie to someone \n",
    "\n",
    "movies = movies[['movie_id', 'title', 'overview', 'genres', 'keywords', 'cast', 'crew']]"
   ]
  },
  {
   "cell_type": "code",
   "execution_count": 9,
   "id": "63c1c76b",
   "metadata": {},
   "outputs": [
    {
     "data": {
      "text/html": [
       "<div>\n",
       "<style scoped>\n",
       "    .dataframe tbody tr th:only-of-type {\n",
       "        vertical-align: middle;\n",
       "    }\n",
       "\n",
       "    .dataframe tbody tr th {\n",
       "        vertical-align: top;\n",
       "    }\n",
       "\n",
       "    .dataframe thead th {\n",
       "        text-align: right;\n",
       "    }\n",
       "</style>\n",
       "<table border=\"1\" class=\"dataframe\">\n",
       "  <thead>\n",
       "    <tr style=\"text-align: right;\">\n",
       "      <th></th>\n",
       "      <th>movie_id</th>\n",
       "      <th>title</th>\n",
       "      <th>overview</th>\n",
       "      <th>genres</th>\n",
       "      <th>keywords</th>\n",
       "      <th>cast</th>\n",
       "      <th>crew</th>\n",
       "    </tr>\n",
       "  </thead>\n",
       "  <tbody>\n",
       "    <tr>\n",
       "      <th>0</th>\n",
       "      <td>19995</td>\n",
       "      <td>Avatar</td>\n",
       "      <td>In the 22nd century, a paraplegic Marine is di...</td>\n",
       "      <td>[{\"id\": 28, \"name\": \"Action\"}, {\"id\": 12, \"nam...</td>\n",
       "      <td>[{\"id\": 1463, \"name\": \"culture clash\"}, {\"id\":...</td>\n",
       "      <td>[{\"cast_id\": 242, \"character\": \"Jake Sully\", \"...</td>\n",
       "      <td>[{\"credit_id\": \"52fe48009251416c750aca23\", \"de...</td>\n",
       "    </tr>\n",
       "  </tbody>\n",
       "</table>\n",
       "</div>"
      ],
      "text/plain": [
       "   movie_id   title                                           overview  \\\n",
       "0     19995  Avatar  In the 22nd century, a paraplegic Marine is di...   \n",
       "\n",
       "                                              genres  \\\n",
       "0  [{\"id\": 28, \"name\": \"Action\"}, {\"id\": 12, \"nam...   \n",
       "\n",
       "                                            keywords  \\\n",
       "0  [{\"id\": 1463, \"name\": \"culture clash\"}, {\"id\":...   \n",
       "\n",
       "                                                cast  \\\n",
       "0  [{\"cast_id\": 242, \"character\": \"Jake Sully\", \"...   \n",
       "\n",
       "                                                crew  \n",
       "0  [{\"credit_id\": \"52fe48009251416c750aca23\", \"de...  "
      ]
     },
     "execution_count": 9,
     "metadata": {},
     "output_type": "execute_result"
    }
   ],
   "source": [
    "movies.head(1)"
   ]
  },
  {
   "cell_type": "code",
   "execution_count": 10,
   "id": "80281595",
   "metadata": {},
   "outputs": [
    {
     "data": {
      "text/plain": [
       "movie_id    0\n",
       "title       0\n",
       "overview    3\n",
       "genres      0\n",
       "keywords    0\n",
       "cast        0\n",
       "crew        0\n",
       "dtype: int64"
      ]
     },
     "execution_count": 10,
     "metadata": {},
     "output_type": "execute_result"
    }
   ],
   "source": [
    "movies.isnull().sum()"
   ]
  },
  {
   "cell_type": "code",
   "execution_count": 11,
   "id": "bc5e3a9d",
   "metadata": {},
   "outputs": [],
   "source": [
    "movies.dropna(inplace = True)"
   ]
  },
  {
   "cell_type": "code",
   "execution_count": 12,
   "id": "be87ccd9",
   "metadata": {},
   "outputs": [
    {
     "data": {
      "text/plain": [
       "0"
      ]
     },
     "execution_count": 12,
     "metadata": {},
     "output_type": "execute_result"
    }
   ],
   "source": [
    "movies.duplicated().sum()"
   ]
  },
  {
   "cell_type": "code",
   "execution_count": 13,
   "id": "b3a5150a",
   "metadata": {},
   "outputs": [
    {
     "data": {
      "text/plain": [
       "'[{\"id\": 28, \"name\": \"Action\"}, {\"id\": 12, \"name\": \"Adventure\"}, {\"id\": 14, \"name\": \"Fantasy\"}, {\"id\": 878, \"name\": \"Science Fiction\"}]'"
      ]
     },
     "execution_count": 13,
     "metadata": {},
     "output_type": "execute_result"
    }
   ],
   "source": [
    "movies.iloc[0].genres"
   ]
  },
  {
   "cell_type": "code",
   "execution_count": 14,
   "id": "aa69bced",
   "metadata": {},
   "outputs": [],
   "source": [
    "#'[{\"id\": 28, \"name\": \"Action\"}, {\"id\": 12, \"name\": \"Adventure\"}, {\"id\": 14, \"name\": \"Fantasy\"}, {\"id\": 878, \"name\": \"Science Fiction\"}]'\n",
    "# wee need to convert this to \n",
    "# ['Action', 'Adventure', 'Fantasy', 'SciFi']\n",
    "# this format "
   ]
  },
  {
   "cell_type": "code",
   "execution_count": 15,
   "id": "bdc3bad4",
   "metadata": {},
   "outputs": [],
   "source": [
    "def convert(obj):\n",
    "    L = []\n",
    "    for i in ast.literal_eval(obj):\n",
    "        L.append(i['name'])\n",
    "    return L"
   ]
  },
  {
   "cell_type": "code",
   "execution_count": 16,
   "id": "dba09f3e",
   "metadata": {},
   "outputs": [],
   "source": [
    "# the list we have is originally string but we need to convert this string of list to simplelist \n",
    "# for this we will use \n",
    "# import ast \n",
    "# ast.literal_eval('[{\"id\": 28, \"name\": \"Action\"}, {\"id\": 12, \"name\": \"Adventure\"}, {\"id\": 14, \"name\": \"Fantasy\"}, {\"id\": 878, \"name\": \"Science Fiction\"}]')\n"
   ]
  },
  {
   "cell_type": "code",
   "execution_count": 17,
   "id": "75883aba",
   "metadata": {},
   "outputs": [
    {
     "ename": "NameError",
     "evalue": "name 'ast' is not defined",
     "output_type": "error",
     "traceback": [
      "\u001b[1;31m---------------------------------------------------------------------------\u001b[0m",
      "\u001b[1;31mNameError\u001b[0m                                 Traceback (most recent call last)",
      "Cell \u001b[1;32mIn[17], line 1\u001b[0m\n\u001b[1;32m----> 1\u001b[0m movies[\u001b[38;5;124m'\u001b[39m\u001b[38;5;124mgenres\u001b[39m\u001b[38;5;124m'\u001b[39m] \u001b[38;5;241m=\u001b[39m \u001b[43mmovies\u001b[49m\u001b[43m[\u001b[49m\u001b[38;5;124;43m'\u001b[39;49m\u001b[38;5;124;43mgenres\u001b[39;49m\u001b[38;5;124;43m'\u001b[39;49m\u001b[43m]\u001b[49m\u001b[38;5;241;43m.\u001b[39;49m\u001b[43mapply\u001b[49m\u001b[43m(\u001b[49m\u001b[43mconvert\u001b[49m\u001b[43m)\u001b[49m\n",
      "File \u001b[1;32m~\\AppData\\Roaming\\Python\\Python311\\site-packages\\pandas\\core\\series.py:4771\u001b[0m, in \u001b[0;36mSeries.apply\u001b[1;34m(self, func, convert_dtype, args, **kwargs)\u001b[0m\n\u001b[0;32m   4661\u001b[0m \u001b[38;5;28;01mdef\u001b[39;00m \u001b[38;5;21mapply\u001b[39m(\n\u001b[0;32m   4662\u001b[0m     \u001b[38;5;28mself\u001b[39m,\n\u001b[0;32m   4663\u001b[0m     func: AggFuncType,\n\u001b[1;32m   (...)\u001b[0m\n\u001b[0;32m   4666\u001b[0m     \u001b[38;5;241m*\u001b[39m\u001b[38;5;241m*\u001b[39mkwargs,\n\u001b[0;32m   4667\u001b[0m ) \u001b[38;5;241m-\u001b[39m\u001b[38;5;241m>\u001b[39m DataFrame \u001b[38;5;241m|\u001b[39m Series:\n\u001b[0;32m   4668\u001b[0m \u001b[38;5;250m    \u001b[39m\u001b[38;5;124;03m\"\"\"\u001b[39;00m\n\u001b[0;32m   4669\u001b[0m \u001b[38;5;124;03m    Invoke function on values of Series.\u001b[39;00m\n\u001b[0;32m   4670\u001b[0m \n\u001b[1;32m   (...)\u001b[0m\n\u001b[0;32m   4769\u001b[0m \u001b[38;5;124;03m    dtype: float64\u001b[39;00m\n\u001b[0;32m   4770\u001b[0m \u001b[38;5;124;03m    \"\"\"\u001b[39;00m\n\u001b[1;32m-> 4771\u001b[0m     \u001b[38;5;28;01mreturn\u001b[39;00m \u001b[43mSeriesApply\u001b[49m\u001b[43m(\u001b[49m\u001b[38;5;28;43mself\u001b[39;49m\u001b[43m,\u001b[49m\u001b[43m \u001b[49m\u001b[43mfunc\u001b[49m\u001b[43m,\u001b[49m\u001b[43m \u001b[49m\u001b[43mconvert_dtype\u001b[49m\u001b[43m,\u001b[49m\u001b[43m \u001b[49m\u001b[43margs\u001b[49m\u001b[43m,\u001b[49m\u001b[43m \u001b[49m\u001b[43mkwargs\u001b[49m\u001b[43m)\u001b[49m\u001b[38;5;241;43m.\u001b[39;49m\u001b[43mapply\u001b[49m\u001b[43m(\u001b[49m\u001b[43m)\u001b[49m\n",
      "File \u001b[1;32m~\\AppData\\Roaming\\Python\\Python311\\site-packages\\pandas\\core\\apply.py:1123\u001b[0m, in \u001b[0;36mSeriesApply.apply\u001b[1;34m(self)\u001b[0m\n\u001b[0;32m   1120\u001b[0m     \u001b[38;5;28;01mreturn\u001b[39;00m \u001b[38;5;28mself\u001b[39m\u001b[38;5;241m.\u001b[39mapply_str()\n\u001b[0;32m   1122\u001b[0m \u001b[38;5;66;03m# self.f is Callable\u001b[39;00m\n\u001b[1;32m-> 1123\u001b[0m \u001b[38;5;28;01mreturn\u001b[39;00m \u001b[38;5;28;43mself\u001b[39;49m\u001b[38;5;241;43m.\u001b[39;49m\u001b[43mapply_standard\u001b[49m\u001b[43m(\u001b[49m\u001b[43m)\u001b[49m\n",
      "File \u001b[1;32m~\\AppData\\Roaming\\Python\\Python311\\site-packages\\pandas\\core\\apply.py:1174\u001b[0m, in \u001b[0;36mSeriesApply.apply_standard\u001b[1;34m(self)\u001b[0m\n\u001b[0;32m   1172\u001b[0m     \u001b[38;5;28;01melse\u001b[39;00m:\n\u001b[0;32m   1173\u001b[0m         values \u001b[38;5;241m=\u001b[39m obj\u001b[38;5;241m.\u001b[39mastype(\u001b[38;5;28mobject\u001b[39m)\u001b[38;5;241m.\u001b[39m_values\n\u001b[1;32m-> 1174\u001b[0m         mapped \u001b[38;5;241m=\u001b[39m \u001b[43mlib\u001b[49m\u001b[38;5;241;43m.\u001b[39;49m\u001b[43mmap_infer\u001b[49m\u001b[43m(\u001b[49m\n\u001b[0;32m   1175\u001b[0m \u001b[43m            \u001b[49m\u001b[43mvalues\u001b[49m\u001b[43m,\u001b[49m\n\u001b[0;32m   1176\u001b[0m \u001b[43m            \u001b[49m\u001b[43mf\u001b[49m\u001b[43m,\u001b[49m\n\u001b[0;32m   1177\u001b[0m \u001b[43m            \u001b[49m\u001b[43mconvert\u001b[49m\u001b[38;5;241;43m=\u001b[39;49m\u001b[38;5;28;43mself\u001b[39;49m\u001b[38;5;241;43m.\u001b[39;49m\u001b[43mconvert_dtype\u001b[49m\u001b[43m,\u001b[49m\n\u001b[0;32m   1178\u001b[0m \u001b[43m        \u001b[49m\u001b[43m)\u001b[49m\n\u001b[0;32m   1180\u001b[0m \u001b[38;5;28;01mif\u001b[39;00m \u001b[38;5;28mlen\u001b[39m(mapped) \u001b[38;5;129;01mand\u001b[39;00m \u001b[38;5;28misinstance\u001b[39m(mapped[\u001b[38;5;241m0\u001b[39m], ABCSeries):\n\u001b[0;32m   1181\u001b[0m     \u001b[38;5;66;03m# GH#43986 Need to do list(mapped) in order to get treated as nested\u001b[39;00m\n\u001b[0;32m   1182\u001b[0m     \u001b[38;5;66;03m#  See also GH#25959 regarding EA support\u001b[39;00m\n\u001b[0;32m   1183\u001b[0m     \u001b[38;5;28;01mreturn\u001b[39;00m obj\u001b[38;5;241m.\u001b[39m_constructor_expanddim(\u001b[38;5;28mlist\u001b[39m(mapped), index\u001b[38;5;241m=\u001b[39mobj\u001b[38;5;241m.\u001b[39mindex)\n",
      "File \u001b[1;32m~\\AppData\\Roaming\\Python\\Python311\\site-packages\\pandas\\_libs\\lib.pyx:2924\u001b[0m, in \u001b[0;36mpandas._libs.lib.map_infer\u001b[1;34m()\u001b[0m\n",
      "Cell \u001b[1;32mIn[15], line 3\u001b[0m, in \u001b[0;36mconvert\u001b[1;34m(obj)\u001b[0m\n\u001b[0;32m      1\u001b[0m \u001b[38;5;28;01mdef\u001b[39;00m \u001b[38;5;21mconvert\u001b[39m(obj):\n\u001b[0;32m      2\u001b[0m     L \u001b[38;5;241m=\u001b[39m []\n\u001b[1;32m----> 3\u001b[0m     \u001b[38;5;28;01mfor\u001b[39;00m i \u001b[38;5;129;01min\u001b[39;00m \u001b[43mast\u001b[49m\u001b[38;5;241m.\u001b[39mliteral_eval(obj):\n\u001b[0;32m      4\u001b[0m         L\u001b[38;5;241m.\u001b[39mappend(i[\u001b[38;5;124m'\u001b[39m\u001b[38;5;124mname\u001b[39m\u001b[38;5;124m'\u001b[39m])\n\u001b[0;32m      5\u001b[0m     \u001b[38;5;28;01mreturn\u001b[39;00m L\n",
      "\u001b[1;31mNameError\u001b[0m: name 'ast' is not defined"
     ]
    }
   ],
   "source": [
    "movies['genres'] = movies['genres'].apply(convert)"
   ]
  },
  {
   "cell_type": "code",
   "execution_count": 24,
   "id": "e04c611f",
   "metadata": {},
   "outputs": [
    {
     "data": {
      "text/html": [
       "<div>\n",
       "<style scoped>\n",
       "    .dataframe tbody tr th:only-of-type {\n",
       "        vertical-align: middle;\n",
       "    }\n",
       "\n",
       "    .dataframe tbody tr th {\n",
       "        vertical-align: top;\n",
       "    }\n",
       "\n",
       "    .dataframe thead th {\n",
       "        text-align: right;\n",
       "    }\n",
       "</style>\n",
       "<table border=\"1\" class=\"dataframe\">\n",
       "  <thead>\n",
       "    <tr style=\"text-align: right;\">\n",
       "      <th></th>\n",
       "      <th>movie_id</th>\n",
       "      <th>title</th>\n",
       "      <th>overview</th>\n",
       "      <th>genres</th>\n",
       "      <th>keywords</th>\n",
       "      <th>cast</th>\n",
       "      <th>crew</th>\n",
       "    </tr>\n",
       "  </thead>\n",
       "  <tbody>\n",
       "    <tr>\n",
       "      <th>0</th>\n",
       "      <td>19995</td>\n",
       "      <td>Avatar</td>\n",
       "      <td>In the 22nd century, a paraplegic Marine is di...</td>\n",
       "      <td>[{\"id\": 28, \"name\": \"Action\"}, {\"id\": 12, \"nam...</td>\n",
       "      <td>[{\"id\": 1463, \"name\": \"culture clash\"}, {\"id\":...</td>\n",
       "      <td>[{\"cast_id\": 242, \"character\": \"Jake Sully\", \"...</td>\n",
       "      <td>[{\"credit_id\": \"52fe48009251416c750aca23\", \"de...</td>\n",
       "    </tr>\n",
       "    <tr>\n",
       "      <th>1</th>\n",
       "      <td>285</td>\n",
       "      <td>Pirates of the Caribbean: At World's End</td>\n",
       "      <td>Captain Barbossa, long believed to be dead, ha...</td>\n",
       "      <td>[{\"id\": 12, \"name\": \"Adventure\"}, {\"id\": 14, \"...</td>\n",
       "      <td>[{\"id\": 270, \"name\": \"ocean\"}, {\"id\": 726, \"na...</td>\n",
       "      <td>[{\"cast_id\": 4, \"character\": \"Captain Jack Spa...</td>\n",
       "      <td>[{\"credit_id\": \"52fe4232c3a36847f800b579\", \"de...</td>\n",
       "    </tr>\n",
       "    <tr>\n",
       "      <th>2</th>\n",
       "      <td>206647</td>\n",
       "      <td>Spectre</td>\n",
       "      <td>A cryptic message from Bond’s past sends him o...</td>\n",
       "      <td>[{\"id\": 28, \"name\": \"Action\"}, {\"id\": 12, \"nam...</td>\n",
       "      <td>[{\"id\": 470, \"name\": \"spy\"}, {\"id\": 818, \"name...</td>\n",
       "      <td>[{\"cast_id\": 1, \"character\": \"James Bond\", \"cr...</td>\n",
       "      <td>[{\"credit_id\": \"54805967c3a36829b5002c41\", \"de...</td>\n",
       "    </tr>\n",
       "    <tr>\n",
       "      <th>3</th>\n",
       "      <td>49026</td>\n",
       "      <td>The Dark Knight Rises</td>\n",
       "      <td>Following the death of District Attorney Harve...</td>\n",
       "      <td>[{\"id\": 28, \"name\": \"Action\"}, {\"id\": 80, \"nam...</td>\n",
       "      <td>[{\"id\": 849, \"name\": \"dc comics\"}, {\"id\": 853,...</td>\n",
       "      <td>[{\"cast_id\": 2, \"character\": \"Bruce Wayne / Ba...</td>\n",
       "      <td>[{\"credit_id\": \"52fe4781c3a36847f81398c3\", \"de...</td>\n",
       "    </tr>\n",
       "    <tr>\n",
       "      <th>4</th>\n",
       "      <td>49529</td>\n",
       "      <td>John Carter</td>\n",
       "      <td>John Carter is a war-weary, former military ca...</td>\n",
       "      <td>[{\"id\": 28, \"name\": \"Action\"}, {\"id\": 12, \"nam...</td>\n",
       "      <td>[{\"id\": 818, \"name\": \"based on novel\"}, {\"id\":...</td>\n",
       "      <td>[{\"cast_id\": 5, \"character\": \"John Carter\", \"c...</td>\n",
       "      <td>[{\"credit_id\": \"52fe479ac3a36847f813eaa3\", \"de...</td>\n",
       "    </tr>\n",
       "  </tbody>\n",
       "</table>\n",
       "</div>"
      ],
      "text/plain": [
       "   movie_id                                     title  \\\n",
       "0     19995                                    Avatar   \n",
       "1       285  Pirates of the Caribbean: At World's End   \n",
       "2    206647                                   Spectre   \n",
       "3     49026                     The Dark Knight Rises   \n",
       "4     49529                               John Carter   \n",
       "\n",
       "                                            overview  \\\n",
       "0  In the 22nd century, a paraplegic Marine is di...   \n",
       "1  Captain Barbossa, long believed to be dead, ha...   \n",
       "2  A cryptic message from Bond’s past sends him o...   \n",
       "3  Following the death of District Attorney Harve...   \n",
       "4  John Carter is a war-weary, former military ca...   \n",
       "\n",
       "                                              genres  \\\n",
       "0  [{\"id\": 28, \"name\": \"Action\"}, {\"id\": 12, \"nam...   \n",
       "1  [{\"id\": 12, \"name\": \"Adventure\"}, {\"id\": 14, \"...   \n",
       "2  [{\"id\": 28, \"name\": \"Action\"}, {\"id\": 12, \"nam...   \n",
       "3  [{\"id\": 28, \"name\": \"Action\"}, {\"id\": 80, \"nam...   \n",
       "4  [{\"id\": 28, \"name\": \"Action\"}, {\"id\": 12, \"nam...   \n",
       "\n",
       "                                            keywords  \\\n",
       "0  [{\"id\": 1463, \"name\": \"culture clash\"}, {\"id\":...   \n",
       "1  [{\"id\": 270, \"name\": \"ocean\"}, {\"id\": 726, \"na...   \n",
       "2  [{\"id\": 470, \"name\": \"spy\"}, {\"id\": 818, \"name...   \n",
       "3  [{\"id\": 849, \"name\": \"dc comics\"}, {\"id\": 853,...   \n",
       "4  [{\"id\": 818, \"name\": \"based on novel\"}, {\"id\":...   \n",
       "\n",
       "                                                cast  \\\n",
       "0  [{\"cast_id\": 242, \"character\": \"Jake Sully\", \"...   \n",
       "1  [{\"cast_id\": 4, \"character\": \"Captain Jack Spa...   \n",
       "2  [{\"cast_id\": 1, \"character\": \"James Bond\", \"cr...   \n",
       "3  [{\"cast_id\": 2, \"character\": \"Bruce Wayne / Ba...   \n",
       "4  [{\"cast_id\": 5, \"character\": \"John Carter\", \"c...   \n",
       "\n",
       "                                                crew  \n",
       "0  [{\"credit_id\": \"52fe48009251416c750aca23\", \"de...  \n",
       "1  [{\"credit_id\": \"52fe4232c3a36847f800b579\", \"de...  \n",
       "2  [{\"credit_id\": \"54805967c3a36829b5002c41\", \"de...  \n",
       "3  [{\"credit_id\": \"52fe4781c3a36847f81398c3\", \"de...  \n",
       "4  [{\"credit_id\": \"52fe479ac3a36847f813eaa3\", \"de...  "
      ]
     },
     "execution_count": 24,
     "metadata": {},
     "output_type": "execute_result"
    }
   ],
   "source": [
    "movies.head()"
   ]
  },
  {
   "cell_type": "code",
   "execution_count": 25,
   "id": "81bfbd19",
   "metadata": {},
   "outputs": [
    {
     "ename": "NameError",
     "evalue": "name 'ast' is not defined",
     "output_type": "error",
     "traceback": [
      "\u001b[1;31m---------------------------------------------------------------------------\u001b[0m",
      "\u001b[1;31mNameError\u001b[0m                                 Traceback (most recent call last)",
      "Cell \u001b[1;32mIn[25], line 1\u001b[0m\n\u001b[1;32m----> 1\u001b[0m movies[\u001b[38;5;124m'\u001b[39m\u001b[38;5;124mkeywords\u001b[39m\u001b[38;5;124m'\u001b[39m] \u001b[38;5;241m=\u001b[39m \u001b[43mmovies\u001b[49m\u001b[43m[\u001b[49m\u001b[38;5;124;43m'\u001b[39;49m\u001b[38;5;124;43mkeywords\u001b[39;49m\u001b[38;5;124;43m'\u001b[39;49m\u001b[43m]\u001b[49m\u001b[38;5;241;43m.\u001b[39;49m\u001b[43mapply\u001b[49m\u001b[43m(\u001b[49m\u001b[43mconvert\u001b[49m\u001b[43m)\u001b[49m\n",
      "File \u001b[1;32m~\\AppData\\Roaming\\Python\\Python311\\site-packages\\pandas\\core\\series.py:4771\u001b[0m, in \u001b[0;36mSeries.apply\u001b[1;34m(self, func, convert_dtype, args, **kwargs)\u001b[0m\n\u001b[0;32m   4661\u001b[0m \u001b[38;5;28;01mdef\u001b[39;00m \u001b[38;5;21mapply\u001b[39m(\n\u001b[0;32m   4662\u001b[0m     \u001b[38;5;28mself\u001b[39m,\n\u001b[0;32m   4663\u001b[0m     func: AggFuncType,\n\u001b[1;32m   (...)\u001b[0m\n\u001b[0;32m   4666\u001b[0m     \u001b[38;5;241m*\u001b[39m\u001b[38;5;241m*\u001b[39mkwargs,\n\u001b[0;32m   4667\u001b[0m ) \u001b[38;5;241m-\u001b[39m\u001b[38;5;241m>\u001b[39m DataFrame \u001b[38;5;241m|\u001b[39m Series:\n\u001b[0;32m   4668\u001b[0m \u001b[38;5;250m    \u001b[39m\u001b[38;5;124;03m\"\"\"\u001b[39;00m\n\u001b[0;32m   4669\u001b[0m \u001b[38;5;124;03m    Invoke function on values of Series.\u001b[39;00m\n\u001b[0;32m   4670\u001b[0m \n\u001b[1;32m   (...)\u001b[0m\n\u001b[0;32m   4769\u001b[0m \u001b[38;5;124;03m    dtype: float64\u001b[39;00m\n\u001b[0;32m   4770\u001b[0m \u001b[38;5;124;03m    \"\"\"\u001b[39;00m\n\u001b[1;32m-> 4771\u001b[0m     \u001b[38;5;28;01mreturn\u001b[39;00m \u001b[43mSeriesApply\u001b[49m\u001b[43m(\u001b[49m\u001b[38;5;28;43mself\u001b[39;49m\u001b[43m,\u001b[49m\u001b[43m \u001b[49m\u001b[43mfunc\u001b[49m\u001b[43m,\u001b[49m\u001b[43m \u001b[49m\u001b[43mconvert_dtype\u001b[49m\u001b[43m,\u001b[49m\u001b[43m \u001b[49m\u001b[43margs\u001b[49m\u001b[43m,\u001b[49m\u001b[43m \u001b[49m\u001b[43mkwargs\u001b[49m\u001b[43m)\u001b[49m\u001b[38;5;241;43m.\u001b[39;49m\u001b[43mapply\u001b[49m\u001b[43m(\u001b[49m\u001b[43m)\u001b[49m\n",
      "File \u001b[1;32m~\\AppData\\Roaming\\Python\\Python311\\site-packages\\pandas\\core\\apply.py:1123\u001b[0m, in \u001b[0;36mSeriesApply.apply\u001b[1;34m(self)\u001b[0m\n\u001b[0;32m   1120\u001b[0m     \u001b[38;5;28;01mreturn\u001b[39;00m \u001b[38;5;28mself\u001b[39m\u001b[38;5;241m.\u001b[39mapply_str()\n\u001b[0;32m   1122\u001b[0m \u001b[38;5;66;03m# self.f is Callable\u001b[39;00m\n\u001b[1;32m-> 1123\u001b[0m \u001b[38;5;28;01mreturn\u001b[39;00m \u001b[38;5;28;43mself\u001b[39;49m\u001b[38;5;241;43m.\u001b[39;49m\u001b[43mapply_standard\u001b[49m\u001b[43m(\u001b[49m\u001b[43m)\u001b[49m\n",
      "File \u001b[1;32m~\\AppData\\Roaming\\Python\\Python311\\site-packages\\pandas\\core\\apply.py:1174\u001b[0m, in \u001b[0;36mSeriesApply.apply_standard\u001b[1;34m(self)\u001b[0m\n\u001b[0;32m   1172\u001b[0m     \u001b[38;5;28;01melse\u001b[39;00m:\n\u001b[0;32m   1173\u001b[0m         values \u001b[38;5;241m=\u001b[39m obj\u001b[38;5;241m.\u001b[39mastype(\u001b[38;5;28mobject\u001b[39m)\u001b[38;5;241m.\u001b[39m_values\n\u001b[1;32m-> 1174\u001b[0m         mapped \u001b[38;5;241m=\u001b[39m \u001b[43mlib\u001b[49m\u001b[38;5;241;43m.\u001b[39;49m\u001b[43mmap_infer\u001b[49m\u001b[43m(\u001b[49m\n\u001b[0;32m   1175\u001b[0m \u001b[43m            \u001b[49m\u001b[43mvalues\u001b[49m\u001b[43m,\u001b[49m\n\u001b[0;32m   1176\u001b[0m \u001b[43m            \u001b[49m\u001b[43mf\u001b[49m\u001b[43m,\u001b[49m\n\u001b[0;32m   1177\u001b[0m \u001b[43m            \u001b[49m\u001b[43mconvert\u001b[49m\u001b[38;5;241;43m=\u001b[39;49m\u001b[38;5;28;43mself\u001b[39;49m\u001b[38;5;241;43m.\u001b[39;49m\u001b[43mconvert_dtype\u001b[49m\u001b[43m,\u001b[49m\n\u001b[0;32m   1178\u001b[0m \u001b[43m        \u001b[49m\u001b[43m)\u001b[49m\n\u001b[0;32m   1180\u001b[0m \u001b[38;5;28;01mif\u001b[39;00m \u001b[38;5;28mlen\u001b[39m(mapped) \u001b[38;5;129;01mand\u001b[39;00m \u001b[38;5;28misinstance\u001b[39m(mapped[\u001b[38;5;241m0\u001b[39m], ABCSeries):\n\u001b[0;32m   1181\u001b[0m     \u001b[38;5;66;03m# GH#43986 Need to do list(mapped) in order to get treated as nested\u001b[39;00m\n\u001b[0;32m   1182\u001b[0m     \u001b[38;5;66;03m#  See also GH#25959 regarding EA support\u001b[39;00m\n\u001b[0;32m   1183\u001b[0m     \u001b[38;5;28;01mreturn\u001b[39;00m obj\u001b[38;5;241m.\u001b[39m_constructor_expanddim(\u001b[38;5;28mlist\u001b[39m(mapped), index\u001b[38;5;241m=\u001b[39mobj\u001b[38;5;241m.\u001b[39mindex)\n",
      "File \u001b[1;32m~\\AppData\\Roaming\\Python\\Python311\\site-packages\\pandas\\_libs\\lib.pyx:2924\u001b[0m, in \u001b[0;36mpandas._libs.lib.map_infer\u001b[1;34m()\u001b[0m\n",
      "Cell \u001b[1;32mIn[15], line 3\u001b[0m, in \u001b[0;36mconvert\u001b[1;34m(obj)\u001b[0m\n\u001b[0;32m      1\u001b[0m \u001b[38;5;28;01mdef\u001b[39;00m \u001b[38;5;21mconvert\u001b[39m(obj):\n\u001b[0;32m      2\u001b[0m     L \u001b[38;5;241m=\u001b[39m []\n\u001b[1;32m----> 3\u001b[0m     \u001b[38;5;28;01mfor\u001b[39;00m i \u001b[38;5;129;01min\u001b[39;00m \u001b[43mast\u001b[49m\u001b[38;5;241m.\u001b[39mliteral_eval(obj):\n\u001b[0;32m      4\u001b[0m         L\u001b[38;5;241m.\u001b[39mappend(i[\u001b[38;5;124m'\u001b[39m\u001b[38;5;124mname\u001b[39m\u001b[38;5;124m'\u001b[39m])\n\u001b[0;32m      5\u001b[0m     \u001b[38;5;28;01mreturn\u001b[39;00m L\n",
      "\u001b[1;31mNameError\u001b[0m: name 'ast' is not defined"
     ]
    }
   ],
   "source": [
    "movies['keywords'] = movies['keywords'].apply(convert)"
   ]
  },
  {
   "cell_type": "code",
   "execution_count": 26,
   "id": "6ee8a514",
   "metadata": {},
   "outputs": [
    {
     "data": {
      "text/html": [
       "<div>\n",
       "<style scoped>\n",
       "    .dataframe tbody tr th:only-of-type {\n",
       "        vertical-align: middle;\n",
       "    }\n",
       "\n",
       "    .dataframe tbody tr th {\n",
       "        vertical-align: top;\n",
       "    }\n",
       "\n",
       "    .dataframe thead th {\n",
       "        text-align: right;\n",
       "    }\n",
       "</style>\n",
       "<table border=\"1\" class=\"dataframe\">\n",
       "  <thead>\n",
       "    <tr style=\"text-align: right;\">\n",
       "      <th></th>\n",
       "      <th>movie_id</th>\n",
       "      <th>title</th>\n",
       "      <th>overview</th>\n",
       "      <th>genres</th>\n",
       "      <th>keywords</th>\n",
       "      <th>cast</th>\n",
       "      <th>crew</th>\n",
       "    </tr>\n",
       "  </thead>\n",
       "  <tbody>\n",
       "    <tr>\n",
       "      <th>0</th>\n",
       "      <td>19995</td>\n",
       "      <td>Avatar</td>\n",
       "      <td>In the 22nd century, a paraplegic Marine is di...</td>\n",
       "      <td>[{\"id\": 28, \"name\": \"Action\"}, {\"id\": 12, \"nam...</td>\n",
       "      <td>[{\"id\": 1463, \"name\": \"culture clash\"}, {\"id\":...</td>\n",
       "      <td>[{\"cast_id\": 242, \"character\": \"Jake Sully\", \"...</td>\n",
       "      <td>[{\"credit_id\": \"52fe48009251416c750aca23\", \"de...</td>\n",
       "    </tr>\n",
       "    <tr>\n",
       "      <th>1</th>\n",
       "      <td>285</td>\n",
       "      <td>Pirates of the Caribbean: At World's End</td>\n",
       "      <td>Captain Barbossa, long believed to be dead, ha...</td>\n",
       "      <td>[{\"id\": 12, \"name\": \"Adventure\"}, {\"id\": 14, \"...</td>\n",
       "      <td>[{\"id\": 270, \"name\": \"ocean\"}, {\"id\": 726, \"na...</td>\n",
       "      <td>[{\"cast_id\": 4, \"character\": \"Captain Jack Spa...</td>\n",
       "      <td>[{\"credit_id\": \"52fe4232c3a36847f800b579\", \"de...</td>\n",
       "    </tr>\n",
       "    <tr>\n",
       "      <th>2</th>\n",
       "      <td>206647</td>\n",
       "      <td>Spectre</td>\n",
       "      <td>A cryptic message from Bond’s past sends him o...</td>\n",
       "      <td>[{\"id\": 28, \"name\": \"Action\"}, {\"id\": 12, \"nam...</td>\n",
       "      <td>[{\"id\": 470, \"name\": \"spy\"}, {\"id\": 818, \"name...</td>\n",
       "      <td>[{\"cast_id\": 1, \"character\": \"James Bond\", \"cr...</td>\n",
       "      <td>[{\"credit_id\": \"54805967c3a36829b5002c41\", \"de...</td>\n",
       "    </tr>\n",
       "    <tr>\n",
       "      <th>3</th>\n",
       "      <td>49026</td>\n",
       "      <td>The Dark Knight Rises</td>\n",
       "      <td>Following the death of District Attorney Harve...</td>\n",
       "      <td>[{\"id\": 28, \"name\": \"Action\"}, {\"id\": 80, \"nam...</td>\n",
       "      <td>[{\"id\": 849, \"name\": \"dc comics\"}, {\"id\": 853,...</td>\n",
       "      <td>[{\"cast_id\": 2, \"character\": \"Bruce Wayne / Ba...</td>\n",
       "      <td>[{\"credit_id\": \"52fe4781c3a36847f81398c3\", \"de...</td>\n",
       "    </tr>\n",
       "    <tr>\n",
       "      <th>4</th>\n",
       "      <td>49529</td>\n",
       "      <td>John Carter</td>\n",
       "      <td>John Carter is a war-weary, former military ca...</td>\n",
       "      <td>[{\"id\": 28, \"name\": \"Action\"}, {\"id\": 12, \"nam...</td>\n",
       "      <td>[{\"id\": 818, \"name\": \"based on novel\"}, {\"id\":...</td>\n",
       "      <td>[{\"cast_id\": 5, \"character\": \"John Carter\", \"c...</td>\n",
       "      <td>[{\"credit_id\": \"52fe479ac3a36847f813eaa3\", \"de...</td>\n",
       "    </tr>\n",
       "  </tbody>\n",
       "</table>\n",
       "</div>"
      ],
      "text/plain": [
       "   movie_id                                     title  \\\n",
       "0     19995                                    Avatar   \n",
       "1       285  Pirates of the Caribbean: At World's End   \n",
       "2    206647                                   Spectre   \n",
       "3     49026                     The Dark Knight Rises   \n",
       "4     49529                               John Carter   \n",
       "\n",
       "                                            overview  \\\n",
       "0  In the 22nd century, a paraplegic Marine is di...   \n",
       "1  Captain Barbossa, long believed to be dead, ha...   \n",
       "2  A cryptic message from Bond’s past sends him o...   \n",
       "3  Following the death of District Attorney Harve...   \n",
       "4  John Carter is a war-weary, former military ca...   \n",
       "\n",
       "                                              genres  \\\n",
       "0  [{\"id\": 28, \"name\": \"Action\"}, {\"id\": 12, \"nam...   \n",
       "1  [{\"id\": 12, \"name\": \"Adventure\"}, {\"id\": 14, \"...   \n",
       "2  [{\"id\": 28, \"name\": \"Action\"}, {\"id\": 12, \"nam...   \n",
       "3  [{\"id\": 28, \"name\": \"Action\"}, {\"id\": 80, \"nam...   \n",
       "4  [{\"id\": 28, \"name\": \"Action\"}, {\"id\": 12, \"nam...   \n",
       "\n",
       "                                            keywords  \\\n",
       "0  [{\"id\": 1463, \"name\": \"culture clash\"}, {\"id\":...   \n",
       "1  [{\"id\": 270, \"name\": \"ocean\"}, {\"id\": 726, \"na...   \n",
       "2  [{\"id\": 470, \"name\": \"spy\"}, {\"id\": 818, \"name...   \n",
       "3  [{\"id\": 849, \"name\": \"dc comics\"}, {\"id\": 853,...   \n",
       "4  [{\"id\": 818, \"name\": \"based on novel\"}, {\"id\":...   \n",
       "\n",
       "                                                cast  \\\n",
       "0  [{\"cast_id\": 242, \"character\": \"Jake Sully\", \"...   \n",
       "1  [{\"cast_id\": 4, \"character\": \"Captain Jack Spa...   \n",
       "2  [{\"cast_id\": 1, \"character\": \"James Bond\", \"cr...   \n",
       "3  [{\"cast_id\": 2, \"character\": \"Bruce Wayne / Ba...   \n",
       "4  [{\"cast_id\": 5, \"character\": \"John Carter\", \"c...   \n",
       "\n",
       "                                                crew  \n",
       "0  [{\"credit_id\": \"52fe48009251416c750aca23\", \"de...  \n",
       "1  [{\"credit_id\": \"52fe4232c3a36847f800b579\", \"de...  \n",
       "2  [{\"credit_id\": \"54805967c3a36829b5002c41\", \"de...  \n",
       "3  [{\"credit_id\": \"52fe4781c3a36847f81398c3\", \"de...  \n",
       "4  [{\"credit_id\": \"52fe479ac3a36847f813eaa3\", \"de...  "
      ]
     },
     "execution_count": 26,
     "metadata": {},
     "output_type": "execute_result"
    }
   ],
   "source": [
    "movies.head()"
   ]
  },
  {
   "cell_type": "code",
   "execution_count": 27,
   "id": "6d432864",
   "metadata": {},
   "outputs": [],
   "source": [
    "def convert3(obj):\n",
    "    L = []\n",
    "    counter = 0\n",
    "    for i in ast.literal_eval(obj):\n",
    "        if counter != 3:\n",
    "            L.append(i['name'])\n",
    "            counter+=1\n",
    "        else:\n",
    "            break\n",
    "    return L"
   ]
  },
  {
   "cell_type": "code",
   "execution_count": 28,
   "id": "1702cc51",
   "metadata": {},
   "outputs": [
    {
     "ename": "NameError",
     "evalue": "name 'ast' is not defined",
     "output_type": "error",
     "traceback": [
      "\u001b[1;31m---------------------------------------------------------------------------\u001b[0m",
      "\u001b[1;31mNameError\u001b[0m                                 Traceback (most recent call last)",
      "Cell \u001b[1;32mIn[28], line 1\u001b[0m\n\u001b[1;32m----> 1\u001b[0m movies[\u001b[38;5;124m'\u001b[39m\u001b[38;5;124mcast\u001b[39m\u001b[38;5;124m'\u001b[39m] \u001b[38;5;241m=\u001b[39m \u001b[43mmovies\u001b[49m\u001b[43m[\u001b[49m\u001b[38;5;124;43m'\u001b[39;49m\u001b[38;5;124;43mcast\u001b[39;49m\u001b[38;5;124;43m'\u001b[39;49m\u001b[43m]\u001b[49m\u001b[38;5;241;43m.\u001b[39;49m\u001b[43mapply\u001b[49m\u001b[43m(\u001b[49m\u001b[43mconvert3\u001b[49m\u001b[43m)\u001b[49m\n",
      "File \u001b[1;32m~\\AppData\\Roaming\\Python\\Python311\\site-packages\\pandas\\core\\series.py:4771\u001b[0m, in \u001b[0;36mSeries.apply\u001b[1;34m(self, func, convert_dtype, args, **kwargs)\u001b[0m\n\u001b[0;32m   4661\u001b[0m \u001b[38;5;28;01mdef\u001b[39;00m \u001b[38;5;21mapply\u001b[39m(\n\u001b[0;32m   4662\u001b[0m     \u001b[38;5;28mself\u001b[39m,\n\u001b[0;32m   4663\u001b[0m     func: AggFuncType,\n\u001b[1;32m   (...)\u001b[0m\n\u001b[0;32m   4666\u001b[0m     \u001b[38;5;241m*\u001b[39m\u001b[38;5;241m*\u001b[39mkwargs,\n\u001b[0;32m   4667\u001b[0m ) \u001b[38;5;241m-\u001b[39m\u001b[38;5;241m>\u001b[39m DataFrame \u001b[38;5;241m|\u001b[39m Series:\n\u001b[0;32m   4668\u001b[0m \u001b[38;5;250m    \u001b[39m\u001b[38;5;124;03m\"\"\"\u001b[39;00m\n\u001b[0;32m   4669\u001b[0m \u001b[38;5;124;03m    Invoke function on values of Series.\u001b[39;00m\n\u001b[0;32m   4670\u001b[0m \n\u001b[1;32m   (...)\u001b[0m\n\u001b[0;32m   4769\u001b[0m \u001b[38;5;124;03m    dtype: float64\u001b[39;00m\n\u001b[0;32m   4770\u001b[0m \u001b[38;5;124;03m    \"\"\"\u001b[39;00m\n\u001b[1;32m-> 4771\u001b[0m     \u001b[38;5;28;01mreturn\u001b[39;00m \u001b[43mSeriesApply\u001b[49m\u001b[43m(\u001b[49m\u001b[38;5;28;43mself\u001b[39;49m\u001b[43m,\u001b[49m\u001b[43m \u001b[49m\u001b[43mfunc\u001b[49m\u001b[43m,\u001b[49m\u001b[43m \u001b[49m\u001b[43mconvert_dtype\u001b[49m\u001b[43m,\u001b[49m\u001b[43m \u001b[49m\u001b[43margs\u001b[49m\u001b[43m,\u001b[49m\u001b[43m \u001b[49m\u001b[43mkwargs\u001b[49m\u001b[43m)\u001b[49m\u001b[38;5;241;43m.\u001b[39;49m\u001b[43mapply\u001b[49m\u001b[43m(\u001b[49m\u001b[43m)\u001b[49m\n",
      "File \u001b[1;32m~\\AppData\\Roaming\\Python\\Python311\\site-packages\\pandas\\core\\apply.py:1123\u001b[0m, in \u001b[0;36mSeriesApply.apply\u001b[1;34m(self)\u001b[0m\n\u001b[0;32m   1120\u001b[0m     \u001b[38;5;28;01mreturn\u001b[39;00m \u001b[38;5;28mself\u001b[39m\u001b[38;5;241m.\u001b[39mapply_str()\n\u001b[0;32m   1122\u001b[0m \u001b[38;5;66;03m# self.f is Callable\u001b[39;00m\n\u001b[1;32m-> 1123\u001b[0m \u001b[38;5;28;01mreturn\u001b[39;00m \u001b[38;5;28;43mself\u001b[39;49m\u001b[38;5;241;43m.\u001b[39;49m\u001b[43mapply_standard\u001b[49m\u001b[43m(\u001b[49m\u001b[43m)\u001b[49m\n",
      "File \u001b[1;32m~\\AppData\\Roaming\\Python\\Python311\\site-packages\\pandas\\core\\apply.py:1174\u001b[0m, in \u001b[0;36mSeriesApply.apply_standard\u001b[1;34m(self)\u001b[0m\n\u001b[0;32m   1172\u001b[0m     \u001b[38;5;28;01melse\u001b[39;00m:\n\u001b[0;32m   1173\u001b[0m         values \u001b[38;5;241m=\u001b[39m obj\u001b[38;5;241m.\u001b[39mastype(\u001b[38;5;28mobject\u001b[39m)\u001b[38;5;241m.\u001b[39m_values\n\u001b[1;32m-> 1174\u001b[0m         mapped \u001b[38;5;241m=\u001b[39m \u001b[43mlib\u001b[49m\u001b[38;5;241;43m.\u001b[39;49m\u001b[43mmap_infer\u001b[49m\u001b[43m(\u001b[49m\n\u001b[0;32m   1175\u001b[0m \u001b[43m            \u001b[49m\u001b[43mvalues\u001b[49m\u001b[43m,\u001b[49m\n\u001b[0;32m   1176\u001b[0m \u001b[43m            \u001b[49m\u001b[43mf\u001b[49m\u001b[43m,\u001b[49m\n\u001b[0;32m   1177\u001b[0m \u001b[43m            \u001b[49m\u001b[43mconvert\u001b[49m\u001b[38;5;241;43m=\u001b[39;49m\u001b[38;5;28;43mself\u001b[39;49m\u001b[38;5;241;43m.\u001b[39;49m\u001b[43mconvert_dtype\u001b[49m\u001b[43m,\u001b[49m\n\u001b[0;32m   1178\u001b[0m \u001b[43m        \u001b[49m\u001b[43m)\u001b[49m\n\u001b[0;32m   1180\u001b[0m \u001b[38;5;28;01mif\u001b[39;00m \u001b[38;5;28mlen\u001b[39m(mapped) \u001b[38;5;129;01mand\u001b[39;00m \u001b[38;5;28misinstance\u001b[39m(mapped[\u001b[38;5;241m0\u001b[39m], ABCSeries):\n\u001b[0;32m   1181\u001b[0m     \u001b[38;5;66;03m# GH#43986 Need to do list(mapped) in order to get treated as nested\u001b[39;00m\n\u001b[0;32m   1182\u001b[0m     \u001b[38;5;66;03m#  See also GH#25959 regarding EA support\u001b[39;00m\n\u001b[0;32m   1183\u001b[0m     \u001b[38;5;28;01mreturn\u001b[39;00m obj\u001b[38;5;241m.\u001b[39m_constructor_expanddim(\u001b[38;5;28mlist\u001b[39m(mapped), index\u001b[38;5;241m=\u001b[39mobj\u001b[38;5;241m.\u001b[39mindex)\n",
      "File \u001b[1;32m~\\AppData\\Roaming\\Python\\Python311\\site-packages\\pandas\\_libs\\lib.pyx:2924\u001b[0m, in \u001b[0;36mpandas._libs.lib.map_infer\u001b[1;34m()\u001b[0m\n",
      "Cell \u001b[1;32mIn[27], line 4\u001b[0m, in \u001b[0;36mconvert3\u001b[1;34m(obj)\u001b[0m\n\u001b[0;32m      2\u001b[0m L \u001b[38;5;241m=\u001b[39m []\n\u001b[0;32m      3\u001b[0m counter \u001b[38;5;241m=\u001b[39m \u001b[38;5;241m0\u001b[39m\n\u001b[1;32m----> 4\u001b[0m \u001b[38;5;28;01mfor\u001b[39;00m i \u001b[38;5;129;01min\u001b[39;00m \u001b[43mast\u001b[49m\u001b[38;5;241m.\u001b[39mliteral_eval(obj):\n\u001b[0;32m      5\u001b[0m     \u001b[38;5;28;01mif\u001b[39;00m counter \u001b[38;5;241m!=\u001b[39m \u001b[38;5;241m3\u001b[39m:\n\u001b[0;32m      6\u001b[0m         L\u001b[38;5;241m.\u001b[39mappend(i[\u001b[38;5;124m'\u001b[39m\u001b[38;5;124mname\u001b[39m\u001b[38;5;124m'\u001b[39m])\n",
      "\u001b[1;31mNameError\u001b[0m: name 'ast' is not defined"
     ]
    }
   ],
   "source": [
    "movies['cast'] = movies['cast'].apply(convert3)"
   ]
  },
  {
   "cell_type": "markdown",
   "id": "451d6539",
   "metadata": {},
   "source": [
    "movies.head()"
   ]
  },
  {
   "cell_type": "code",
   "execution_count": 29,
   "id": "5d3bf51c",
   "metadata": {
    "scrolled": true
   },
   "outputs": [
    {
     "ename": "NameError",
     "evalue": "name 'ast' is not defined",
     "output_type": "error",
     "traceback": [
      "\u001b[1;31m---------------------------------------------------------------------------\u001b[0m",
      "\u001b[1;31mNameError\u001b[0m                                 Traceback (most recent call last)",
      "Cell \u001b[1;32mIn[29], line 1\u001b[0m\n\u001b[1;32m----> 1\u001b[0m movies[\u001b[38;5;124m'\u001b[39m\u001b[38;5;124mgenres\u001b[39m\u001b[38;5;124m'\u001b[39m] \u001b[38;5;241m=\u001b[39m \u001b[43mmovies\u001b[49m\u001b[43m[\u001b[49m\u001b[38;5;124;43m'\u001b[39;49m\u001b[38;5;124;43mgenres\u001b[39;49m\u001b[38;5;124;43m'\u001b[39;49m\u001b[43m]\u001b[49m\u001b[38;5;241;43m.\u001b[39;49m\u001b[43mapply\u001b[49m\u001b[43m(\u001b[49m\u001b[43mconvert\u001b[49m\u001b[43m)\u001b[49m\n",
      "File \u001b[1;32m~\\AppData\\Roaming\\Python\\Python311\\site-packages\\pandas\\core\\series.py:4771\u001b[0m, in \u001b[0;36mSeries.apply\u001b[1;34m(self, func, convert_dtype, args, **kwargs)\u001b[0m\n\u001b[0;32m   4661\u001b[0m \u001b[38;5;28;01mdef\u001b[39;00m \u001b[38;5;21mapply\u001b[39m(\n\u001b[0;32m   4662\u001b[0m     \u001b[38;5;28mself\u001b[39m,\n\u001b[0;32m   4663\u001b[0m     func: AggFuncType,\n\u001b[1;32m   (...)\u001b[0m\n\u001b[0;32m   4666\u001b[0m     \u001b[38;5;241m*\u001b[39m\u001b[38;5;241m*\u001b[39mkwargs,\n\u001b[0;32m   4667\u001b[0m ) \u001b[38;5;241m-\u001b[39m\u001b[38;5;241m>\u001b[39m DataFrame \u001b[38;5;241m|\u001b[39m Series:\n\u001b[0;32m   4668\u001b[0m \u001b[38;5;250m    \u001b[39m\u001b[38;5;124;03m\"\"\"\u001b[39;00m\n\u001b[0;32m   4669\u001b[0m \u001b[38;5;124;03m    Invoke function on values of Series.\u001b[39;00m\n\u001b[0;32m   4670\u001b[0m \n\u001b[1;32m   (...)\u001b[0m\n\u001b[0;32m   4769\u001b[0m \u001b[38;5;124;03m    dtype: float64\u001b[39;00m\n\u001b[0;32m   4770\u001b[0m \u001b[38;5;124;03m    \"\"\"\u001b[39;00m\n\u001b[1;32m-> 4771\u001b[0m     \u001b[38;5;28;01mreturn\u001b[39;00m \u001b[43mSeriesApply\u001b[49m\u001b[43m(\u001b[49m\u001b[38;5;28;43mself\u001b[39;49m\u001b[43m,\u001b[49m\u001b[43m \u001b[49m\u001b[43mfunc\u001b[49m\u001b[43m,\u001b[49m\u001b[43m \u001b[49m\u001b[43mconvert_dtype\u001b[49m\u001b[43m,\u001b[49m\u001b[43m \u001b[49m\u001b[43margs\u001b[49m\u001b[43m,\u001b[49m\u001b[43m \u001b[49m\u001b[43mkwargs\u001b[49m\u001b[43m)\u001b[49m\u001b[38;5;241;43m.\u001b[39;49m\u001b[43mapply\u001b[49m\u001b[43m(\u001b[49m\u001b[43m)\u001b[49m\n",
      "File \u001b[1;32m~\\AppData\\Roaming\\Python\\Python311\\site-packages\\pandas\\core\\apply.py:1123\u001b[0m, in \u001b[0;36mSeriesApply.apply\u001b[1;34m(self)\u001b[0m\n\u001b[0;32m   1120\u001b[0m     \u001b[38;5;28;01mreturn\u001b[39;00m \u001b[38;5;28mself\u001b[39m\u001b[38;5;241m.\u001b[39mapply_str()\n\u001b[0;32m   1122\u001b[0m \u001b[38;5;66;03m# self.f is Callable\u001b[39;00m\n\u001b[1;32m-> 1123\u001b[0m \u001b[38;5;28;01mreturn\u001b[39;00m \u001b[38;5;28;43mself\u001b[39;49m\u001b[38;5;241;43m.\u001b[39;49m\u001b[43mapply_standard\u001b[49m\u001b[43m(\u001b[49m\u001b[43m)\u001b[49m\n",
      "File \u001b[1;32m~\\AppData\\Roaming\\Python\\Python311\\site-packages\\pandas\\core\\apply.py:1174\u001b[0m, in \u001b[0;36mSeriesApply.apply_standard\u001b[1;34m(self)\u001b[0m\n\u001b[0;32m   1172\u001b[0m     \u001b[38;5;28;01melse\u001b[39;00m:\n\u001b[0;32m   1173\u001b[0m         values \u001b[38;5;241m=\u001b[39m obj\u001b[38;5;241m.\u001b[39mastype(\u001b[38;5;28mobject\u001b[39m)\u001b[38;5;241m.\u001b[39m_values\n\u001b[1;32m-> 1174\u001b[0m         mapped \u001b[38;5;241m=\u001b[39m \u001b[43mlib\u001b[49m\u001b[38;5;241;43m.\u001b[39;49m\u001b[43mmap_infer\u001b[49m\u001b[43m(\u001b[49m\n\u001b[0;32m   1175\u001b[0m \u001b[43m            \u001b[49m\u001b[43mvalues\u001b[49m\u001b[43m,\u001b[49m\n\u001b[0;32m   1176\u001b[0m \u001b[43m            \u001b[49m\u001b[43mf\u001b[49m\u001b[43m,\u001b[49m\n\u001b[0;32m   1177\u001b[0m \u001b[43m            \u001b[49m\u001b[43mconvert\u001b[49m\u001b[38;5;241;43m=\u001b[39;49m\u001b[38;5;28;43mself\u001b[39;49m\u001b[38;5;241;43m.\u001b[39;49m\u001b[43mconvert_dtype\u001b[49m\u001b[43m,\u001b[49m\n\u001b[0;32m   1178\u001b[0m \u001b[43m        \u001b[49m\u001b[43m)\u001b[49m\n\u001b[0;32m   1180\u001b[0m \u001b[38;5;28;01mif\u001b[39;00m \u001b[38;5;28mlen\u001b[39m(mapped) \u001b[38;5;129;01mand\u001b[39;00m \u001b[38;5;28misinstance\u001b[39m(mapped[\u001b[38;5;241m0\u001b[39m], ABCSeries):\n\u001b[0;32m   1181\u001b[0m     \u001b[38;5;66;03m# GH#43986 Need to do list(mapped) in order to get treated as nested\u001b[39;00m\n\u001b[0;32m   1182\u001b[0m     \u001b[38;5;66;03m#  See also GH#25959 regarding EA support\u001b[39;00m\n\u001b[0;32m   1183\u001b[0m     \u001b[38;5;28;01mreturn\u001b[39;00m obj\u001b[38;5;241m.\u001b[39m_constructor_expanddim(\u001b[38;5;28mlist\u001b[39m(mapped), index\u001b[38;5;241m=\u001b[39mobj\u001b[38;5;241m.\u001b[39mindex)\n",
      "File \u001b[1;32m~\\AppData\\Roaming\\Python\\Python311\\site-packages\\pandas\\_libs\\lib.pyx:2924\u001b[0m, in \u001b[0;36mpandas._libs.lib.map_infer\u001b[1;34m()\u001b[0m\n",
      "Cell \u001b[1;32mIn[15], line 3\u001b[0m, in \u001b[0;36mconvert\u001b[1;34m(obj)\u001b[0m\n\u001b[0;32m      1\u001b[0m \u001b[38;5;28;01mdef\u001b[39;00m \u001b[38;5;21mconvert\u001b[39m(obj):\n\u001b[0;32m      2\u001b[0m     L \u001b[38;5;241m=\u001b[39m []\n\u001b[1;32m----> 3\u001b[0m     \u001b[38;5;28;01mfor\u001b[39;00m i \u001b[38;5;129;01min\u001b[39;00m \u001b[43mast\u001b[49m\u001b[38;5;241m.\u001b[39mliteral_eval(obj):\n\u001b[0;32m      4\u001b[0m         L\u001b[38;5;241m.\u001b[39mappend(i[\u001b[38;5;124m'\u001b[39m\u001b[38;5;124mname\u001b[39m\u001b[38;5;124m'\u001b[39m])\n\u001b[0;32m      5\u001b[0m     \u001b[38;5;28;01mreturn\u001b[39;00m L\n",
      "\u001b[1;31mNameError\u001b[0m: name 'ast' is not defined"
     ]
    }
   ],
   "source": [
    "movies['genres'] = movies['genres'].apply(convert)"
   ]
  },
  {
   "cell_type": "markdown",
   "id": "d8e131ab",
   "metadata": {},
   "source": [
    "movies.head()"
   ]
  },
  {
   "cell_type": "code",
   "execution_count": 30,
   "id": "7af736bf",
   "metadata": {},
   "outputs": [
    {
     "data": {
      "text/html": [
       "<div>\n",
       "<style scoped>\n",
       "    .dataframe tbody tr th:only-of-type {\n",
       "        vertical-align: middle;\n",
       "    }\n",
       "\n",
       "    .dataframe tbody tr th {\n",
       "        vertical-align: top;\n",
       "    }\n",
       "\n",
       "    .dataframe thead th {\n",
       "        text-align: right;\n",
       "    }\n",
       "</style>\n",
       "<table border=\"1\" class=\"dataframe\">\n",
       "  <thead>\n",
       "    <tr style=\"text-align: right;\">\n",
       "      <th></th>\n",
       "      <th>movie_id</th>\n",
       "      <th>title</th>\n",
       "      <th>overview</th>\n",
       "      <th>genres</th>\n",
       "      <th>keywords</th>\n",
       "      <th>cast</th>\n",
       "      <th>crew</th>\n",
       "    </tr>\n",
       "  </thead>\n",
       "  <tbody>\n",
       "    <tr>\n",
       "      <th>0</th>\n",
       "      <td>19995</td>\n",
       "      <td>Avatar</td>\n",
       "      <td>In the 22nd century, a paraplegic Marine is di...</td>\n",
       "      <td>[{\"id\": 28, \"name\": \"Action\"}, {\"id\": 12, \"nam...</td>\n",
       "      <td>[{\"id\": 1463, \"name\": \"culture clash\"}, {\"id\":...</td>\n",
       "      <td>[{\"cast_id\": 242, \"character\": \"Jake Sully\", \"...</td>\n",
       "      <td>[{\"credit_id\": \"52fe48009251416c750aca23\", \"de...</td>\n",
       "    </tr>\n",
       "    <tr>\n",
       "      <th>1</th>\n",
       "      <td>285</td>\n",
       "      <td>Pirates of the Caribbean: At World's End</td>\n",
       "      <td>Captain Barbossa, long believed to be dead, ha...</td>\n",
       "      <td>[{\"id\": 12, \"name\": \"Adventure\"}, {\"id\": 14, \"...</td>\n",
       "      <td>[{\"id\": 270, \"name\": \"ocean\"}, {\"id\": 726, \"na...</td>\n",
       "      <td>[{\"cast_id\": 4, \"character\": \"Captain Jack Spa...</td>\n",
       "      <td>[{\"credit_id\": \"52fe4232c3a36847f800b579\", \"de...</td>\n",
       "    </tr>\n",
       "    <tr>\n",
       "      <th>2</th>\n",
       "      <td>206647</td>\n",
       "      <td>Spectre</td>\n",
       "      <td>A cryptic message from Bond’s past sends him o...</td>\n",
       "      <td>[{\"id\": 28, \"name\": \"Action\"}, {\"id\": 12, \"nam...</td>\n",
       "      <td>[{\"id\": 470, \"name\": \"spy\"}, {\"id\": 818, \"name...</td>\n",
       "      <td>[{\"cast_id\": 1, \"character\": \"James Bond\", \"cr...</td>\n",
       "      <td>[{\"credit_id\": \"54805967c3a36829b5002c41\", \"de...</td>\n",
       "    </tr>\n",
       "    <tr>\n",
       "      <th>3</th>\n",
       "      <td>49026</td>\n",
       "      <td>The Dark Knight Rises</td>\n",
       "      <td>Following the death of District Attorney Harve...</td>\n",
       "      <td>[{\"id\": 28, \"name\": \"Action\"}, {\"id\": 80, \"nam...</td>\n",
       "      <td>[{\"id\": 849, \"name\": \"dc comics\"}, {\"id\": 853,...</td>\n",
       "      <td>[{\"cast_id\": 2, \"character\": \"Bruce Wayne / Ba...</td>\n",
       "      <td>[{\"credit_id\": \"52fe4781c3a36847f81398c3\", \"de...</td>\n",
       "    </tr>\n",
       "    <tr>\n",
       "      <th>4</th>\n",
       "      <td>49529</td>\n",
       "      <td>John Carter</td>\n",
       "      <td>John Carter is a war-weary, former military ca...</td>\n",
       "      <td>[{\"id\": 28, \"name\": \"Action\"}, {\"id\": 12, \"nam...</td>\n",
       "      <td>[{\"id\": 818, \"name\": \"based on novel\"}, {\"id\":...</td>\n",
       "      <td>[{\"cast_id\": 5, \"character\": \"John Carter\", \"c...</td>\n",
       "      <td>[{\"credit_id\": \"52fe479ac3a36847f813eaa3\", \"de...</td>\n",
       "    </tr>\n",
       "  </tbody>\n",
       "</table>\n",
       "</div>"
      ],
      "text/plain": [
       "   movie_id                                     title  \\\n",
       "0     19995                                    Avatar   \n",
       "1       285  Pirates of the Caribbean: At World's End   \n",
       "2    206647                                   Spectre   \n",
       "3     49026                     The Dark Knight Rises   \n",
       "4     49529                               John Carter   \n",
       "\n",
       "                                            overview  \\\n",
       "0  In the 22nd century, a paraplegic Marine is di...   \n",
       "1  Captain Barbossa, long believed to be dead, ha...   \n",
       "2  A cryptic message from Bond’s past sends him o...   \n",
       "3  Following the death of District Attorney Harve...   \n",
       "4  John Carter is a war-weary, former military ca...   \n",
       "\n",
       "                                              genres  \\\n",
       "0  [{\"id\": 28, \"name\": \"Action\"}, {\"id\": 12, \"nam...   \n",
       "1  [{\"id\": 12, \"name\": \"Adventure\"}, {\"id\": 14, \"...   \n",
       "2  [{\"id\": 28, \"name\": \"Action\"}, {\"id\": 12, \"nam...   \n",
       "3  [{\"id\": 28, \"name\": \"Action\"}, {\"id\": 80, \"nam...   \n",
       "4  [{\"id\": 28, \"name\": \"Action\"}, {\"id\": 12, \"nam...   \n",
       "\n",
       "                                            keywords  \\\n",
       "0  [{\"id\": 1463, \"name\": \"culture clash\"}, {\"id\":...   \n",
       "1  [{\"id\": 270, \"name\": \"ocean\"}, {\"id\": 726, \"na...   \n",
       "2  [{\"id\": 470, \"name\": \"spy\"}, {\"id\": 818, \"name...   \n",
       "3  [{\"id\": 849, \"name\": \"dc comics\"}, {\"id\": 853,...   \n",
       "4  [{\"id\": 818, \"name\": \"based on novel\"}, {\"id\":...   \n",
       "\n",
       "                                                cast  \\\n",
       "0  [{\"cast_id\": 242, \"character\": \"Jake Sully\", \"...   \n",
       "1  [{\"cast_id\": 4, \"character\": \"Captain Jack Spa...   \n",
       "2  [{\"cast_id\": 1, \"character\": \"James Bond\", \"cr...   \n",
       "3  [{\"cast_id\": 2, \"character\": \"Bruce Wayne / Ba...   \n",
       "4  [{\"cast_id\": 5, \"character\": \"John Carter\", \"c...   \n",
       "\n",
       "                                                crew  \n",
       "0  [{\"credit_id\": \"52fe48009251416c750aca23\", \"de...  \n",
       "1  [{\"credit_id\": \"52fe4232c3a36847f800b579\", \"de...  \n",
       "2  [{\"credit_id\": \"54805967c3a36829b5002c41\", \"de...  \n",
       "3  [{\"credit_id\": \"52fe4781c3a36847f81398c3\", \"de...  \n",
       "4  [{\"credit_id\": \"52fe479ac3a36847f813eaa3\", \"de...  "
      ]
     },
     "execution_count": 30,
     "metadata": {},
     "output_type": "execute_result"
    }
   ],
   "source": [
    "movies.head()"
   ]
  },
  {
   "cell_type": "code",
   "execution_count": 31,
   "id": "d93e9d9a",
   "metadata": {},
   "outputs": [],
   "source": [
    "def fetch_director(obj):\n",
    "    L = []\n",
    "    for i in ast.literal_eval(obj):\n",
    "        if i['job'] == 'Director':\n",
    "            L.append(i['name'])\n",
    "            break\n",
    "    return L"
   ]
  },
  {
   "cell_type": "code",
   "execution_count": 32,
   "id": "4b0b179c",
   "metadata": {},
   "outputs": [
    {
     "ename": "NameError",
     "evalue": "name 'ast' is not defined",
     "output_type": "error",
     "traceback": [
      "\u001b[1;31m---------------------------------------------------------------------------\u001b[0m",
      "\u001b[1;31mNameError\u001b[0m                                 Traceback (most recent call last)",
      "Cell \u001b[1;32mIn[32], line 1\u001b[0m\n\u001b[1;32m----> 1\u001b[0m movies[\u001b[38;5;124m'\u001b[39m\u001b[38;5;124mcrew\u001b[39m\u001b[38;5;124m'\u001b[39m] \u001b[38;5;241m=\u001b[39m \u001b[43mmovies\u001b[49m\u001b[43m[\u001b[49m\u001b[38;5;124;43m'\u001b[39;49m\u001b[38;5;124;43mcrew\u001b[39;49m\u001b[38;5;124;43m'\u001b[39;49m\u001b[43m]\u001b[49m\u001b[38;5;241;43m.\u001b[39;49m\u001b[43mapply\u001b[49m\u001b[43m(\u001b[49m\u001b[43mfetch_director\u001b[49m\u001b[43m)\u001b[49m\n",
      "File \u001b[1;32m~\\AppData\\Roaming\\Python\\Python311\\site-packages\\pandas\\core\\series.py:4771\u001b[0m, in \u001b[0;36mSeries.apply\u001b[1;34m(self, func, convert_dtype, args, **kwargs)\u001b[0m\n\u001b[0;32m   4661\u001b[0m \u001b[38;5;28;01mdef\u001b[39;00m \u001b[38;5;21mapply\u001b[39m(\n\u001b[0;32m   4662\u001b[0m     \u001b[38;5;28mself\u001b[39m,\n\u001b[0;32m   4663\u001b[0m     func: AggFuncType,\n\u001b[1;32m   (...)\u001b[0m\n\u001b[0;32m   4666\u001b[0m     \u001b[38;5;241m*\u001b[39m\u001b[38;5;241m*\u001b[39mkwargs,\n\u001b[0;32m   4667\u001b[0m ) \u001b[38;5;241m-\u001b[39m\u001b[38;5;241m>\u001b[39m DataFrame \u001b[38;5;241m|\u001b[39m Series:\n\u001b[0;32m   4668\u001b[0m \u001b[38;5;250m    \u001b[39m\u001b[38;5;124;03m\"\"\"\u001b[39;00m\n\u001b[0;32m   4669\u001b[0m \u001b[38;5;124;03m    Invoke function on values of Series.\u001b[39;00m\n\u001b[0;32m   4670\u001b[0m \n\u001b[1;32m   (...)\u001b[0m\n\u001b[0;32m   4769\u001b[0m \u001b[38;5;124;03m    dtype: float64\u001b[39;00m\n\u001b[0;32m   4770\u001b[0m \u001b[38;5;124;03m    \"\"\"\u001b[39;00m\n\u001b[1;32m-> 4771\u001b[0m     \u001b[38;5;28;01mreturn\u001b[39;00m \u001b[43mSeriesApply\u001b[49m\u001b[43m(\u001b[49m\u001b[38;5;28;43mself\u001b[39;49m\u001b[43m,\u001b[49m\u001b[43m \u001b[49m\u001b[43mfunc\u001b[49m\u001b[43m,\u001b[49m\u001b[43m \u001b[49m\u001b[43mconvert_dtype\u001b[49m\u001b[43m,\u001b[49m\u001b[43m \u001b[49m\u001b[43margs\u001b[49m\u001b[43m,\u001b[49m\u001b[43m \u001b[49m\u001b[43mkwargs\u001b[49m\u001b[43m)\u001b[49m\u001b[38;5;241;43m.\u001b[39;49m\u001b[43mapply\u001b[49m\u001b[43m(\u001b[49m\u001b[43m)\u001b[49m\n",
      "File \u001b[1;32m~\\AppData\\Roaming\\Python\\Python311\\site-packages\\pandas\\core\\apply.py:1123\u001b[0m, in \u001b[0;36mSeriesApply.apply\u001b[1;34m(self)\u001b[0m\n\u001b[0;32m   1120\u001b[0m     \u001b[38;5;28;01mreturn\u001b[39;00m \u001b[38;5;28mself\u001b[39m\u001b[38;5;241m.\u001b[39mapply_str()\n\u001b[0;32m   1122\u001b[0m \u001b[38;5;66;03m# self.f is Callable\u001b[39;00m\n\u001b[1;32m-> 1123\u001b[0m \u001b[38;5;28;01mreturn\u001b[39;00m \u001b[38;5;28;43mself\u001b[39;49m\u001b[38;5;241;43m.\u001b[39;49m\u001b[43mapply_standard\u001b[49m\u001b[43m(\u001b[49m\u001b[43m)\u001b[49m\n",
      "File \u001b[1;32m~\\AppData\\Roaming\\Python\\Python311\\site-packages\\pandas\\core\\apply.py:1174\u001b[0m, in \u001b[0;36mSeriesApply.apply_standard\u001b[1;34m(self)\u001b[0m\n\u001b[0;32m   1172\u001b[0m     \u001b[38;5;28;01melse\u001b[39;00m:\n\u001b[0;32m   1173\u001b[0m         values \u001b[38;5;241m=\u001b[39m obj\u001b[38;5;241m.\u001b[39mastype(\u001b[38;5;28mobject\u001b[39m)\u001b[38;5;241m.\u001b[39m_values\n\u001b[1;32m-> 1174\u001b[0m         mapped \u001b[38;5;241m=\u001b[39m \u001b[43mlib\u001b[49m\u001b[38;5;241;43m.\u001b[39;49m\u001b[43mmap_infer\u001b[49m\u001b[43m(\u001b[49m\n\u001b[0;32m   1175\u001b[0m \u001b[43m            \u001b[49m\u001b[43mvalues\u001b[49m\u001b[43m,\u001b[49m\n\u001b[0;32m   1176\u001b[0m \u001b[43m            \u001b[49m\u001b[43mf\u001b[49m\u001b[43m,\u001b[49m\n\u001b[0;32m   1177\u001b[0m \u001b[43m            \u001b[49m\u001b[43mconvert\u001b[49m\u001b[38;5;241;43m=\u001b[39;49m\u001b[38;5;28;43mself\u001b[39;49m\u001b[38;5;241;43m.\u001b[39;49m\u001b[43mconvert_dtype\u001b[49m\u001b[43m,\u001b[49m\n\u001b[0;32m   1178\u001b[0m \u001b[43m        \u001b[49m\u001b[43m)\u001b[49m\n\u001b[0;32m   1180\u001b[0m \u001b[38;5;28;01mif\u001b[39;00m \u001b[38;5;28mlen\u001b[39m(mapped) \u001b[38;5;129;01mand\u001b[39;00m \u001b[38;5;28misinstance\u001b[39m(mapped[\u001b[38;5;241m0\u001b[39m], ABCSeries):\n\u001b[0;32m   1181\u001b[0m     \u001b[38;5;66;03m# GH#43986 Need to do list(mapped) in order to get treated as nested\u001b[39;00m\n\u001b[0;32m   1182\u001b[0m     \u001b[38;5;66;03m#  See also GH#25959 regarding EA support\u001b[39;00m\n\u001b[0;32m   1183\u001b[0m     \u001b[38;5;28;01mreturn\u001b[39;00m obj\u001b[38;5;241m.\u001b[39m_constructor_expanddim(\u001b[38;5;28mlist\u001b[39m(mapped), index\u001b[38;5;241m=\u001b[39mobj\u001b[38;5;241m.\u001b[39mindex)\n",
      "File \u001b[1;32m~\\AppData\\Roaming\\Python\\Python311\\site-packages\\pandas\\_libs\\lib.pyx:2924\u001b[0m, in \u001b[0;36mpandas._libs.lib.map_infer\u001b[1;34m()\u001b[0m\n",
      "Cell \u001b[1;32mIn[31], line 3\u001b[0m, in \u001b[0;36mfetch_director\u001b[1;34m(obj)\u001b[0m\n\u001b[0;32m      1\u001b[0m \u001b[38;5;28;01mdef\u001b[39;00m \u001b[38;5;21mfetch_director\u001b[39m(obj):\n\u001b[0;32m      2\u001b[0m     L \u001b[38;5;241m=\u001b[39m []\n\u001b[1;32m----> 3\u001b[0m     \u001b[38;5;28;01mfor\u001b[39;00m i \u001b[38;5;129;01min\u001b[39;00m \u001b[43mast\u001b[49m\u001b[38;5;241m.\u001b[39mliteral_eval(obj):\n\u001b[0;32m      4\u001b[0m         \u001b[38;5;28;01mif\u001b[39;00m i[\u001b[38;5;124m'\u001b[39m\u001b[38;5;124mjob\u001b[39m\u001b[38;5;124m'\u001b[39m] \u001b[38;5;241m==\u001b[39m \u001b[38;5;124m'\u001b[39m\u001b[38;5;124mDirector\u001b[39m\u001b[38;5;124m'\u001b[39m:\n\u001b[0;32m      5\u001b[0m             L\u001b[38;5;241m.\u001b[39mappend(i[\u001b[38;5;124m'\u001b[39m\u001b[38;5;124mname\u001b[39m\u001b[38;5;124m'\u001b[39m])\n",
      "\u001b[1;31mNameError\u001b[0m: name 'ast' is not defined"
     ]
    }
   ],
   "source": [
    "movies['crew'] = movies['crew'].apply(fetch_director)"
   ]
  },
  {
   "cell_type": "markdown",
   "id": "2141156d",
   "metadata": {},
   "source": [
    "movies.head()"
   ]
  },
  {
   "cell_type": "code",
   "execution_count": 33,
   "id": "4231139c",
   "metadata": {},
   "outputs": [
    {
     "ename": "NameError",
     "evalue": "name 'ast' is not defined",
     "output_type": "error",
     "traceback": [
      "\u001b[1;31m---------------------------------------------------------------------------\u001b[0m",
      "\u001b[1;31mNameError\u001b[0m                                 Traceback (most recent call last)",
      "Cell \u001b[1;32mIn[33], line 1\u001b[0m\n\u001b[1;32m----> 1\u001b[0m movies[\u001b[38;5;124m'\u001b[39m\u001b[38;5;124mgenres\u001b[39m\u001b[38;5;124m'\u001b[39m] \u001b[38;5;241m=\u001b[39m \u001b[43mmovies\u001b[49m\u001b[43m[\u001b[49m\u001b[38;5;124;43m'\u001b[39;49m\u001b[38;5;124;43mgenres\u001b[39;49m\u001b[38;5;124;43m'\u001b[39;49m\u001b[43m]\u001b[49m\u001b[38;5;241;43m.\u001b[39;49m\u001b[43mapply\u001b[49m\u001b[43m(\u001b[49m\u001b[43mconvert\u001b[49m\u001b[43m)\u001b[49m\n",
      "File \u001b[1;32m~\\AppData\\Roaming\\Python\\Python311\\site-packages\\pandas\\core\\series.py:4771\u001b[0m, in \u001b[0;36mSeries.apply\u001b[1;34m(self, func, convert_dtype, args, **kwargs)\u001b[0m\n\u001b[0;32m   4661\u001b[0m \u001b[38;5;28;01mdef\u001b[39;00m \u001b[38;5;21mapply\u001b[39m(\n\u001b[0;32m   4662\u001b[0m     \u001b[38;5;28mself\u001b[39m,\n\u001b[0;32m   4663\u001b[0m     func: AggFuncType,\n\u001b[1;32m   (...)\u001b[0m\n\u001b[0;32m   4666\u001b[0m     \u001b[38;5;241m*\u001b[39m\u001b[38;5;241m*\u001b[39mkwargs,\n\u001b[0;32m   4667\u001b[0m ) \u001b[38;5;241m-\u001b[39m\u001b[38;5;241m>\u001b[39m DataFrame \u001b[38;5;241m|\u001b[39m Series:\n\u001b[0;32m   4668\u001b[0m \u001b[38;5;250m    \u001b[39m\u001b[38;5;124;03m\"\"\"\u001b[39;00m\n\u001b[0;32m   4669\u001b[0m \u001b[38;5;124;03m    Invoke function on values of Series.\u001b[39;00m\n\u001b[0;32m   4670\u001b[0m \n\u001b[1;32m   (...)\u001b[0m\n\u001b[0;32m   4769\u001b[0m \u001b[38;5;124;03m    dtype: float64\u001b[39;00m\n\u001b[0;32m   4770\u001b[0m \u001b[38;5;124;03m    \"\"\"\u001b[39;00m\n\u001b[1;32m-> 4771\u001b[0m     \u001b[38;5;28;01mreturn\u001b[39;00m \u001b[43mSeriesApply\u001b[49m\u001b[43m(\u001b[49m\u001b[38;5;28;43mself\u001b[39;49m\u001b[43m,\u001b[49m\u001b[43m \u001b[49m\u001b[43mfunc\u001b[49m\u001b[43m,\u001b[49m\u001b[43m \u001b[49m\u001b[43mconvert_dtype\u001b[49m\u001b[43m,\u001b[49m\u001b[43m \u001b[49m\u001b[43margs\u001b[49m\u001b[43m,\u001b[49m\u001b[43m \u001b[49m\u001b[43mkwargs\u001b[49m\u001b[43m)\u001b[49m\u001b[38;5;241;43m.\u001b[39;49m\u001b[43mapply\u001b[49m\u001b[43m(\u001b[49m\u001b[43m)\u001b[49m\n",
      "File \u001b[1;32m~\\AppData\\Roaming\\Python\\Python311\\site-packages\\pandas\\core\\apply.py:1123\u001b[0m, in \u001b[0;36mSeriesApply.apply\u001b[1;34m(self)\u001b[0m\n\u001b[0;32m   1120\u001b[0m     \u001b[38;5;28;01mreturn\u001b[39;00m \u001b[38;5;28mself\u001b[39m\u001b[38;5;241m.\u001b[39mapply_str()\n\u001b[0;32m   1122\u001b[0m \u001b[38;5;66;03m# self.f is Callable\u001b[39;00m\n\u001b[1;32m-> 1123\u001b[0m \u001b[38;5;28;01mreturn\u001b[39;00m \u001b[38;5;28;43mself\u001b[39;49m\u001b[38;5;241;43m.\u001b[39;49m\u001b[43mapply_standard\u001b[49m\u001b[43m(\u001b[49m\u001b[43m)\u001b[49m\n",
      "File \u001b[1;32m~\\AppData\\Roaming\\Python\\Python311\\site-packages\\pandas\\core\\apply.py:1174\u001b[0m, in \u001b[0;36mSeriesApply.apply_standard\u001b[1;34m(self)\u001b[0m\n\u001b[0;32m   1172\u001b[0m     \u001b[38;5;28;01melse\u001b[39;00m:\n\u001b[0;32m   1173\u001b[0m         values \u001b[38;5;241m=\u001b[39m obj\u001b[38;5;241m.\u001b[39mastype(\u001b[38;5;28mobject\u001b[39m)\u001b[38;5;241m.\u001b[39m_values\n\u001b[1;32m-> 1174\u001b[0m         mapped \u001b[38;5;241m=\u001b[39m \u001b[43mlib\u001b[49m\u001b[38;5;241;43m.\u001b[39;49m\u001b[43mmap_infer\u001b[49m\u001b[43m(\u001b[49m\n\u001b[0;32m   1175\u001b[0m \u001b[43m            \u001b[49m\u001b[43mvalues\u001b[49m\u001b[43m,\u001b[49m\n\u001b[0;32m   1176\u001b[0m \u001b[43m            \u001b[49m\u001b[43mf\u001b[49m\u001b[43m,\u001b[49m\n\u001b[0;32m   1177\u001b[0m \u001b[43m            \u001b[49m\u001b[43mconvert\u001b[49m\u001b[38;5;241;43m=\u001b[39;49m\u001b[38;5;28;43mself\u001b[39;49m\u001b[38;5;241;43m.\u001b[39;49m\u001b[43mconvert_dtype\u001b[49m\u001b[43m,\u001b[49m\n\u001b[0;32m   1178\u001b[0m \u001b[43m        \u001b[49m\u001b[43m)\u001b[49m\n\u001b[0;32m   1180\u001b[0m \u001b[38;5;28;01mif\u001b[39;00m \u001b[38;5;28mlen\u001b[39m(mapped) \u001b[38;5;129;01mand\u001b[39;00m \u001b[38;5;28misinstance\u001b[39m(mapped[\u001b[38;5;241m0\u001b[39m], ABCSeries):\n\u001b[0;32m   1181\u001b[0m     \u001b[38;5;66;03m# GH#43986 Need to do list(mapped) in order to get treated as nested\u001b[39;00m\n\u001b[0;32m   1182\u001b[0m     \u001b[38;5;66;03m#  See also GH#25959 regarding EA support\u001b[39;00m\n\u001b[0;32m   1183\u001b[0m     \u001b[38;5;28;01mreturn\u001b[39;00m obj\u001b[38;5;241m.\u001b[39m_constructor_expanddim(\u001b[38;5;28mlist\u001b[39m(mapped), index\u001b[38;5;241m=\u001b[39mobj\u001b[38;5;241m.\u001b[39mindex)\n",
      "File \u001b[1;32m~\\AppData\\Roaming\\Python\\Python311\\site-packages\\pandas\\_libs\\lib.pyx:2924\u001b[0m, in \u001b[0;36mpandas._libs.lib.map_infer\u001b[1;34m()\u001b[0m\n",
      "Cell \u001b[1;32mIn[15], line 3\u001b[0m, in \u001b[0;36mconvert\u001b[1;34m(obj)\u001b[0m\n\u001b[0;32m      1\u001b[0m \u001b[38;5;28;01mdef\u001b[39;00m \u001b[38;5;21mconvert\u001b[39m(obj):\n\u001b[0;32m      2\u001b[0m     L \u001b[38;5;241m=\u001b[39m []\n\u001b[1;32m----> 3\u001b[0m     \u001b[38;5;28;01mfor\u001b[39;00m i \u001b[38;5;129;01min\u001b[39;00m \u001b[43mast\u001b[49m\u001b[38;5;241m.\u001b[39mliteral_eval(obj):\n\u001b[0;32m      4\u001b[0m         L\u001b[38;5;241m.\u001b[39mappend(i[\u001b[38;5;124m'\u001b[39m\u001b[38;5;124mname\u001b[39m\u001b[38;5;124m'\u001b[39m])\n\u001b[0;32m      5\u001b[0m     \u001b[38;5;28;01mreturn\u001b[39;00m L\n",
      "\u001b[1;31mNameError\u001b[0m: name 'ast' is not defined"
     ]
    }
   ],
   "source": [
    "movies['genres'] = movies['genres'].apply(convert)"
   ]
  },
  {
   "cell_type": "code",
   "execution_count": 34,
   "id": "a89696d4",
   "metadata": {},
   "outputs": [],
   "source": [
    "movies['overview'] = movies['overview'].apply(lambda x:x.split())"
   ]
  },
  {
   "cell_type": "code",
   "execution_count": 35,
   "id": "169a0dc1",
   "metadata": {},
   "outputs": [
    {
     "data": {
      "text/html": [
       "<div>\n",
       "<style scoped>\n",
       "    .dataframe tbody tr th:only-of-type {\n",
       "        vertical-align: middle;\n",
       "    }\n",
       "\n",
       "    .dataframe tbody tr th {\n",
       "        vertical-align: top;\n",
       "    }\n",
       "\n",
       "    .dataframe thead th {\n",
       "        text-align: right;\n",
       "    }\n",
       "</style>\n",
       "<table border=\"1\" class=\"dataframe\">\n",
       "  <thead>\n",
       "    <tr style=\"text-align: right;\">\n",
       "      <th></th>\n",
       "      <th>movie_id</th>\n",
       "      <th>title</th>\n",
       "      <th>overview</th>\n",
       "      <th>genres</th>\n",
       "      <th>keywords</th>\n",
       "      <th>cast</th>\n",
       "      <th>crew</th>\n",
       "    </tr>\n",
       "  </thead>\n",
       "  <tbody>\n",
       "    <tr>\n",
       "      <th>0</th>\n",
       "      <td>19995</td>\n",
       "      <td>Avatar</td>\n",
       "      <td>[In, the, 22nd, century,, a, paraplegic, Marin...</td>\n",
       "      <td>[{\"id\": 28, \"name\": \"Action\"}, {\"id\": 12, \"nam...</td>\n",
       "      <td>[{\"id\": 1463, \"name\": \"culture clash\"}, {\"id\":...</td>\n",
       "      <td>[{\"cast_id\": 242, \"character\": \"Jake Sully\", \"...</td>\n",
       "      <td>[{\"credit_id\": \"52fe48009251416c750aca23\", \"de...</td>\n",
       "    </tr>\n",
       "    <tr>\n",
       "      <th>1</th>\n",
       "      <td>285</td>\n",
       "      <td>Pirates of the Caribbean: At World's End</td>\n",
       "      <td>[Captain, Barbossa,, long, believed, to, be, d...</td>\n",
       "      <td>[{\"id\": 12, \"name\": \"Adventure\"}, {\"id\": 14, \"...</td>\n",
       "      <td>[{\"id\": 270, \"name\": \"ocean\"}, {\"id\": 726, \"na...</td>\n",
       "      <td>[{\"cast_id\": 4, \"character\": \"Captain Jack Spa...</td>\n",
       "      <td>[{\"credit_id\": \"52fe4232c3a36847f800b579\", \"de...</td>\n",
       "    </tr>\n",
       "    <tr>\n",
       "      <th>2</th>\n",
       "      <td>206647</td>\n",
       "      <td>Spectre</td>\n",
       "      <td>[A, cryptic, message, from, Bond’s, past, send...</td>\n",
       "      <td>[{\"id\": 28, \"name\": \"Action\"}, {\"id\": 12, \"nam...</td>\n",
       "      <td>[{\"id\": 470, \"name\": \"spy\"}, {\"id\": 818, \"name...</td>\n",
       "      <td>[{\"cast_id\": 1, \"character\": \"James Bond\", \"cr...</td>\n",
       "      <td>[{\"credit_id\": \"54805967c3a36829b5002c41\", \"de...</td>\n",
       "    </tr>\n",
       "    <tr>\n",
       "      <th>3</th>\n",
       "      <td>49026</td>\n",
       "      <td>The Dark Knight Rises</td>\n",
       "      <td>[Following, the, death, of, District, Attorney...</td>\n",
       "      <td>[{\"id\": 28, \"name\": \"Action\"}, {\"id\": 80, \"nam...</td>\n",
       "      <td>[{\"id\": 849, \"name\": \"dc comics\"}, {\"id\": 853,...</td>\n",
       "      <td>[{\"cast_id\": 2, \"character\": \"Bruce Wayne / Ba...</td>\n",
       "      <td>[{\"credit_id\": \"52fe4781c3a36847f81398c3\", \"de...</td>\n",
       "    </tr>\n",
       "    <tr>\n",
       "      <th>4</th>\n",
       "      <td>49529</td>\n",
       "      <td>John Carter</td>\n",
       "      <td>[John, Carter, is, a, war-weary,, former, mili...</td>\n",
       "      <td>[{\"id\": 28, \"name\": \"Action\"}, {\"id\": 12, \"nam...</td>\n",
       "      <td>[{\"id\": 818, \"name\": \"based on novel\"}, {\"id\":...</td>\n",
       "      <td>[{\"cast_id\": 5, \"character\": \"John Carter\", \"c...</td>\n",
       "      <td>[{\"credit_id\": \"52fe479ac3a36847f813eaa3\", \"de...</td>\n",
       "    </tr>\n",
       "  </tbody>\n",
       "</table>\n",
       "</div>"
      ],
      "text/plain": [
       "   movie_id                                     title  \\\n",
       "0     19995                                    Avatar   \n",
       "1       285  Pirates of the Caribbean: At World's End   \n",
       "2    206647                                   Spectre   \n",
       "3     49026                     The Dark Knight Rises   \n",
       "4     49529                               John Carter   \n",
       "\n",
       "                                            overview  \\\n",
       "0  [In, the, 22nd, century,, a, paraplegic, Marin...   \n",
       "1  [Captain, Barbossa,, long, believed, to, be, d...   \n",
       "2  [A, cryptic, message, from, Bond’s, past, send...   \n",
       "3  [Following, the, death, of, District, Attorney...   \n",
       "4  [John, Carter, is, a, war-weary,, former, mili...   \n",
       "\n",
       "                                              genres  \\\n",
       "0  [{\"id\": 28, \"name\": \"Action\"}, {\"id\": 12, \"nam...   \n",
       "1  [{\"id\": 12, \"name\": \"Adventure\"}, {\"id\": 14, \"...   \n",
       "2  [{\"id\": 28, \"name\": \"Action\"}, {\"id\": 12, \"nam...   \n",
       "3  [{\"id\": 28, \"name\": \"Action\"}, {\"id\": 80, \"nam...   \n",
       "4  [{\"id\": 28, \"name\": \"Action\"}, {\"id\": 12, \"nam...   \n",
       "\n",
       "                                            keywords  \\\n",
       "0  [{\"id\": 1463, \"name\": \"culture clash\"}, {\"id\":...   \n",
       "1  [{\"id\": 270, \"name\": \"ocean\"}, {\"id\": 726, \"na...   \n",
       "2  [{\"id\": 470, \"name\": \"spy\"}, {\"id\": 818, \"name...   \n",
       "3  [{\"id\": 849, \"name\": \"dc comics\"}, {\"id\": 853,...   \n",
       "4  [{\"id\": 818, \"name\": \"based on novel\"}, {\"id\":...   \n",
       "\n",
       "                                                cast  \\\n",
       "0  [{\"cast_id\": 242, \"character\": \"Jake Sully\", \"...   \n",
       "1  [{\"cast_id\": 4, \"character\": \"Captain Jack Spa...   \n",
       "2  [{\"cast_id\": 1, \"character\": \"James Bond\", \"cr...   \n",
       "3  [{\"cast_id\": 2, \"character\": \"Bruce Wayne / Ba...   \n",
       "4  [{\"cast_id\": 5, \"character\": \"John Carter\", \"c...   \n",
       "\n",
       "                                                crew  \n",
       "0  [{\"credit_id\": \"52fe48009251416c750aca23\", \"de...  \n",
       "1  [{\"credit_id\": \"52fe4232c3a36847f800b579\", \"de...  \n",
       "2  [{\"credit_id\": \"54805967c3a36829b5002c41\", \"de...  \n",
       "3  [{\"credit_id\": \"52fe4781c3a36847f81398c3\", \"de...  \n",
       "4  [{\"credit_id\": \"52fe479ac3a36847f813eaa3\", \"de...  "
      ]
     },
     "execution_count": 35,
     "metadata": {},
     "output_type": "execute_result"
    }
   ],
   "source": [
    "movies.head()"
   ]
  },
  {
   "cell_type": "code",
   "execution_count": 36,
   "id": "34469834",
   "metadata": {},
   "outputs": [],
   "source": [
    "# 'sam worthington'\n",
    "# convert to\n",
    "# 'samworthington'\n",
    "movies['genres'] = movies['genres'].apply(lambda x:[i.replace(\" \",\"\") for i in x])\n",
    "\n",
    "movies['keywords'] = movies['keywords'].apply(lambda x:[i.replace(\" \",\"\") for i in x])\n",
    "\n",
    "movies['cast'] = movies['cast'].apply(lambda x:[i.replace(\" \",\"\") for i in x])\n",
    "\n",
    "movies['crew'] = movies['crew'].apply(lambda x:[i.replace(\" \",\"\") for i in x])"
   ]
  },
  {
   "cell_type": "code",
   "execution_count": 37,
   "id": "1b0c248c",
   "metadata": {},
   "outputs": [
    {
     "data": {
      "text/html": [
       "<div>\n",
       "<style scoped>\n",
       "    .dataframe tbody tr th:only-of-type {\n",
       "        vertical-align: middle;\n",
       "    }\n",
       "\n",
       "    .dataframe tbody tr th {\n",
       "        vertical-align: top;\n",
       "    }\n",
       "\n",
       "    .dataframe thead th {\n",
       "        text-align: right;\n",
       "    }\n",
       "</style>\n",
       "<table border=\"1\" class=\"dataframe\">\n",
       "  <thead>\n",
       "    <tr style=\"text-align: right;\">\n",
       "      <th></th>\n",
       "      <th>movie_id</th>\n",
       "      <th>title</th>\n",
       "      <th>overview</th>\n",
       "      <th>genres</th>\n",
       "      <th>keywords</th>\n",
       "      <th>cast</th>\n",
       "      <th>crew</th>\n",
       "    </tr>\n",
       "  </thead>\n",
       "  <tbody>\n",
       "    <tr>\n",
       "      <th>0</th>\n",
       "      <td>19995</td>\n",
       "      <td>Avatar</td>\n",
       "      <td>[In, the, 22nd, century,, a, paraplegic, Marin...</td>\n",
       "      <td>[[, {, \", i, d, \", :, , 2, 8, ,, , \", n, a, m,...</td>\n",
       "      <td>[[, {, \", i, d, \", :, , 1, 4, 6, 3, ,, , \", n,...</td>\n",
       "      <td>[[, {, \", c, a, s, t, _, i, d, \", :, , 2, 4, 2...</td>\n",
       "      <td>[[, {, \", c, r, e, d, i, t, _, i, d, \", :, , \"...</td>\n",
       "    </tr>\n",
       "    <tr>\n",
       "      <th>1</th>\n",
       "      <td>285</td>\n",
       "      <td>Pirates of the Caribbean: At World's End</td>\n",
       "      <td>[Captain, Barbossa,, long, believed, to, be, d...</td>\n",
       "      <td>[[, {, \", i, d, \", :, , 1, 2, ,, , \", n, a, m,...</td>\n",
       "      <td>[[, {, \", i, d, \", :, , 2, 7, 0, ,, , \", n, a,...</td>\n",
       "      <td>[[, {, \", c, a, s, t, _, i, d, \", :, , 4, ,, ,...</td>\n",
       "      <td>[[, {, \", c, r, e, d, i, t, _, i, d, \", :, , \"...</td>\n",
       "    </tr>\n",
       "    <tr>\n",
       "      <th>2</th>\n",
       "      <td>206647</td>\n",
       "      <td>Spectre</td>\n",
       "      <td>[A, cryptic, message, from, Bond’s, past, send...</td>\n",
       "      <td>[[, {, \", i, d, \", :, , 2, 8, ,, , \", n, a, m,...</td>\n",
       "      <td>[[, {, \", i, d, \", :, , 4, 7, 0, ,, , \", n, a,...</td>\n",
       "      <td>[[, {, \", c, a, s, t, _, i, d, \", :, , 1, ,, ,...</td>\n",
       "      <td>[[, {, \", c, r, e, d, i, t, _, i, d, \", :, , \"...</td>\n",
       "    </tr>\n",
       "    <tr>\n",
       "      <th>3</th>\n",
       "      <td>49026</td>\n",
       "      <td>The Dark Knight Rises</td>\n",
       "      <td>[Following, the, death, of, District, Attorney...</td>\n",
       "      <td>[[, {, \", i, d, \", :, , 2, 8, ,, , \", n, a, m,...</td>\n",
       "      <td>[[, {, \", i, d, \", :, , 8, 4, 9, ,, , \", n, a,...</td>\n",
       "      <td>[[, {, \", c, a, s, t, _, i, d, \", :, , 2, ,, ,...</td>\n",
       "      <td>[[, {, \", c, r, e, d, i, t, _, i, d, \", :, , \"...</td>\n",
       "    </tr>\n",
       "    <tr>\n",
       "      <th>4</th>\n",
       "      <td>49529</td>\n",
       "      <td>John Carter</td>\n",
       "      <td>[John, Carter, is, a, war-weary,, former, mili...</td>\n",
       "      <td>[[, {, \", i, d, \", :, , 2, 8, ,, , \", n, a, m,...</td>\n",
       "      <td>[[, {, \", i, d, \", :, , 8, 1, 8, ,, , \", n, a,...</td>\n",
       "      <td>[[, {, \", c, a, s, t, _, i, d, \", :, , 5, ,, ,...</td>\n",
       "      <td>[[, {, \", c, r, e, d, i, t, _, i, d, \", :, , \"...</td>\n",
       "    </tr>\n",
       "  </tbody>\n",
       "</table>\n",
       "</div>"
      ],
      "text/plain": [
       "   movie_id                                     title  \\\n",
       "0     19995                                    Avatar   \n",
       "1       285  Pirates of the Caribbean: At World's End   \n",
       "2    206647                                   Spectre   \n",
       "3     49026                     The Dark Knight Rises   \n",
       "4     49529                               John Carter   \n",
       "\n",
       "                                            overview  \\\n",
       "0  [In, the, 22nd, century,, a, paraplegic, Marin...   \n",
       "1  [Captain, Barbossa,, long, believed, to, be, d...   \n",
       "2  [A, cryptic, message, from, Bond’s, past, send...   \n",
       "3  [Following, the, death, of, District, Attorney...   \n",
       "4  [John, Carter, is, a, war-weary,, former, mili...   \n",
       "\n",
       "                                              genres  \\\n",
       "0  [[, {, \", i, d, \", :, , 2, 8, ,, , \", n, a, m,...   \n",
       "1  [[, {, \", i, d, \", :, , 1, 2, ,, , \", n, a, m,...   \n",
       "2  [[, {, \", i, d, \", :, , 2, 8, ,, , \", n, a, m,...   \n",
       "3  [[, {, \", i, d, \", :, , 2, 8, ,, , \", n, a, m,...   \n",
       "4  [[, {, \", i, d, \", :, , 2, 8, ,, , \", n, a, m,...   \n",
       "\n",
       "                                            keywords  \\\n",
       "0  [[, {, \", i, d, \", :, , 1, 4, 6, 3, ,, , \", n,...   \n",
       "1  [[, {, \", i, d, \", :, , 2, 7, 0, ,, , \", n, a,...   \n",
       "2  [[, {, \", i, d, \", :, , 4, 7, 0, ,, , \", n, a,...   \n",
       "3  [[, {, \", i, d, \", :, , 8, 4, 9, ,, , \", n, a,...   \n",
       "4  [[, {, \", i, d, \", :, , 8, 1, 8, ,, , \", n, a,...   \n",
       "\n",
       "                                                cast  \\\n",
       "0  [[, {, \", c, a, s, t, _, i, d, \", :, , 2, 4, 2...   \n",
       "1  [[, {, \", c, a, s, t, _, i, d, \", :, , 4, ,, ,...   \n",
       "2  [[, {, \", c, a, s, t, _, i, d, \", :, , 1, ,, ,...   \n",
       "3  [[, {, \", c, a, s, t, _, i, d, \", :, , 2, ,, ,...   \n",
       "4  [[, {, \", c, a, s, t, _, i, d, \", :, , 5, ,, ,...   \n",
       "\n",
       "                                                crew  \n",
       "0  [[, {, \", c, r, e, d, i, t, _, i, d, \", :, , \"...  \n",
       "1  [[, {, \", c, r, e, d, i, t, _, i, d, \", :, , \"...  \n",
       "2  [[, {, \", c, r, e, d, i, t, _, i, d, \", :, , \"...  \n",
       "3  [[, {, \", c, r, e, d, i, t, _, i, d, \", :, , \"...  \n",
       "4  [[, {, \", c, r, e, d, i, t, _, i, d, \", :, , \"...  "
      ]
     },
     "execution_count": 37,
     "metadata": {},
     "output_type": "execute_result"
    }
   ],
   "source": [
    "movies.head()"
   ]
  },
  {
   "cell_type": "code",
   "execution_count": 38,
   "id": "503a89c2",
   "metadata": {},
   "outputs": [],
   "source": [
    "movies['tags'] = movies['overview'] + movies['genres'] + movies['keywords'] + movies['cast'] + movies['crew'] "
   ]
  },
  {
   "cell_type": "code",
   "execution_count": 39,
   "id": "33ff5022",
   "metadata": {},
   "outputs": [
    {
     "data": {
      "text/html": [
       "<div>\n",
       "<style scoped>\n",
       "    .dataframe tbody tr th:only-of-type {\n",
       "        vertical-align: middle;\n",
       "    }\n",
       "\n",
       "    .dataframe tbody tr th {\n",
       "        vertical-align: top;\n",
       "    }\n",
       "\n",
       "    .dataframe thead th {\n",
       "        text-align: right;\n",
       "    }\n",
       "</style>\n",
       "<table border=\"1\" class=\"dataframe\">\n",
       "  <thead>\n",
       "    <tr style=\"text-align: right;\">\n",
       "      <th></th>\n",
       "      <th>movie_id</th>\n",
       "      <th>title</th>\n",
       "      <th>overview</th>\n",
       "      <th>genres</th>\n",
       "      <th>keywords</th>\n",
       "      <th>cast</th>\n",
       "      <th>crew</th>\n",
       "      <th>tags</th>\n",
       "    </tr>\n",
       "  </thead>\n",
       "  <tbody>\n",
       "    <tr>\n",
       "      <th>0</th>\n",
       "      <td>19995</td>\n",
       "      <td>Avatar</td>\n",
       "      <td>[In, the, 22nd, century,, a, paraplegic, Marin...</td>\n",
       "      <td>[[, {, \", i, d, \", :, , 2, 8, ,, , \", n, a, m,...</td>\n",
       "      <td>[[, {, \", i, d, \", :, , 1, 4, 6, 3, ,, , \", n,...</td>\n",
       "      <td>[[, {, \", c, a, s, t, _, i, d, \", :, , 2, 4, 2...</td>\n",
       "      <td>[[, {, \", c, r, e, d, i, t, _, i, d, \", :, , \"...</td>\n",
       "      <td>[In, the, 22nd, century,, a, paraplegic, Marin...</td>\n",
       "    </tr>\n",
       "    <tr>\n",
       "      <th>1</th>\n",
       "      <td>285</td>\n",
       "      <td>Pirates of the Caribbean: At World's End</td>\n",
       "      <td>[Captain, Barbossa,, long, believed, to, be, d...</td>\n",
       "      <td>[[, {, \", i, d, \", :, , 1, 2, ,, , \", n, a, m,...</td>\n",
       "      <td>[[, {, \", i, d, \", :, , 2, 7, 0, ,, , \", n, a,...</td>\n",
       "      <td>[[, {, \", c, a, s, t, _, i, d, \", :, , 4, ,, ,...</td>\n",
       "      <td>[[, {, \", c, r, e, d, i, t, _, i, d, \", :, , \"...</td>\n",
       "      <td>[Captain, Barbossa,, long, believed, to, be, d...</td>\n",
       "    </tr>\n",
       "    <tr>\n",
       "      <th>2</th>\n",
       "      <td>206647</td>\n",
       "      <td>Spectre</td>\n",
       "      <td>[A, cryptic, message, from, Bond’s, past, send...</td>\n",
       "      <td>[[, {, \", i, d, \", :, , 2, 8, ,, , \", n, a, m,...</td>\n",
       "      <td>[[, {, \", i, d, \", :, , 4, 7, 0, ,, , \", n, a,...</td>\n",
       "      <td>[[, {, \", c, a, s, t, _, i, d, \", :, , 1, ,, ,...</td>\n",
       "      <td>[[, {, \", c, r, e, d, i, t, _, i, d, \", :, , \"...</td>\n",
       "      <td>[A, cryptic, message, from, Bond’s, past, send...</td>\n",
       "    </tr>\n",
       "    <tr>\n",
       "      <th>3</th>\n",
       "      <td>49026</td>\n",
       "      <td>The Dark Knight Rises</td>\n",
       "      <td>[Following, the, death, of, District, Attorney...</td>\n",
       "      <td>[[, {, \", i, d, \", :, , 2, 8, ,, , \", n, a, m,...</td>\n",
       "      <td>[[, {, \", i, d, \", :, , 8, 4, 9, ,, , \", n, a,...</td>\n",
       "      <td>[[, {, \", c, a, s, t, _, i, d, \", :, , 2, ,, ,...</td>\n",
       "      <td>[[, {, \", c, r, e, d, i, t, _, i, d, \", :, , \"...</td>\n",
       "      <td>[Following, the, death, of, District, Attorney...</td>\n",
       "    </tr>\n",
       "    <tr>\n",
       "      <th>4</th>\n",
       "      <td>49529</td>\n",
       "      <td>John Carter</td>\n",
       "      <td>[John, Carter, is, a, war-weary,, former, mili...</td>\n",
       "      <td>[[, {, \", i, d, \", :, , 2, 8, ,, , \", n, a, m,...</td>\n",
       "      <td>[[, {, \", i, d, \", :, , 8, 1, 8, ,, , \", n, a,...</td>\n",
       "      <td>[[, {, \", c, a, s, t, _, i, d, \", :, , 5, ,, ,...</td>\n",
       "      <td>[[, {, \", c, r, e, d, i, t, _, i, d, \", :, , \"...</td>\n",
       "      <td>[John, Carter, is, a, war-weary,, former, mili...</td>\n",
       "    </tr>\n",
       "  </tbody>\n",
       "</table>\n",
       "</div>"
      ],
      "text/plain": [
       "   movie_id                                     title  \\\n",
       "0     19995                                    Avatar   \n",
       "1       285  Pirates of the Caribbean: At World's End   \n",
       "2    206647                                   Spectre   \n",
       "3     49026                     The Dark Knight Rises   \n",
       "4     49529                               John Carter   \n",
       "\n",
       "                                            overview  \\\n",
       "0  [In, the, 22nd, century,, a, paraplegic, Marin...   \n",
       "1  [Captain, Barbossa,, long, believed, to, be, d...   \n",
       "2  [A, cryptic, message, from, Bond’s, past, send...   \n",
       "3  [Following, the, death, of, District, Attorney...   \n",
       "4  [John, Carter, is, a, war-weary,, former, mili...   \n",
       "\n",
       "                                              genres  \\\n",
       "0  [[, {, \", i, d, \", :, , 2, 8, ,, , \", n, a, m,...   \n",
       "1  [[, {, \", i, d, \", :, , 1, 2, ,, , \", n, a, m,...   \n",
       "2  [[, {, \", i, d, \", :, , 2, 8, ,, , \", n, a, m,...   \n",
       "3  [[, {, \", i, d, \", :, , 2, 8, ,, , \", n, a, m,...   \n",
       "4  [[, {, \", i, d, \", :, , 2, 8, ,, , \", n, a, m,...   \n",
       "\n",
       "                                            keywords  \\\n",
       "0  [[, {, \", i, d, \", :, , 1, 4, 6, 3, ,, , \", n,...   \n",
       "1  [[, {, \", i, d, \", :, , 2, 7, 0, ,, , \", n, a,...   \n",
       "2  [[, {, \", i, d, \", :, , 4, 7, 0, ,, , \", n, a,...   \n",
       "3  [[, {, \", i, d, \", :, , 8, 4, 9, ,, , \", n, a,...   \n",
       "4  [[, {, \", i, d, \", :, , 8, 1, 8, ,, , \", n, a,...   \n",
       "\n",
       "                                                cast  \\\n",
       "0  [[, {, \", c, a, s, t, _, i, d, \", :, , 2, 4, 2...   \n",
       "1  [[, {, \", c, a, s, t, _, i, d, \", :, , 4, ,, ,...   \n",
       "2  [[, {, \", c, a, s, t, _, i, d, \", :, , 1, ,, ,...   \n",
       "3  [[, {, \", c, a, s, t, _, i, d, \", :, , 2, ,, ,...   \n",
       "4  [[, {, \", c, a, s, t, _, i, d, \", :, , 5, ,, ,...   \n",
       "\n",
       "                                                crew  \\\n",
       "0  [[, {, \", c, r, e, d, i, t, _, i, d, \", :, , \"...   \n",
       "1  [[, {, \", c, r, e, d, i, t, _, i, d, \", :, , \"...   \n",
       "2  [[, {, \", c, r, e, d, i, t, _, i, d, \", :, , \"...   \n",
       "3  [[, {, \", c, r, e, d, i, t, _, i, d, \", :, , \"...   \n",
       "4  [[, {, \", c, r, e, d, i, t, _, i, d, \", :, , \"...   \n",
       "\n",
       "                                                tags  \n",
       "0  [In, the, 22nd, century,, a, paraplegic, Marin...  \n",
       "1  [Captain, Barbossa,, long, believed, to, be, d...  \n",
       "2  [A, cryptic, message, from, Bond’s, past, send...  \n",
       "3  [Following, the, death, of, District, Attorney...  \n",
       "4  [John, Carter, is, a, war-weary,, former, mili...  "
      ]
     },
     "execution_count": 39,
     "metadata": {},
     "output_type": "execute_result"
    }
   ],
   "source": [
    "movies.head()"
   ]
  },
  {
   "cell_type": "code",
   "execution_count": 40,
   "id": "de9aa710",
   "metadata": {},
   "outputs": [],
   "source": [
    "new_df = movies[['movie_id', 'title', 'tags']]"
   ]
  },
  {
   "cell_type": "code",
   "execution_count": 41,
   "id": "91fdf62c",
   "metadata": {},
   "outputs": [
    {
     "name": "stderr",
     "output_type": "stream",
     "text": [
      "C:\\Users\\Hp\\AppData\\Local\\Temp\\ipykernel_18828\\3089450492.py:1: SettingWithCopyWarning: \n",
      "A value is trying to be set on a copy of a slice from a DataFrame.\n",
      "Try using .loc[row_indexer,col_indexer] = value instead\n",
      "\n",
      "See the caveats in the documentation: https://pandas.pydata.org/pandas-docs/stable/user_guide/indexing.html#returning-a-view-versus-a-copy\n",
      "  new_df['tags'] = new_df['tags'].apply(lambda x:\" \".join(x))\n"
     ]
    }
   ],
   "source": [
    "new_df['tags'] = new_df['tags'].apply(lambda x:\" \".join(x))"
   ]
  },
  {
   "cell_type": "code",
   "execution_count": 42,
   "id": "d107398b",
   "metadata": {},
   "outputs": [
    {
     "data": {
      "text/html": [
       "<div>\n",
       "<style scoped>\n",
       "    .dataframe tbody tr th:only-of-type {\n",
       "        vertical-align: middle;\n",
       "    }\n",
       "\n",
       "    .dataframe tbody tr th {\n",
       "        vertical-align: top;\n",
       "    }\n",
       "\n",
       "    .dataframe thead th {\n",
       "        text-align: right;\n",
       "    }\n",
       "</style>\n",
       "<table border=\"1\" class=\"dataframe\">\n",
       "  <thead>\n",
       "    <tr style=\"text-align: right;\">\n",
       "      <th></th>\n",
       "      <th>movie_id</th>\n",
       "      <th>title</th>\n",
       "      <th>tags</th>\n",
       "    </tr>\n",
       "  </thead>\n",
       "  <tbody>\n",
       "    <tr>\n",
       "      <th>0</th>\n",
       "      <td>19995</td>\n",
       "      <td>Avatar</td>\n",
       "      <td>In the 22nd century, a paraplegic Marine is di...</td>\n",
       "    </tr>\n",
       "    <tr>\n",
       "      <th>1</th>\n",
       "      <td>285</td>\n",
       "      <td>Pirates of the Caribbean: At World's End</td>\n",
       "      <td>Captain Barbossa, long believed to be dead, ha...</td>\n",
       "    </tr>\n",
       "    <tr>\n",
       "      <th>2</th>\n",
       "      <td>206647</td>\n",
       "      <td>Spectre</td>\n",
       "      <td>A cryptic message from Bond’s past sends him o...</td>\n",
       "    </tr>\n",
       "    <tr>\n",
       "      <th>3</th>\n",
       "      <td>49026</td>\n",
       "      <td>The Dark Knight Rises</td>\n",
       "      <td>Following the death of District Attorney Harve...</td>\n",
       "    </tr>\n",
       "    <tr>\n",
       "      <th>4</th>\n",
       "      <td>49529</td>\n",
       "      <td>John Carter</td>\n",
       "      <td>John Carter is a war-weary, former military ca...</td>\n",
       "    </tr>\n",
       "  </tbody>\n",
       "</table>\n",
       "</div>"
      ],
      "text/plain": [
       "   movie_id                                     title  \\\n",
       "0     19995                                    Avatar   \n",
       "1       285  Pirates of the Caribbean: At World's End   \n",
       "2    206647                                   Spectre   \n",
       "3     49026                     The Dark Knight Rises   \n",
       "4     49529                               John Carter   \n",
       "\n",
       "                                                tags  \n",
       "0  In the 22nd century, a paraplegic Marine is di...  \n",
       "1  Captain Barbossa, long believed to be dead, ha...  \n",
       "2  A cryptic message from Bond’s past sends him o...  \n",
       "3  Following the death of District Attorney Harve...  \n",
       "4  John Carter is a war-weary, former military ca...  "
      ]
     },
     "execution_count": 42,
     "metadata": {},
     "output_type": "execute_result"
    }
   ],
   "source": [
    "new_df.head()"
   ]
  },
  {
   "cell_type": "code",
   "execution_count": 44,
   "id": "01d151c0",
   "metadata": {},
   "outputs": [
    {
     "name": "stdout",
     "output_type": "stream",
     "text": [
      "Defaulting to user installation because normal site-packages is not writeable\n",
      "Requirement already satisfied: nltk in c:\\users\\hp\\appdata\\roaming\\python\\python311\\site-packages (3.8.1)\n",
      "Requirement already satisfied: click in c:\\users\\hp\\appdata\\roaming\\python\\python311\\site-packages (from nltk) (8.1.6)\n",
      "Requirement already satisfied: joblib in c:\\users\\hp\\appdata\\roaming\\python\\python311\\site-packages (from nltk) (1.2.0)\n",
      "Requirement already satisfied: regex>=2021.8.3 in c:\\users\\hp\\appdata\\roaming\\python\\python311\\site-packages (from nltk) (2023.6.3)\n",
      "Requirement already satisfied: tqdm in c:\\users\\hp\\appdata\\roaming\\python\\python311\\site-packages (from nltk) (4.65.0)\n",
      "Requirement already satisfied: colorama in c:\\users\\hp\\appdata\\roaming\\python\\python311\\site-packages (from click->nltk) (0.4.6)\n"
     ]
    },
    {
     "name": "stderr",
     "output_type": "stream",
     "text": [
      "\n",
      "[notice] A new release of pip is available: 23.2.1 -> 23.3.1\n",
      "[notice] To update, run: python.exe -m pip install --upgrade pip\n"
     ]
    }
   ],
   "source": [
    "!pip install nltk"
   ]
  },
  {
   "cell_type": "code",
   "execution_count": 45,
   "id": "e1f54e38",
   "metadata": {},
   "outputs": [],
   "source": [
    "import nltk"
   ]
  },
  {
   "cell_type": "code",
   "execution_count": 46,
   "id": "578bb437",
   "metadata": {},
   "outputs": [],
   "source": [
    "from nltk.stem.porter import PorterStemmer\n",
    "ps = PorterStemmer()"
   ]
  },
  {
   "cell_type": "code",
   "execution_count": 47,
   "id": "6effb360",
   "metadata": {},
   "outputs": [],
   "source": [
    "def stem(text):\n",
    "    y = []\n",
    "    \n",
    "    for i in text.split():\n",
    "        y.append(ps.stem(i))\n",
    "    \n",
    "    return \" \".join(y)"
   ]
  },
  {
   "cell_type": "code",
   "execution_count": 48,
   "id": "969720e2",
   "metadata": {},
   "outputs": [
    {
     "data": {
      "text/plain": [
       "'In the 22nd century, a paraplegic Marine is dispatched to the moon Pandora on a unique mission, but becomes torn between following orders and protecting an alien civilization. [ { \" i d \" :  2 8 ,  \" n a m e \" :  \" A c t i o n \" } ,  { \" i d \" :  1 2 ,  \" n a m e \" :  \" A d v e n t u r e \" } ,  { \" i d \" :  1 4 ,  \" n a m e \" :  \" F a n t a s y \" } ,  { \" i d \" :  8 7 8 ,  \" n a m e \" :  \" S c i e n c e  F i c t i o n \" } ] [ { \" i d \" :  1 4 6 3 ,  \" n a m e \" :  \" c u l t u r e  c l a s h \" } ,  { \" i d \" :  2 9 6 4 ,  \" n a m e \" :  \" f u t u r e \" } ,  { \" i d \" :  3 3 8 6 ,  \" n a m e \" :  \" s p a c e  w a r \" } ,  { \" i d \" :  3 3 8 8 ,  \" n a m e \" :  \" s p a c e  c o l o n y \" } ,  { \" i d \" :  3 6 7 9 ,  \" n a m e \" :  \" s o c i e t y \" } ,  { \" i d \" :  3 8 0 1 ,  \" n a m e \" :  \" s p a c e  t r a v e l \" } ,  { \" i d \" :  9 6 8 5 ,  \" n a m e \" :  \" f u t u r i s t i c \" } ,  { \" i d \" :  9 8 4 0 ,  \" n a m e \" :  \" r o m a n c e \" } ,  { \" i d \" :  9 8 8 2 ,  \" n a m e \" :  \" s p a c e \" } ,  { \" i d \" :  9 9 5 1 ,  \" n a m e \" :  \" a l i e n \" } ,  { \" i d \" :  1 0 1 4 8 ,  \" n a m e \" :  \" t r i b e \" } ,  { \" i d \" :  1 0 1 5 8 ,  \" n a m e \" :  \" a l i e n  p l a n e t \" } ,  { \" i d \" :  1 0 9 8 7 ,  \" n a m e \" :  \" c g i \" } ,  { \" i d \" :  1 1 3 9 9 ,  \" n a m e \" :  \" m a r i n e \" } ,  { \" i d \" :  1 3 0 6 5 ,  \" n a m e \" :  \" s o l d i e r \" } ,  { \" i d \" :  1 4 6 4 3 ,  \" n a m e \" :  \" b a t t l e \" } ,  { \" i d \" :  1 4 7 2 0 ,  \" n a m e \" :  \" l o v e  a f f a i r \" } ,  { \" i d \" :  1 6 5 4 3 1 ,  \" n a m e \" :  \" a n t i  w a r \" } ,  { \" i d \" :  1 9 3 5 5 4 ,  \" n a m e \" :  \" p o w e r  r e l a t i o n s \" } ,  { \" i d \" :  2 0 6 6 9 0 ,  \" n a m e \" :  \" m i n d  a n d  s o u l \" } ,  { \" i d \" :  2 0 9 7 1 4 ,  \" n a m e \" :  \" 3 d \" } ] [ { \" c a s t _ i d \" :  2 4 2 ,  \" c h a r a c t e r \" :  \" J a k e  S u l l y \" ,  \" c r e d i t _ i d \" :  \" 5 6 0 2 a 8 a 7 c 3 a 3 6 8 5 5 3 2 0 0 1 c 9 a \" ,  \" g e n d e r \" :  2 ,  \" i d \" :  6 5 7 3 1 ,  \" n a m e \" :  \" S a m  W o r t h i n g t o n \" ,  \" o r d e r \" :  0 } ,  { \" c a s t _ i d \" :  3 ,  \" c h a r a c t e r \" :  \" N e y t i r i \" ,  \" c r e d i t _ i d \" :  \" 5 2 f e 4 8 0 0 9 2 5 1 4 1 6 c 7 5 0 a c 9 c b \" ,  \" g e n d e r \" :  1 ,  \" i d \" :  8 6 9 1 ,  \" n a m e \" :  \" Z o e  S a l d a n a \" ,  \" o r d e r \" :  1 } ,  { \" c a s t _ i d \" :  2 5 ,  \" c h a r a c t e r \" :  \" D r .  G r a c e  A u g u s t i n e \" ,  \" c r e d i t _ i d \" :  \" 5 2 f e 4 8 0 0 9 2 5 1 4 1 6 c 7 5 0 a c a 3 9 \" ,  \" g e n d e r \" :  1 ,  \" i d \" :  1 0 2 0 5 ,  \" n a m e \" :  \" S i g o u r n e y  W e a v e r \" ,  \" o r d e r \" :  2 } ,  { \" c a s t _ i d \" :  4 ,  \" c h a r a c t e r \" :  \" C o l .  Q u a r i t c h \" ,  \" c r e d i t _ i d \" :  \" 5 2 f e 4 8 0 0 9 2 5 1 4 1 6 c 7 5 0 a c 9 c f \" ,  \" g e n d e r \" :  2 ,  \" i d \" :  3 2 7 4 7 ,  \" n a m e \" :  \" S t e p h e n  L a n g \" ,  \" o r d e r \" :  3 } ,  { \" c a s t _ i d \" :  5 ,  \" c h a r a c t e r \" :  \" T r u d y  C h a c o n \" ,  \" c r e d i t _ i d \" :  \" 5 2 f e 4 8 0 0 9 2 5 1 4 1 6 c 7 5 0 a c 9 d 3 \" ,  \" g e n d e r \" :  1 ,  \" i d \" :  1 7 6 4 7 ,  \" n a m e \" :  \" M i c h e l l e  R o d r i g u e z \" ,  \" o r d e r \" :  4 } ,  { \" c a s t _ i d \" :  8 ,  \" c h a r a c t e r \" :  \" S e l f r i d g e \" ,  \" c r e d i t _ i d \" :  \" 5 2 f e 4 8 0 0 9 2 5 1 4 1 6 c 7 5 0 a c 9 e 1 \" ,  \" g e n d e r \" :  2 ,  \" i d \" :  1 7 7 1 ,  \" n a m e \" :  \" G i o v a n n i  R i b i s i \" ,  \" o r d e r \" :  5 } ,  { \" c a s t _ i d \" :  7 ,  \" c h a r a c t e r \" :  \" N o r m  S p e l l m a n \" ,  \" c r e d i t _ i d \" :  \" 5 2 f e 4 8 0 0 9 2 5 1 4 1 6 c 7 5 0 a c 9 d d \" ,  \" g e n d e r \" :  2 ,  \" i d \" :  5 9 2 3 1 ,  \" n a m e \" :  \" J o e l  D a v i d  M o o r e \" ,  \" o r d e r \" :  6 } ,  { \" c a s t _ i d \" :  9 ,  \" c h a r a c t e r \" :  \" M o a t \" ,  \" c r e d i t _ i d \" :  \" 5 2 f e 4 8 0 0 9 2 5 1 4 1 6 c 7 5 0 a c 9 e 5 \" ,  \" g e n d e r \" :  1 ,  \" i d \" :  3 0 4 8 5 ,  \" n a m e \" :  \" C C H  P o u n d e r \" ,  \" o r d e r \" :  7 } ,  { \" c a s t _ i d \" :  1 1 ,  \" c h a r a c t e r \" :  \" E y t u k a n \" ,  \" c r e d i t _ i d \" :  \" 5 2 f e 4 8 0 0 9 2 5 1 4 1 6 c 7 5 0 a c 9 e d \" ,  \" g e n d e r \" :  2 ,  \" i d \" :  1 5 8 5 3 ,  \" n a m e \" :  \" W e s  S t u d i \" ,  \" o r d e r \" :  8 } ,  { \" c a s t _ i d \" :  1 0 ,  \" c h a r a c t e r \" :  \" T s u \\' T e y \" ,  \" c r e d i t _ i d \" :  \" 5 2 f e 4 8 0 0 9 2 5 1 4 1 6 c 7 5 0 a c 9 e 9 \" ,  \" g e n d e r \" :  2 ,  \" i d \" :  1 0 9 6 4 ,  \" n a m e \" :  \" L a z  A l o n s o \" ,  \" o r d e r \" :  9 } ,  { \" c a s t _ i d \" :  1 2 ,  \" c h a r a c t e r \" :  \" D r .  M a x  P a t e l \" ,  \" c r e d i t _ i d \" :  \" 5 2 f e 4 8 0 0 9 2 5 1 4 1 6 c 7 5 0 a c 9 f 1 \" ,  \" g e n d e r \" :  2 ,  \" i d \" :  9 5 6 9 7 ,  \" n a m e \" :  \" D i l e e p  R a o \" ,  \" o r d e r \" :  1 0 } ,  { \" c a s t _ i d \" :  1 3 ,  \" c h a r a c t e r \" :  \" L y l e  W a i n f l e e t \" ,  \" c r e d i t _ i d \" :  \" 5 2 f e 4 8 0 0 9 2 5 1 4 1 6 c 7 5 0 a c 9 f 5 \" ,  \" g e n d e r \" :  2 ,  \" i d \" :  9 8 2 1 5 ,  \" n a m e \" :  \" M a t t  G e r a l d \" ,  \" o r d e r \" :  1 1 } ,  { \" c a s t _ i d \" :  3 2 ,  \" c h a r a c t e r \" :  \" P r i v a t e  F i k e \" ,  \" c r e d i t _ i d \" :  \" 5 2 f e 4 8 0 0 9 2 5 1 4 1 6 c 7 5 0 a c a 5 b \" ,  \" g e n d e r \" :  2 ,  \" i d \" :  1 5 4 1 5 3 ,  \" n a m e \" :  \" S e a n  A n t h o n y  M o r a n \" ,  \" o r d e r \" :  1 2 } ,  { \" c a s t _ i d \" :  3 3 ,  \" c h a r a c t e r \" :  \" C r y o  V a u l t  M e d  T e c h \" ,  \" c r e d i t _ i d \" :  \" 5 2 f e 4 8 0 0 9 2 5 1 4 1 6 c 7 5 0 a c a 5 f \" ,  \" g e n d e r \" :  2 ,  \" i d \" :  3 9 7 3 1 2 ,  \" n a m e \" :  \" J a s o n  W h y t e \" ,  \" o r d e r \" :  1 3 } ,  { \" c a s t _ i d \" :  3 4 ,  \" c h a r a c t e r \" :  \" V e n t u r e  S t a r  C r e w  C h i e f \" ,  \" c r e d i t _ i d \" :  \" 5 2 f e 4 8 0 0 9 2 5 1 4 1 6 c 7 5 0 a c a 6 3 \" ,  \" g e n d e r \" :  2 ,  \" i d \" :  4 2 3 1 7 ,  \" n a m e \" :  \" S c o t t  L a w r e n c e \" ,  \" o r d e r \" :  1 4 } ,  { \" c a s t _ i d \" :  3 5 ,  \" c h a r a c t e r \" :  \" L o c k  U p  T r o o p e r \" ,  \" c r e d i t _ i d \" :  \" 5 2 f e 4 8 0 0 9 2 5 1 4 1 6 c 7 5 0 a c a 6 7 \" ,  \" g e n d e r \" :  2 ,  \" i d \" :  9 8 6 7 3 4 ,  \" n a m e \" :  \" K e l l y  K i l g o u r \" ,  \" o r d e r \" :  1 5 } ,  { \" c a s t _ i d \" :  3 6 ,  \" c h a r a c t e r \" :  \" S h u t t l e  P i l o t \" ,  \" c r e d i t _ i d \" :  \" 5 2 f e 4 8 0 0 9 2 5 1 4 1 6 c 7 5 0 a c a 6 b \" ,  \" g e n d e r \" :  0 ,  \" i d \" :  1 2 0 7 2 2 7 ,  \" n a m e \" :  \" J a m e s  P a t r i c k  P i t t \" ,  \" o r d e r \" :  1 6 } ,  { \" c a s t _ i d \" :  3 7 ,  \" c h a r a c t e r \" :  \" S h u t t l e  C o - P i l o t \" ,  \" c r e d i t _ i d \" :  \" 5 2 f e 4 8 0 0 9 2 5 1 4 1 6 c 7 5 0 a c a 6 f \" ,  \" g e n d e r \" :  0 ,  \" i d \" :  1 1 8 0 9 3 6 ,  \" n a m e \" :  \" S e a n  P a t r i c k  M u r p h y \" ,  \" o r d e r \" :  1 7 } ,  { \" c a s t _ i d \" :  3 8 ,  \" c h a r a c t e r \" :  \" S h u t t l e  C r e w  C h i e f \" ,  \" c r e d i t _ i d \" :  \" 5 2 f e 4 8 0 0 9 2 5 1 4 1 6 c 7 5 0 a c a 7 3 \" ,  \" g e n d e r \" :  2 ,  \" i d \" :  1 0 1 9 5 7 8 ,  \" n a m e \" :  \" P e t e r  D i l l o n \" ,  \" o r d e r \" :  1 8 } ,  { \" c a s t _ i d \" :  3 9 ,  \" c h a r a c t e r \" :  \" T r a c t o r  O p e r a t o r  /  T r o u p e \" ,  \" c r e d i t _ i d \" :  \" 5 2 f e 4 8 0 0 9 2 5 1 4 1 6 c 7 5 0 a c a 7 7 \" ,  \" g e n d e r \" :  0 ,  \" i d \" :  9 1 4 4 3 ,  \" n a m e \" :  \" K e v i n  D o r m a n \" ,  \" o r d e r \" :  1 9 } ,  { \" c a s t _ i d \" :  4 0 ,  \" c h a r a c t e r \" :  \" D r a g o n  G u n s h i p  P i l o t \" ,  \" c r e d i t _ i d \" :  \" 5 2 f e 4 8 0 0 9 2 5 1 4 1 6 c 7 5 0 a c a 7 b \" ,  \" g e n d e r \" :  2 ,  \" i d \" :  1 7 3 3 9 1 ,  \" n a m e \" :  \" K e l s o n  H e n d e r s o n \" ,  \" o r d e r \" :  2 0 } ,  { \" c a s t _ i d \" :  4 1 ,  \" c h a r a c t e r \" :  \" D r a g o n  G u n s h i p  G u n n e r \" ,  \" c r e d i t _ i d \" :  \" 5 2 f e 4 8 0 0 9 2 5 1 4 1 6 c 7 5 0 a c a 7 f \" ,  \" g e n d e r \" :  0 ,  \" i d \" :  1 2 0 7 2 3 6 ,  \" n a m e \" :  \" D a v i d  V a n  H o r n \" ,  \" o r d e r \" :  2 1 } ,  { \" c a s t _ i d \" :  4 2 ,  \" c h a r a c t e r \" :  \" D r a g o n  G u n s h i p  N a v i g a t o r \" ,  \" c r e d i t _ i d \" :  \" 5 2 f e 4 8 0 0 9 2 5 1 4 1 6 c 7 5 0 a c a 8 3 \" ,  \" g e n d e r \" :  0 ,  \" i d \" :  2 1 5 9 1 3 ,  \" n a m e \" :  \" J a c o b  T o m u r i \" ,  \" o r d e r \" :  2 2 } ,  { \" c a s t _ i d \" :  4 3 ,  \" c h a r a c t e r \" :  \" S u i t  # 1 \" ,  \" c r e d i t _ i d \" :  \" 5 2 f e 4 8 0 0 9 2 5 1 4 1 6 c 7 5 0 a c a 8 7 \" ,  \" g e n d e r \" :  0 ,  \" i d \" :  1 4 3 2 0 6 ,  \" n a m e \" :  \" M i c h a e l  B l a i n - R o z g a y \" ,  \" o r d e r \" :  2 3 } ,  { \" c a s t _ i d \" :  4 4 ,  \" c h a r a c t e r \" :  \" S u i t  # 2 \" ,  \" c r e d i t _ i d \" :  \" 5 2 f e 4 8 0 0 9 2 5 1 4 1 6 c 7 5 0 a c a 8 b \" ,  \" g e n d e r \" :  2 ,  \" i d \" :  1 6 9 6 7 6 ,  \" n a m e \" :  \" J o n  C u r r y \" ,  \" o r d e r \" :  2 4 } ,  { \" c a s t _ i d \" :  4 6 ,  \" c h a r a c t e r \" :  \" A m b i e n t  R o o m  T e c h \" ,  \" c r e d i t _ i d \" :  \" 5 2 f e 4 8 0 0 9 2 5 1 4 1 6 c 7 5 0 a c a 8 f \" ,  \" g e n d e r \" :  0 ,  \" i d \" :  1 0 4 8 6 1 0 ,  \" n a m e \" :  \" L u k e  H a w k e r \" ,  \" o r d e r \" :  2 5 } ,  { \" c a s t _ i d \" :  4 7 ,  \" c h a r a c t e r \" :  \" A m b i e n t  R o o m  T e c h  /  T r o u p e \" ,  \" c r e d i t _ i d \" :  \" 5 2 f e 4 8 0 0 9 2 5 1 4 1 6 c 7 5 0 a c a 9 3 \" ,  \" g e n d e r \" :  0 ,  \" i d \" :  4 2 2 8 8 ,  \" n a m e \" :  \" W o o d y  S c h u l t z \" ,  \" o r d e r \" :  2 6 } ,  { \" c a s t _ i d \" :  4 8 ,  \" c h a r a c t e r \" :  \" H o r s e  C l a n  L e a d e r \" ,  \" c r e d i t _ i d \" :  \" 5 2 f e 4 8 0 0 9 2 5 1 4 1 6 c 7 5 0 a c a 9 7 \" ,  \" g e n d e r \" :  2 ,  \" i d \" :  6 8 2 7 8 ,  \" n a m e \" :  \" P e t e r  M e n s a h \" ,  \" o r d e r \" :  2 7 } ,  { \" c a s t _ i d \" :  4 9 ,  \" c h a r a c t e r \" :  \" L i n k  R o o m  T e c h \" ,  \" c r e d i t _ i d \" :  \" 5 2 f e 4 8 0 0 9 2 5 1 4 1 6 c 7 5 0 a c a 9 b \" ,  \" g e n d e r \" :  0 ,  \" i d \" :  1 2 0 7 2 4 7 ,  \" n a m e \" :  \" S o n i a  Y e e \" ,  \" o r d e r \" :  2 8 } ,  { \" c a s t _ i d \" :  5 0 ,  \" c h a r a c t e r \" :  \" B a s k e t b a l l  A v a t a r  /  T r o u p e \" ,  \" c r e d i t _ i d \" :  \" 5 2 f e 4 8 0 0 9 2 5 1 4 1 6 c 7 5 0 a c a 9 f \" ,  \" g e n d e r \" :  1 ,  \" i d \" :  1 2 0 7 2 4 8 ,  \" n a m e \" :  \" J a h n e l  C u r f m a n \" ,  \" o r d e r \" :  2 9 } ,  { \" c a s t _ i d \" :  5 1 ,  \" c h a r a c t e r \" :  \" B a s k e t b a l l  A v a t a r \" ,  \" c r e d i t _ i d \" :  \" 5 2 f e 4 8 0 0 9 2 5 1 4 1 6 c 7 5 0 a c a a 3 \" ,  \" g e n d e r \" :  0 ,  \" i d \" :  8 9 7 1 4 ,  \" n a m e \" :  \" I l r a m  C h o i \" ,  \" o r d e r \" :  3 0 } ,  { \" c a s t _ i d \" :  5 2 ,  \" c h a r a c t e r \" :  \" N a \\' v i  C h i l d \" ,  \" c r e d i t _ i d \" :  \" 5 2 f e 4 8 0 0 9 2 5 1 4 1 6 c 7 5 0 a c a a 7 \" ,  \" g e n d e r \" :  0 ,  \" i d \" :  1 2 0 7 2 4 9 ,  \" n a m e \" :  \" K y l a  W a r r e n \" ,  \" o r d e r \" :  3 1 } ,  { \" c a s t _ i d \" :  5 3 ,  \" c h a r a c t e r \" :  \" T r o u p e \" ,  \" c r e d i t _ i d \" :  \" 5 2 f e 4 8 0 0 9 2 5 1 4 1 6 c 7 5 0 a c a a b \" ,  \" g e n d e r \" :  0 ,  \" i d \" :  1 2 0 7 2 5 0 ,  \" n a m e \" :  \" L i s a  R o u m a i n \" ,  \" o r d e r \" :  3 2 } ,  { \" c a s t _ i d \" :  5 4 ,  \" c h a r a c t e r \" :  \" T r o u p e \" ,  \" c r e d i t _ i d \" :  \" 5 2 f e 4 8 0 0 9 2 5 1 4 1 6 c 7 5 0 a c a a f \" ,  \" g e n d e r \" :  1 ,  \" i d \" :  8 3 1 0 5 ,  \" n a m e \" :  \" D e b r a  W i l s o n \" ,  \" o r d e r \" :  3 3 } ,  { \" c a s t _ i d \" :  5 7 ,  \" c h a r a c t e r \" :  \" T r o u p e \" ,  \" c r e d i t _ i d \" :  \" 5 2 f e 4 8 0 0 9 2 5 1 4 1 6 c 7 5 0 a c a b b \" ,  \" g e n d e r \" :  0 ,  \" i d \" :  1 2 0 7 2 5 3 ,  \" n a m e \" :  \" C h r i s  M a l a \" ,  \" o r d e r \" :  3 4 } ,  { \" c a s t _ i d \" :  5 5 ,  \" c h a r a c t e r \" :  \" T r o u p e \" ,  \" c r e d i t _ i d \" :  \" 5 2 f e 4 8 0 0 9 2 5 1 4 1 6 c 7 5 0 a c a b 3 \" ,  \" g e n d e r \" :  0 ,  \" i d \" :  1 2 0 7 2 5 1 ,  \" n a m e \" :  \" T a y l o r  K i b b y \" ,  \" o r d e r \" :  3 5 } ,  { \" c a s t _ i d \" :  5 6 ,  \" c h a r a c t e r \" :  \" T r o u p e \" ,  \" c r e d i t _ i d \" :  \" 5 2 f e 4 8 0 0 9 2 5 1 4 1 6 c 7 5 0 a c a b 7 \" ,  \" g e n d e r \" :  0 ,  \" i d \" :  1 2 0 7 2 5 2 ,  \" n a m e \" :  \" J o d i e  L a n d a u \" ,  \" o r d e r \" :  3 6 } ,  { \" c a s t _ i d \" :  5 8 ,  \" c h a r a c t e r \" :  \" T r o u p e \" ,  \" c r e d i t _ i d \" :  \" 5 2 f e 4 8 0 0 9 2 5 1 4 1 6 c 7 5 0 a c a b f \" ,  \" g e n d e r \" :  0 ,  \" i d \" :  1 2 0 7 2 5 4 ,  \" n a m e \" :  \" J u l i e  L a m m \" ,  \" o r d e r \" :  3 7 } ,  { \" c a s t _ i d \" :  5 9 ,  \" c h a r a c t e r \" :  \" T r o u p e \" ,  \" c r e d i t _ i d \" :  \" 5 2 f e 4 8 0 0 9 2 5 1 4 1 6 c 7 5 0 a c a c 3 \" ,  \" g e n d e r \" :  0 ,  \" i d \" :  1 2 0 7 2 5 7 ,  \" n a m e \" :  \" C u l l e n  B .  M a d d e n \" ,  \" o r d e r \" :  3 8 } ,  { \" c a s t _ i d \" :  6 0 ,  \" c h a r a c t e r \" :  \" T r o u p e \" ,  \" c r e d i t _ i d \" :  \" 5 2 f e 4 8 0 0 9 2 5 1 4 1 6 c 7 5 0 a c a c 7 \" ,  \" g e n d e r \" :  0 ,  \" i d \" :  1 2 0 7 2 5 9 ,  \" n a m e \" :  \" J o s e p h  B r a d y  M a d d e n \" ,  \" o r d e r \" :  3 9 } ,  { \" c a s t _ i d \" :  6 1 ,  \" c h a r a c t e r \" :  \" T r o u p e \" ,  \" c r e d i t _ i d \" :  \" 5 2 f e 4 8 0 0 9 2 5 1 4 1 6 c 7 5 0 a c a c b \" ,  \" g e n d e r \" :  0 ,  \" i d \" :  1 2 0 7 2 6 2 ,  \" n a m e \" :  \" F r a n k i e  T o r r e s \" ,  \" o r d e r \" :  4 0 } ,  { \" c a s t _ i d \" :  6 2 ,  \" c h a r a c t e r \" :  \" T r o u p e \" ,  \" c r e d i t _ i d \" :  \" 5 2 f e 4 8 0 0 9 2 5 1 4 1 6 c 7 5 0 a c a c f \" ,  \" g e n d e r \" :  1 ,  \" i d \" :  1 1 5 8 6 0 0 ,  \" n a m e \" :  \" A u s t i n  W i l s o n \" ,  \" o r d e r \" :  4 1 } ,  { \" c a s t _ i d \" :  6 3 ,  \" c h a r a c t e r \" :  \" T r o u p e \" ,  \" c r e d i t _ i d \" :  \" 5 2 f e 4 8 0 1 9 2 5 1 4 1 6 c 7 5 0 a c a d 3 \" ,  \" g e n d e r \" :  1 ,  \" i d \" :  9 8 3 7 0 5 ,  \" n a m e \" :  \" S a r a  W i l s o n \" ,  \" o r d e r \" :  4 2 } ,  { \" c a s t _ i d \" :  6 4 ,  \" c h a r a c t e r \" :  \" T r o u p e \" ,  \" c r e d i t _ i d \" :  \" 5 2 f e 4 8 0 1 9 2 5 1 4 1 6 c 7 5 0 a c a d 7 \" ,  \" g e n d e r \" :  0 ,  \" i d \" :  1 2 0 7 2 6 3 ,  \" n a m e \" :  \" T a m i c a  W a s h i n g t o n - M i l l e r \" ,  \" o r d e r \" :  4 3 } ,  { \" c a s t _ i d \" :  6 5 ,  \" c h a r a c t e r \" :  \" O p  C e n t e r  S t a f f \" ,  \" c r e d i t _ i d \" :  \" 5 2 f e 4 8 0 1 9 2 5 1 4 1 6 c 7 5 0 a c a d b \" ,  \" g e n d e r \" :  1 ,  \" i d \" :  1 1 4 5 0 9 8 ,  \" n a m e \" :  \" L u c y  B r i a n t \" ,  \" o r d e r \" :  4 4 } ,  { \" c a s t _ i d \" :  6 6 ,  \" c h a r a c t e r \" :  \" O p  C e n t e r  S t a f f \" ,  \" c r e d i t _ i d \" :  \" 5 2 f e 4 8 0 1 9 2 5 1 4 1 6 c 7 5 0 a c a d f \" ,  \" g e n d e r \" :  2 ,  \" i d \" :  3 3 3 0 5 ,  \" n a m e \" :  \" N a t h a n  M e i s t e r \" ,  \" o r d e r \" :  4 5 } ,  { \" c a s t _ i d \" :  6 7 ,  \" c h a r a c t e r \" :  \" O p  C e n t e r  S t a f f \" ,  \" c r e d i t _ i d \" :  \" 5 2 f e 4 8 0 1 9 2 5 1 4 1 6 c 7 5 0 a c a e 3 \" ,  \" g e n d e r \" :  0 ,  \" i d \" :  1 2 0 7 2 6 4 ,  \" n a m e \" :  \" G e r r y  B l a i r \" ,  \" o r d e r \" :  4 6 } ,  { \" c a s t _ i d \" :  6 8 ,  \" c h a r a c t e r \" :  \" O p  C e n t e r  S t a f f \" ,  \" c r e d i t _ i d \" :  \" 5 2 f e 4 8 0 1 9 2 5 1 4 1 6 c 7 5 0 a c a e 7 \" ,  \" g e n d e r \" :  2 ,  \" i d \" :  3 3 3 1 1 ,  \" n a m e \" :  \" M a t t h e w  C h a m b e r l a i n \" ,  \" o r d e r \" :  4 7 } ,  { \" c a s t _ i d \" :  6 9 ,  \" c h a r a c t e r \" :  \" O p  C e n t e r  S t a f f \" ,  \" c r e d i t _ i d \" :  \" 5 2 f e 4 8 0 1 9 2 5 1 4 1 6 c 7 5 0 a c a e b \" ,  \" g e n d e r \" :  0 ,  \" i d \" :  1 2 0 7 2 6 5 ,  \" n a m e \" :  \" P a u l  Y a t e s \" ,  \" o r d e r \" :  4 8 } ,  { \" c a s t _ i d \" :  7 0 ,  \" c h a r a c t e r \" :  \" O p  C e n t e r  D u t y  O f f i c e r \" ,  \" c r e d i t _ i d \" :  \" 5 2 f e 4 8 0 1 9 2 5 1 4 1 6 c 7 5 0 a c a e f \" ,  \" g e n d e r \" :  0 ,  \" i d \" :  1 2 0 7 2 6 6 ,  \" n a m e \" :  \" W r a y  W i l s o n \" ,  \" o r d e r \" :  4 9 } ,  { \" c a s t _ i d \" :  7 1 ,  \" c h a r a c t e r \" :  \" O p  C e n t e r  S t a f f \" ,  \" c r e d i t _ i d \" :  \" 5 2 f e 4 8 0 1 9 2 5 1 4 1 6 c 7 5 0 a c a f 3 \" ,  \" g e n d e r \" :  2 ,  \" i d \" :  5 4 4 9 2 ,  \" n a m e \" :  \" J a m e s  G a y l y n \" ,  \" o r d e r \" :  5 0 } ,  { \" c a s t _ i d \" :  7 2 ,  \" c h a r a c t e r \" :  \" D a n c e r \" ,  \" c r e d i t _ i d \" :  \" 5 2 f e 4 8 0 1 9 2 5 1 4 1 6 c 7 5 0 a c a f 7 \" ,  \" g e n d e r \" :  0 ,  \" i d \" :  1 2 0 7 2 6 7 ,  \" n a m e \" :  \" M e l v i n  L e n o  C l a r k  I I I \" ,  \" o r d e r \" :  5 1 } ,  { \" c a s t _ i d \" :  7 3 ,  \" c h a r a c t e r \" :  \" D a n c e r \" ,  \" c r e d i t _ i d \" :  \" 5 2 f e 4 8 0 1 9 2 5 1 4 1 6 c 7 5 0 a c a f b \" ,  \" g e n d e r \" :  0 ,  \" i d \" :  1 2 0 7 2 6 8 ,  \" n a m e \" :  \" C a r v o n  F u t r e l l \" ,  \" o r d e r \" :  5 2 } ,  { \" c a s t _ i d \" :  7 4 ,  \" c h a r a c t e r \" :  \" D a n c e r \" ,  \" c r e d i t _ i d \" :  \" 5 2 f e 4 8 0 1 9 2 5 1 4 1 6 c 7 5 0 a c a f f \" ,  \" g e n d e r \" :  0 ,  \" i d \" :  1 2 0 7 2 6 9 ,  \" n a m e \" :  \" B r a n d o n  J e l k e s \" ,  \" o r d e r \" :  5 3 } ,  { \" c a s t _ i d \" :  7 5 ,  \" c h a r a c t e r \" :  \" D a n c e r \" ,  \" c r e d i t _ i d \" :  \" 5 2 f e 4 8 0 1 9 2 5 1 4 1 6 c 7 5 0 a c b 0 3 \" ,  \" g e n d e r \" :  0 ,  \" i d \" :  1 2 0 7 2 7 0 ,  \" n a m e \" :  \" M i c a h  M o c h \" ,  \" o r d e r \" :  5 4 } ,  { \" c a s t _ i d \" :  7 6 ,  \" c h a r a c t e r \" :  \" D a n c e r \" ,  \" c r e d i t _ i d \" :  \" 5 2 f e 4 8 0 1 9 2 5 1 4 1 6 c 7 5 0 a c b 0 7 \" ,  \" g e n d e r \" :  0 ,  \" i d \" :  1 2 0 7 2 7 1 ,  \" n a m e \" :  \" H a n n i y a h  M u h a m m a d \" ,  \" o r d e r \" :  5 5 } ,  { \" c a s t _ i d \" :  7 7 ,  \" c h a r a c t e r \" :  \" D a n c e r \" ,  \" c r e d i t _ i d \" :  \" 5 2 f e 4 8 0 1 9 2 5 1 4 1 6 c 7 5 0 a c b 0 b \" ,  \" g e n d e r \" :  0 ,  \" i d \" :  1 2 0 7 2 7 2 ,  \" n a m e \" :  \" C h r i s t o p h e r  N o l e n \" ,  \" o r d e r \" :  5 6 } ,  { \" c a s t _ i d \" :  7 8 ,  \" c h a r a c t e r \" :  \" D a n c e r \" ,  \" c r e d i t _ i d \" :  \" 5 2 f e 4 8 0 1 9 2 5 1 4 1 6 c 7 5 0 a c b 0 f \" ,  \" g e n d e r \" :  0 ,  \" i d \" :  1 2 0 7 2 7 3 ,  \" n a m e \" :  \" C h r i s t a  O l i v e r \" ,  \" o r d e r \" :  5 7 } ,  { \" c a s t _ i d \" :  7 9 ,  \" c h a r a c t e r \" :  \" D a n c e r \" ,  \" c r e d i t _ i d \" :  \" 5 2 f e 4 8 0 1 9 2 5 1 4 1 6 c 7 5 0 a c b 1 3 \" ,  \" g e n d e r \" :  0 ,  \" i d \" :  1 2 0 7 2 7 4 ,  \" n a m e \" :  \" A p r i l  M a r i e  T h o m a s \" ,  \" o r d e r \" :  5 8 } ,  { \" c a s t _ i d \" :  8 0 ,  \" c h a r a c t e r \" :  \" D a n c e r \" ,  \" c r e d i t _ i d \" :  \" 5 2 f e 4 8 0 1 9 2 5 1 4 1 6 c 7 5 0 a c b 1 7 \" ,  \" g e n d e r \" :  0 ,  \" i d \" :  1 2 0 7 2 7 5 ,  \" n a m e \" :  \" B r a v i t a  A .  T h r e a t t \" ,  \" o r d e r \" :  5 9 } ,  { \" c a s t _ i d \" :  8 1 ,  \" c h a r a c t e r \" :  \" M i n i n g  C h i e f  ( u n c r e d i t e d ) \" ,  \" c r e d i t _ i d \" :  \" 5 2 f e 4 8 0 1 9 2 5 1 4 1 6 c 7 5 0 a c b 1 b \" ,  \" g e n d e r \" :  0 ,  \" i d \" :  1 2 0 7 2 7 6 ,  \" n a m e \" :  \" C o l i n  B l e a s d a l e \" ,  \" o r d e r \" :  6 0 } ,  { \" c a s t _ i d \" :  8 2 ,  \" c h a r a c t e r \" :  \" V e t e r a n  M i n e r  ( u n c r e d i t e d ) \" ,  \" c r e d i t _ i d \" :  \" 5 2 f e 4 8 0 1 9 2 5 1 4 1 6 c 7 5 0 a c b 1 f \" ,  \" g e n d e r \" :  0 ,  \" i d \" :  1 0 7 9 6 9 ,  \" n a m e \" :  \" M i k e  B o d n a r \" ,  \" o r d e r \" :  6 1 } ,  { \" c a s t _ i d \" :  8 3 ,  \" c h a r a c t e r \" :  \" R i c h a r d  ( u n c r e d i t e d ) \" ,  \" c r e d i t _ i d \" :  \" 5 2 f e 4 8 0 1 9 2 5 1 4 1 6 c 7 5 0 a c b 2 3 \" ,  \" g e n d e r \" :  0 ,  \" i d \" :  1 2 0 7 2 7 8 ,  \" n a m e \" :  \" M a t t  C l a y t o n \" ,  \" o r d e r \" :  6 2 } ,  { \" c a s t _ i d \" :  8 4 ,  \" c h a r a c t e r \" :  \" N a v \\' i  ( u n c r e d i t e d ) \" ,  \" c r e d i t _ i d \" :  \" 5 2 f e 4 8 0 1 9 2 5 1 4 1 6 c 7 5 0 a c b 2 7 \" ,  \" g e n d e r \" :  1 ,  \" i d \" :  1 4 7 8 9 8 ,  \" n a m e \" :  \" N i c o l e  D i o n n e \" ,  \" o r d e r \" :  6 3 } ,  { \" c a s t _ i d \" :  8 5 ,  \" c h a r a c t e r \" :  \" T r o o p e r  ( u n c r e d i t e d ) \" ,  \" c r e d i t _ i d \" :  \" 5 2 f e 4 8 0 1 9 2 5 1 4 1 6 c 7 5 0 a c b 2 b \" ,  \" g e n d e r \" :  0 ,  \" i d \" :  1 2 0 7 2 8 0 ,  \" n a m e \" :  \" J a m i e  H a r r i s o n \" ,  \" o r d e r \" :  6 4 } ,  { \" c a s t _ i d \" :  8 6 ,  \" c h a r a c t e r \" :  \" T r o o p e r  ( u n c r e d i t e d ) \" ,  \" c r e d i t _ i d \" :  \" 5 2 f e 4 8 0 1 9 2 5 1 4 1 6 c 7 5 0 a c b 2 f \" ,  \" g e n d e r \" :  0 ,  \" i d \" :  1 2 0 7 2 8 1 ,  \" n a m e \" :  \" A l l a n  H e n r y \" ,  \" o r d e r \" :  6 5 } ,  { \" c a s t _ i d \" :  8 7 ,  \" c h a r a c t e r \" :  \" G r o u n d  T e c h n i c i a n  ( u n c r e d i t e d ) \" ,  \" c r e d i t _ i d \" :  \" 5 2 f e 4 8 0 1 9 2 5 1 4 1 6 c 7 5 0 a c b 3 3 \" ,  \" g e n d e r \" :  2 ,  \" i d \" :  1 2 0 7 2 8 2 ,  \" n a m e \" :  \" A n t h o n y  I n g r u b e r \" ,  \" o r d e r \" :  6 6 } ,  { \" c a s t _ i d \" :  8 8 ,  \" c h a r a c t e r \" :  \" F l i g h t  C r e w  M e c h a n i c  ( u n c r e d i t e d ) \" ,  \" c r e d i t _ i d \" :  \" 5 2 f e 4 8 0 1 9 2 5 1 4 1 6 c 7 5 0 a c b 3 7 \" ,  \" g e n d e r \" :  0 ,  \" i d \" :  1 2 0 7 2 8 3 ,  \" n a m e \" :  \" A s h l e y  J e f f e r y \" ,  \" o r d e r \" :  6 7 } ,  { \" c a s t _ i d \" :  1 4 ,  \" c h a r a c t e r \" :  \" S a m s o n  P i l o t \" ,  \" c r e d i t _ i d \" :  \" 5 2 f e 4 8 0 0 9 2 5 1 4 1 6 c 7 5 0 a c 9 f 9 \" ,  \" g e n d e r \" :  0 ,  \" i d \" :  9 8 2 1 6 ,  \" n a m e \" :  \" D e a n  K n o w s l e y \" ,  \" o r d e r \" :  6 8 } ,  { \" c a s t _ i d \" :  8 9 ,  \" c h a r a c t e r \" :  \" T r o o p e r  ( u n c r e d i t e d ) \" ,  \" c r e d i t _ i d \" :  \" 5 2 f e 4 8 0 1 9 2 5 1 4 1 6 c 7 5 0 a c b 3 b \" ,  \" g e n d e r \" :  0 ,  \" i d \" :  1 2 0 1 3 9 9 ,  \" n a m e \" :  \" J o s e p h  M i k a - H u n t \" ,  \" o r d e r \" :  6 9 } ,  { \" c a s t _ i d \" :  9 0 ,  \" c h a r a c t e r \" :  \" B a n s h e e  ( u n c r e d i t e d ) \" ,  \" c r e d i t _ i d \" :  \" 5 2 f e 4 8 0 1 9 2 5 1 4 1 6 c 7 5 0 a c b 3 f \" ,  \" g e n d e r \" :  0 ,  \" i d \" :  2 3 6 6 9 6 ,  \" n a m e \" :  \" T e r r y  N o t a r y \" ,  \" o r d e r \" :  7 0 } ,  { \" c a s t _ i d \" :  9 1 ,  \" c h a r a c t e r \" :  \" S o l d i e r  ( u n c r e d i t e d ) \" ,  \" c r e d i t _ i d \" :  \" 5 2 f e 4 8 0 1 9 2 5 1 4 1 6 c 7 5 0 a c b 4 3 \" ,  \" g e n d e r \" :  0 ,  \" i d \" :  1 2 0 7 2 8 7 ,  \" n a m e \" :  \" K a i  P a n t a n o \" ,  \" o r d e r \" :  7 1 } ,  { \" c a s t _ i d \" :  9 2 ,  \" c h a r a c t e r \" :  \" B l a s t  T e c h n i c i a n  ( u n c r e d i t e d ) \" ,  \" c r e d i t _ i d \" :  \" 5 2 f e 4 8 0 1 9 2 5 1 4 1 6 c 7 5 0 a c b 4 7 \" ,  \" g e n d e r \" :  0 ,  \" i d \" :  1 2 0 7 2 8 8 ,  \" n a m e \" :  \" L o g a n  P i t h y o u \" ,  \" o r d e r \" :  7 2 } ,  { \" c a s t _ i d \" :  9 3 ,  \" c h a r a c t e r \" :  \" V i n d u m  R a a h  ( u n c r e d i t e d ) \" ,  \" c r e d i t _ i d \" :  \" 5 2 f e 4 8 0 1 9 2 5 1 4 1 6 c 7 5 0 a c b 4 b \" ,  \" g e n d e r \" :  0 ,  \" i d \" :  1 2 0 7 2 8 9 ,  \" n a m e \" :  \" S t u a r t  P o l l o c k \" ,  \" o r d e r \" :  7 3 } ,  { \" c a s t _ i d \" :  9 4 ,  \" c h a r a c t e r \" :  \" H e r o  ( u n c r e d i t e d ) \" ,  \" c r e d i t _ i d \" :  \" 5 2 f e 4 8 0 1 9 2 5 1 4 1 6 c 7 5 0 a c b 4 f \" ,  \" g e n d e r \" :  0 ,  \" i d \" :  5 8 4 8 6 8 ,  \" n a m e \" :  \" R a j a \" ,  \" o r d e r \" :  7 4 } ,  { \" c a s t _ i d \" :  9 5 ,  \" c h a r a c t e r \" :  \" O p s  C e n t r e w o r k e r  ( u n c r e d i t e d ) \" ,  \" c r e d i t _ i d \" :  \" 5 2 f e 4 8 0 1 9 2 5 1 4 1 6 c 7 5 0 a c b 5 3 \" ,  \" g e n d e r \" :  0 ,  \" i d \" :  1 2 0 7 2 9 0 ,  \" n a m e \" :  \" G a r e t h  R u c k \" ,  \" o r d e r \" :  7 5 } ,  { \" c a s t _ i d \" :  9 6 ,  \" c h a r a c t e r \" :  \" E n g i n e e r  ( u n c r e d i t e d ) \" ,  \" c r e d i t _ i d \" :  \" 5 2 f e 4 8 0 1 9 2 5 1 4 1 6 c 7 5 0 a c b 5 7 \" ,  \" g e n d e r \" :  0 ,  \" i d \" :  1 0 6 2 4 6 3 ,  \" n a m e \" :  \" R h i a n  S h e e h a n \" ,  \" o r d e r \" :  7 6 } ,  { \" c a s t _ i d \" :  9 7 ,  \" c h a r a c t e r \" :  \" C o l .  Q u a r i t c h \\' s  M e c h  S u i t  ( u n c r e d i t e d ) \" ,  \" c r e d i t _ i d \" :  \" 5 2 f e 4 8 0 1 9 2 5 1 4 1 6 c 7 5 0 a c b 5 b \" ,  \" g e n d e r \" :  0 ,  \" i d \" :  6 0 6 5 6 ,  \" n a m e \" :  \" T .  J .  S t o r m \" ,  \" o r d e r \" :  7 7 } ,  { \" c a s t _ i d \" :  9 8 ,  \" c h a r a c t e r \" :  \" F e m a l e  M a r i n e  ( u n c r e d i t e d ) \" ,  \" c r e d i t _ i d \" :  \" 5 2 f e 4 8 0 1 9 2 5 1 4 1 6 c 7 5 0 a c b 5 f \" ,  \" g e n d e r \" :  0 ,  \" i d \" :  1 2 0 7 2 9 1 ,  \" n a m e \" :  \" J o d i e  T a y l o r \" ,  \" o r d e r \" :  7 8 } ,  { \" c a s t _ i d \" :  9 9 ,  \" c h a r a c t e r \" :  \" I k r a n  C l a n  L e a d e r  ( u n c r e d i t e d ) \" ,  \" c r e d i t _ i d \" :  \" 5 2 f e 4 8 0 1 9 2 5 1 4 1 6 c 7 5 0 a c b 6 3 \" ,  \" g e n d e r \" :  1 ,  \" i d \" :  1 1 8 6 0 2 7 ,  \" n a m e \" :  \" A l i c i a  V e l a - B a i l e y \" ,  \" o r d e r \" :  7 9 } ,  { \" c a s t _ i d \" :  1 0 0 ,  \" c h a r a c t e r \" :  \" G e o l o g i s t  ( u n c r e d i t e d ) \" ,  \" c r e d i t _ i d \" :  \" 5 2 f e 4 8 0 1 9 2 5 1 4 1 6 c 7 5 0 a c b 6 7 \" ,  \" g e n d e r \" :  0 ,  \" i d \" :  1 2 0 7 2 9 2 ,  \" n a m e \" :  \" R i c h a r d  W h i t e s i d e \" ,  \" o r d e r \" :  8 0 } ,  { \" c a s t _ i d \" :  1 0 1 ,  \" c h a r a c t e r \" :  \" N a \\' v i  ( u n c r e d i t e d ) \" ,  \" c r e d i t _ i d \" :  \" 5 2 f e 4 8 0 1 9 2 5 1 4 1 6 c 7 5 0 a c b 6 b \" ,  \" g e n d e r \" :  0 ,  \" i d \" :  1 0 3 2 5 9 ,  \" n a m e \" :  \" N i k i e  Z a m b o \" ,  \" o r d e r \" :  8 1 } ,  { \" c a s t _ i d \" :  1 0 2 ,  \" c h a r a c t e r \" :  \" A m b i e n t  R o o m  T e c h  /  T r o u p e \" ,  \" c r e d i t _ i d \" :  \" 5 2 f e 4 8 0 1 9 2 5 1 4 1 6 c 7 5 0 a c b 6 f \" ,  \" g e n d e r \" :  1 ,  \" i d \" :  4 2 2 8 6 ,  \" n a m e \" :  \" J u l e n e  R e n e e \" ,  \" o r d e r \" :  8 2 } ] [ { \" c r e d i t _ i d \" :  \" 5 2 f e 4 8 0 0 9 2 5 1 4 1 6 c 7 5 0 a c a 2 3 \" ,  \" d e p a r t m e n t \" :  \" E d i t i n g \" ,  \" g e n d e r \" :  0 ,  \" i d \" :  1 7 2 1 ,  \" j o b \" :  \" E d i t o r \" ,  \" n a m e \" :  \" S t e p h e n  E .  R i v k i n \" } ,  { \" c r e d i t _ i d \" :  \" 5 3 9 c 4 7 e c c 3 a 3 6 8 1 0 e 3 0 0 1 f 8 7 \" ,  \" d e p a r t m e n t \" :  \" A r t \" ,  \" g e n d e r \" :  2 ,  \" i d \" :  4 9 6 ,  \" j o b \" :  \" P r o d u c t i o n  D e s i g n \" ,  \" n a m e \" :  \" R i c k  C a r t e r \" } ,  { \" c r e d i t _ i d \" :  \" 5 4 4 9 1 c 8 9 c 3 a 3 6 8 0 f b 4 0 0 1 c f 7 \" ,  \" d e p a r t m e n t \" :  \" S o u n d \" ,  \" g e n d e r \" :  0 ,  \" i d \" :  9 0 0 ,  \" j o b \" :  \" S o u n d  D e s i g n e r \" ,  \" n a m e \" :  \" C h r i s t o p h e r  B o y e s \" } ,  { \" c r e d i t _ i d \" :  \" 5 4 4 9 1 c b 7 0 e 0 a 2 6 7 4 8 0 0 0 1 b d 0 \" ,  \" d e p a r t m e n t \" :  \" S o u n d \" ,  \" g e n d e r \" :  0 ,  \" i d \" :  9 0 0 ,  \" j o b \" :  \" S u p e r v i s i n g  S o u n d  E d i t o r \" ,  \" n a m e \" :  \" C h r i s t o p h e r  B o y e s \" } ,  { \" c r e d i t _ i d \" :  \" 5 3 9 c 4 a 4 c c 3 a 3 6 8 1 0 c 9 0 0 2 1 0 1 \" ,  \" d e p a r t m e n t \" :  \" P r o d u c t i o n \" ,  \" g e n d e r \" :  1 ,  \" i d \" :  1 2 6 2 ,  \" j o b \" :  \" C a s t i n g \" ,  \" n a m e \" :  \" M a l i  F i n n \" } ,  { \" c r e d i t _ i d \" :  \" 5 5 4 4 e e 3 b 9 2 5 1 4 1 4 9 9 f 0 0 0 8 f c \" ,  \" d e p a r t m e n t \" :  \" S o u n d \" ,  \" g e n d e r \" :  2 ,  \" i d \" :  1 7 2 9 ,  \" j o b \" :  \" O r i g i n a l  M u s i c  C o m p o s e r \" ,  \" n a m e \" :  \" J a m e s  H o r n e r \" } ,  { \" c r e d i t _ i d \" :  \" 5 2 f e 4 8 0 0 9 2 5 1 4 1 6 c 7 5 0 a c 9 c 3 \" ,  \" d e p a r t m e n t \" :  \" D i r e c t i n g \" ,  \" g e n d e r \" :  2 ,  \" i d \" :  2 7 1 0 ,  \" j o b \" :  \" D i r e c t o r \" ,  \" n a m e \" :  \" J a m e s  C a m e r o n \" } ,  { \" c r e d i t _ i d \" :  \" 5 2 f e 4 8 0 0 9 2 5 1 4 1 6 c 7 5 0 a c 9 d 9 \" ,  \" d e p a r t m e n t \" :  \" W r i t i n g \" ,  \" g e n d e r \" :  2 ,  \" i d \" :  2 7 1 0 ,  \" j o b \" :  \" W r i t e r \" ,  \" n a m e \" :  \" J a m e s  C a m e r o n \" } ,  { \" c r e d i t _ i d \" :  \" 5 2 f e 4 8 0 0 9 2 5 1 4 1 6 c 7 5 0 a c a 1 7 \" ,  \" d e p a r t m e n t \" :  \" E d i t i n g \" ,  \" g e n d e r \" :  2 ,  \" i d \" :  2 7 1 0 ,  \" j o b \" :  \" E d i t o r \" ,  \" n a m e \" :  \" J a m e s  C a m e r o n \" } ,  { \" c r e d i t _ i d \" :  \" 5 2 f e 4 8 0 0 9 2 5 1 4 1 6 c 7 5 0 a c a 2 9 \" ,  \" d e p a r t m e n t \" :  \" P r o d u c t i o n \" ,  \" g e n d e r \" :  2 ,  \" i d \" :  2 7 1 0 ,  \" j o b \" :  \" P r o d u c e r \" ,  \" n a m e \" :  \" J a m e s  C a m e r o n \" } ,  { \" c r e d i t _ i d \" :  \" 5 2 f e 4 8 0 0 9 2 5 1 4 1 6 c 7 5 0 a c a 3 f \" ,  \" d e p a r t m e n t \" :  \" W r i t i n g \" ,  \" g e n d e r \" :  2 ,  \" i d \" :  2 7 1 0 ,  \" j o b \" :  \" S c r e e n p l a y \" ,  \" n a m e \" :  \" J a m e s  C a m e r o n \" } ,  { \" c r e d i t _ i d \" :  \" 5 3 9 c 4 9 8 7 c 3 a 3 6 8 1 0 b a 0 0 2 1 a 4 \" ,  \" d e p a r t m e n t \" :  \" A r t \" ,  \" g e n d e r \" :  2 ,  \" i d \" :  7 2 3 6 ,  \" j o b \" :  \" A r t  D i r e c t i o n \" ,  \" n a m e \" :  \" A n d r e w  M e n z i e s \" } ,  { \" c r e d i t _ i d \" :  \" 5 4 9 5 9 8 c 3 c 3 a 3 6 8 6 a e 9 0 0 4 3 8 3 \" ,  \" d e p a r t m e n t \" :  \" V i s u a l  E f f e c t s \" ,  \" g e n d e r \" :  0 ,  \" i d \" :  6 6 9 0 ,  \" j o b \" :  \" V i s u a l  E f f e c t s  P r o d u c e r \" ,  \" n a m e \" :  \" J i l l  B r o o k s \" } ,  { \" c r e d i t _ i d \" :  \" 5 2 f e 4 8 0 0 9 2 5 1 4 1 6 c 7 5 0 a c a 4 b \" ,  \" d e p a r t m e n t \" :  \" P r o d u c t i o n \" ,  \" g e n d e r \" :  1 ,  \" i d \" :  6 3 4 7 ,  \" j o b \" :  \" C a s t i n g \" ,  \" n a m e \" :  \" M a r g e r y  S i m k i n \" } ,  { \" c r e d i t _ i d \" :  \" 5 7 0 b 6 f 4 1 9 2 5 1 4 1 7 d a 7 0 0 3 2 f e \" ,  \" d e p a r t m e n t \" :  \" A r t \" ,  \" g e n d e r \" :  2 ,  \" i d \" :  6 8 7 8 ,  \" j o b \" :  \" S u p e r v i s i n g  A r t  D i r e c t o r \" ,  \" n a m e \" :  \" K e v i n  I s h i o k a \" } ,  { \" c r e d i t _ i d \" :  \" 5 4 9 5 a 0 f a c 3 a 3 6 8 6 a e 9 0 0 4 4 6 8 \" ,  \" d e p a r t m e n t \" :  \" S o u n d \" ,  \" g e n d e r \" :  0 ,  \" i d \" :  6 8 8 3 ,  \" j o b \" :  \" M u s i c  E d i t o r \" ,  \" n a m e \" :  \" D i c k  B e r n s t e i n \" } ,  { \" c r e d i t _ i d \" :  \" 5 4 9 5 9 7 0 6 c 3 a 3 6 8 6 a f 3 0 0 3 e 8 1 \" ,  \" d e p a r t m e n t \" :  \" S o u n d \" ,  \" g e n d e r \" :  0 ,  \" i d \" :  8 1 5 9 ,  \" j o b \" :  \" S o u n d  E f f e c t s  E d i t o r \" ,  \" n a m e \" :  \" S h a n n o n  M i l l s \" } ,  { \" c r e d i t _ i d \" :  \" 5 4 4 9 1 d 5 8 c 3 a 3 6 8 0 f b 1 0 0 1 c c b \" ,  \" d e p a r t m e n t \" :  \" S o u n d \" ,  \" g e n d e r \" :  0 ,  \" i d \" :  8 1 6 0 ,  \" j o b \" :  \" F o l e y \" ,  \" n a m e \" :  \" D e n n i e  T h o r p e \" } ,  { \" c r e d i t _ i d \" :  \" 5 4 4 9 1 d 6 c c 3 a 3 6 8 0 f a 5 0 0 1 b 2 c \" ,  \" d e p a r t m e n t \" :  \" S o u n d \" ,  \" g e n d e r \" :  0 ,  \" i d \" :  8 1 6 3 ,  \" j o b \" :  \" F o l e y \" ,  \" n a m e \" :  \" J a n a  V a n c e \" } ,  { \" c r e d i t _ i d \" :  \" 5 2 f e 4 8 0 0 9 2 5 1 4 1 6 c 7 5 0 a c a 5 7 \" ,  \" d e p a r t m e n t \" :  \" C o s t u m e  &  M a k e - U p \" ,  \" g e n d e r \" :  1 ,  \" i d \" :  8 5 2 7 ,  \" j o b \" :  \" C o s t u m e  D e s i g n \" ,  \" n a m e \" :  \" D e b o r a h  L y n n  S c o t t \" } ,  { \" c r e d i t _ i d \" :  \" 5 2 f e 4 8 0 0 9 2 5 1 4 1 6 c 7 5 0 a c a 2 f \" ,  \" d e p a r t m e n t \" :  \" P r o d u c t i o n \" ,  \" g e n d e r \" :  2 ,  \" i d \" :  8 5 2 9 ,  \" j o b \" :  \" P r o d u c e r \" ,  \" n a m e \" :  \" J o n  L a n d a u \" } ,  { \" c r e d i t _ i d \" :  \" 5 3 9 c 4 9 3 7 c 3 a 3 6 8 1 0 b a 0 0 2 1 9 4 \" ,  \" d e p a r t m e n t \" :  \" A r t \" ,  \" g e n d e r \" :  0 ,  \" i d \" :  9 6 1 8 ,  \" j o b \" :  \" A r t  D i r e c t i o n \" ,  \" n a m e \" :  \" S e a n  H a w o r t h \" } ,  { \" c r e d i t _ i d \" :  \" 5 3 9 c 4 9 b 6 c 3 a 3 6 8 1 0 c 1 0 0 2 0 e 6 \" ,  \" d e p a r t m e n t \" :  \" A r t \" ,  \" g e n d e r \" :  1 ,  \" i d \" :  1 2 6 5 3 ,  \" j o b \" :  \" S e t  D e c o r a t i o n \" ,  \" n a m e \" :  \" K i m  S i n c l a i r \" } ,  { \" c r e d i t _ i d \" :  \" 5 7 0 b 6 f 2 f 9 2 5 1 4 1 3 a 0 e 0 0 0 2 0 d \" ,  \" d e p a r t m e n t \" :  \" A r t \" ,  \" g e n d e r \" :  1 ,  \" i d \" :  1 2 6 5 3 ,  \" j o b \" :  \" S u p e r v i s i n g  A r t  D i r e c t o r \" ,  \" n a m e \" :  \" K i m  S i n c l a i r \" } ,  { \" c r e d i t _ i d \" :  \" 5 4 4 9 1 a 6 c 0 e 0 a 2 6 7 4 8 c 0 0 1 b 1 9 \" ,  \" d e p a r t m e n t \" :  \" A r t \" ,  \" g e n d e r \" :  2 ,  \" i d \" :  1 4 3 5 0 ,  \" j o b \" :  \" S e t  D e s i g n e r \" ,  \" n a m e \" :  \" R i c h a r d  F .  M a y s \" } ,  { \" c r e d i t _ i d \" :  \" 5 6 9 2 8 c f 4 c 3 a 3 6 8 4 c f f 0 0 2 5 c 4 \" ,  \" d e p a r t m e n t \" :  \" P r o d u c t i o n \" ,  \" g e n d e r \" :  1 ,  \" i d \" :  2 0 2 9 4 ,  \" j o b \" :  \" E x e c u t i v e  P r o d u c e r \" ,  \" n a m e \" :  \" L a e t a  K a l o g r i d i s \" } ,  { \" c r e d i t _ i d \" :  \" 5 2 f e 4 8 0 0 9 2 5 1 4 1 6 c 7 5 0 a c a 5 1 \" ,  \" d e p a r t m e n t \" :  \" C o s t u m e  &  M a k e - U p \" ,  \" g e n d e r \" :  0 ,  \" i d \" :  1 7 6 7 5 ,  \" j o b \" :  \" C o s t u m e  D e s i g n \" ,  \" n a m e \" :  \" M a y e s  C .  R u b e o \" } ,  { \" c r e d i t _ i d \" :  \" 5 2 f e 4 8 0 0 9 2 5 1 4 1 6 c 7 5 0 a c a 1 1 \" ,  \" d e p a r t m e n t \" :  \" C a m e r a \" ,  \" g e n d e r \" :  2 ,  \" i d \" :  1 8 2 6 5 ,  \" j o b \" :  \" D i r e c t o r  o f  P h o t o g r a p h y \" ,  \" n a m e \" :  \" M a u r o  F i o r e \" } ,  { \" c r e d i t _ i d \" :  \" 5 4 4 9 1 9 4 d 0 e 0 a 2 6 7 4 8 f 0 0 1 b 3 9 \" ,  \" d e p a r t m e n t \" :  \" A r t \" ,  \" g e n d e r \" :  0 ,  \" i d \" :  4 2 2 8 1 ,  \" j o b \" :  \" S e t  D e s i g n e r \" ,  \" n a m e \" :  \" S c o t t  H e r b e r t s o n \" } ,  { \" c r e d i t _ i d \" :  \" 5 2 f e 4 8 0 0 9 2 5 1 4 1 6 c 7 5 0 a c a 0 5 \" ,  \" d e p a r t m e n t \" :  \" C r e w \" ,  \" g e n d e r \" :  0 ,  \" i d \" :  4 2 2 8 8 ,  \" j o b \" :  \" S t u n t s \" ,  \" n a m e \" :  \" W o o d y  S c h u l t z \" } ,  { \" c r e d i t _ i d \" :  \" 5 5 9 2 a e f b 9 2 5 1 4 1 5 2 d e 0 0 1 0 f 5 \" ,  \" d e p a r t m e n t \" :  \" C o s t u m e  &  M a k e - U p \" ,  \" g e n d e r \" :  0 ,  \" i d \" :  2 9 0 6 7 ,  \" j o b \" :  \" M a k e u p  A r t i s t \" ,  \" n a m e \" :  \" L i n d a  D e V e t t a \" } ,  { \" c r e d i t _ i d \" :  \" 5 5 9 2 a f a 4 9 2 5 1 4 1 5 2 d e 0 0 1 1 2 c \" ,  \" d e p a r t m e n t \" :  \" C o s t u m e  &  M a k e - U p \" ,  \" g e n d e r \" :  0 ,  \" i d \" :  2 9 0 6 7 ,  \" j o b \" :  \" H a i r s t y l i s t \" ,  \" n a m e \" :  \" L i n d a  D e V e t t a \" } ,  { \" c r e d i t _ i d \" :  \" 5 4 9 5 9 e d 5 9 2 5 1 4 1 3 0 f c 0 0 2 e 5 d \" ,  \" d e p a r t m e n t \" :  \" C a m e r a \" ,  \" g e n d e r \" :  2 ,  \" i d \" :  3 3 3 0 2 ,  \" j o b \" :  \" C a m e r a  O p e r a t o r \" ,  \" n a m e \" :  \" R i c h a r d  B l u c k \" } ,  { \" c r e d i t _ i d \" :  \" 5 3 9 c 4 8 9 1 c 3 a 3 6 8 1 0 b a 0 0 2 1 4 7 \" ,  \" d e p a r t m e n t \" :  \" A r t \" ,  \" g e n d e r \" :  2 ,  \" i d \" :  3 3 3 0 3 ,  \" j o b \" :  \" A r t  D i r e c t i o n \" ,  \" n a m e \" :  \" S i m o n  B r i g h t \" } ,  { \" c r e d i t _ i d \" :  \" 5 4 9 5 9 c 0 6 9 2 5 1 4 1 7 a 8 1 0 0 1 f 3 a \" ,  \" d e p a r t m e n t \" :  \" V i s u a l  E f f e c t s \" ,  \" g e n d e r \" :  0 ,  \" i d \" :  1 1 3 1 4 5 ,  \" j o b \" :  \" V i s u a l  E f f e c t s  S u p e r v i s o r \" ,  \" n a m e \" :  \" R i c h a r d  M a r t i n \" } ,  { \" c r e d i t _ i d \" :  \" 5 4 9 5 9 a 0 d c 3 a 3 6 8 0 f f 5 0 0 2 c 8 d \" ,  \" d e p a r t m e n t \" :  \" C r e w \" ,  \" g e n d e r \" :  2 ,  \" i d \" :  5 8 1 8 8 ,  \" j o b \" :  \" V i s u a l  E f f e c t s  E d i t o r \" ,  \" n a m e \" :  \" S t e v e  R .  M o o r e \" } ,  { \" c r e d i t _ i d \" :  \" 5 2 f e 4 8 0 0 9 2 5 1 4 1 6 c 7 5 0 a c a 1 d \" ,  \" d e p a r t m e n t \" :  \" E d i t i n g \" ,  \" g e n d e r \" :  2 ,  \" i d \" :  5 8 8 7 1 ,  \" j o b \" :  \" E d i t o r \" ,  \" n a m e \" :  \" J o h n  R e f o u a \" } ,  { \" c r e d i t _ i d \" :  \" 5 4 4 9 1 a 4 d c 3 a 3 6 8 0 f c 3 0 0 1 8 c a \" ,  \" d e p a r t m e n t \" :  \" A r t \" ,  \" g e n d e r \" :  0 ,  \" i d \" :  9 2 3 5 9 ,  \" j o b \" :  \" S e t  D e s i g n e r \" ,  \" n a m e \" :  \" K a r l  J .  M a r t i n \" } ,  { \" c r e d i t _ i d \" :  \" 5 2 f e 4 8 0 0 9 2 5 1 4 1 6 c 7 5 0 a c a 3 5 \" ,  \" d e p a r t m e n t \" :  \" C a m e r a \" ,  \" g e n d e r \" :  1 ,  \" i d \" :  7 2 2 0 1 ,  \" j o b \" :  \" D i r e c t o r  o f  P h o t o g r a p h y \" ,  \" n a m e \" :  \" C h i l i n g  L i n \" } ,  { \" c r e d i t _ i d \" :  \" 5 2 f e 4 8 0 0 9 2 5 1 4 1 6 c 7 5 0 a c 9 f f \" ,  \" d e p a r t m e n t \" :  \" C r e w \" ,  \" g e n d e r \" :  0 ,  \" i d \" :  8 9 7 1 4 ,  \" j o b \" :  \" S t u n t s \" ,  \" n a m e \" :  \" I l r a m  C h o i \" } ,  { \" c r e d i t _ i d \" :  \" 5 4 9 5 9 c 5 2 9 2 5 1 4 1 6 e 2 b 0 0 4 3 9 4 \" ,  \" d e p a r t m e n t \" :  \" V i s u a l  E f f e c t s \" ,  \" g e n d e r \" :  2 ,  \" i d \" :  9 3 2 1 4 ,  \" j o b \" :  \" V i s u a l  E f f e c t s  S u p e r v i s o r \" ,  \" n a m e \" :  \" S t e v e n  Q u a l e \" } ,  { \" c r e d i t _ i d \" :  \" 5 4 4 9 1 e d f 0 e 0 a 2 6 7 4 8 9 0 0 1 c 3 7 \" ,  \" d e p a r t m e n t \" :  \" C r e w \" ,  \" g e n d e r \" :  1 ,  \" i d \" :  1 2 2 6 0 7 ,  \" j o b \" :  \" D i a l e c t  C o a c h \" ,  \" n a m e \" :  \" C a r l a  M e y e r \" } ,  { \" c r e d i t _ i d \" :  \" 5 3 9 c 4 8 5 b c 3 a 3 6 8 6 5 3 d 0 0 1 a 3 a \" ,  \" d e p a r t m e n t \" :  \" A r t \" ,  \" g e n d e r \" :  2 ,  \" i d \" :  1 3 2 5 8 5 ,  \" j o b \" :  \" A r t  D i r e c t i o n \" ,  \" n a m e \" :  \" N i c k  B a s s e t t \" } ,  { \" c r e d i t _ i d \" :  \" 5 3 9 c 4 9 0 3 c 3 a 3 6 8 6 5 3 d 0 0 1 a 7 4 \" ,  \" d e p a r t m e n t \" :  \" A r t \" ,  \" g e n d e r \" :  0 ,  \" i d \" :  1 3 2 5 9 6 ,  \" j o b \" :  \" A r t  D i r e c t i o n \" ,  \" n a m e \" :  \" J i l l  C o r m a c k \" } ,  { \" c r e d i t _ i d \" :  \" 5 3 9 c 4 9 6 7 c 3 a 3 6 8 6 5 3 d 0 0 1 a 9 4 \" ,  \" d e p a r t m e n t \" :  \" A r t \" ,  \" g e n d e r \" :  0 ,  \" i d \" :  1 3 2 6 0 4 ,  \" j o b \" :  \" A r t  D i r e c t i o n \" ,  \" n a m e \" :  \" A n d y  M c L a r e n \" } ,  { \" c r e d i t _ i d \" :  \" 5 2 f e 4 8 0 0 9 2 5 1 4 1 6 c 7 5 0 a c a 4 5 \" ,  \" d e p a r t m e n t \" :  \" C r e w \" ,  \" g e n d e r \" :  0 ,  \" i d \" :  2 3 6 6 9 6 ,  \" j o b \" :  \" M o t i o n  C a p t u r e  A r t i s t \" ,  \" n a m e \" :  \" T e r r y  N o t a r y \" } ,  { \" c r e d i t _ i d \" :  \" 5 4 9 5 9 e 0 2 c 3 a 3 6 8 0 f c 6 0 0 2 7 d 2 \" ,  \" d e p a r t m e n t \" :  \" C r e w \" ,  \" g e n d e r \" :  2 ,  \" i d \" :  9 5 6 1 9 8 ,  \" j o b \" :  \" S t u n t  C o o r d i n a t o r \" ,  \" n a m e \" :  \" G a r r e t t  W a r r e n \" } ,  { \" c r e d i t _ i d \" :  \" 5 4 9 5 9 c a 3 c 3 a 3 6 8 6 a e 3 0 0 4 3 8 c \" ,  \" d e p a r t m e n t \" :  \" V i s u a l  E f f e c t s \" ,  \" g e n d e r \" :  2 ,  \" i d \" :  9 5 7 8 7 4 ,  \" j o b \" :  \" V i s u a l  E f f e c t s  S u p e r v i s o r \" ,  \" n a m e \" :  \" J o n a t h a n  R o t h b a r t \" } ,  { \" c r e d i t _ i d \" :  \" 5 7 0 b 6 f 5 1 9 2 5 1 4 1 2 c 7 4 0 0 1 b 2 f \" ,  \" d e p a r t m e n t \" :  \" A r t \" ,  \" g e n d e r \" :  0 ,  \" i d \" :  9 5 7 8 8 9 ,  \" j o b \" :  \" S u p e r v i s i n g  A r t  D i r e c t o r \" ,  \" n a m e \" :  \" S t e f a n  D e c h a n t \" } ,  { \" c r e d i t _ i d \" :  \" 5 7 0 b 6 f 6 2 c 3 a 3 6 8 0 b 7 7 0 0 7 4 6 0 \" ,  \" d e p a r t m e n t \" :  \" A r t \" ,  \" g e n d e r \" :  2 ,  \" i d \" :  9 5 9 5 5 5 ,  \" j o b \" :  \" S u p e r v i s i n g  A r t  D i r e c t o r \" ,  \" n a m e \" :  \" T o d d  C h e r n i a w s k y \" } ,  { \" c r e d i t _ i d \" :  \" 5 3 9 c 4 a 3 a c 3 a 3 6 8 1 0 d a 0 0 2 1 c c \" ,  \" d e p a r t m e n t \" :  \" P r o d u c t i o n \" ,  \" g e n d e r \" :  0 ,  \" i d \" :  1 0 1 6 1 7 7 ,  \" j o b \" :  \" C a s t i n g \" ,  \" n a m e \" :  \" M i r a n d a  R i v e r s \" } ,  { \" c r e d i t _ i d \" :  \" 5 3 9 c 4 8 2 c c 3 a 3 6 8 1 0 c 1 0 0 2 0 6 2 \" ,  \" d e p a r t m e n t \" :  \" A r t \" ,  \" g e n d e r \" :  0 ,  \" i d \" :  1 0 3 2 5 3 6 ,  \" j o b \" :  \" P r o d u c t i o n  D e s i g n \" ,  \" n a m e \" :  \" R o b e r t  S t r o m b e r g \" } ,  { \" c r e d i t _ i d \" :  \" 5 3 9 c 4 b 6 5 c 3 a 3 6 8 1 0 c 9 0 0 2 1 2 5 \" ,  \" d e p a r t m e n t \" :  \" C o s t u m e  &  M a k e - U p \" ,  \" g e n d e r \" :  2 ,  \" i d \" :  1 0 7 1 6 8 0 ,  \" j o b \" :  \" C o s t u m e  D e s i g n \" ,  \" n a m e \" :  \" J o h n  H a r d i n g \" } ,  { \" c r e d i t _ i d \" :  \" 5 4 9 5 9 e 6 6 9 2 5 1 4 1 3 0 f c 0 0 2 e 4 e \" ,  \" d e p a r t m e n t \" :  \" C a m e r a \" ,  \" g e n d e r \" :  0 ,  \" i d \" :  1 1 7 7 3 6 4 ,  \" j o b \" :  \" S t e a d i c a m  O p e r a t o r \" ,  \" n a m e \" :  \" R o b e r t o  D e  A n g e l i s \" } ,  { \" c r e d i t _ i d \" :  \" 5 3 9 c 4 9 f 1 c 3 a 3 6 8 6 5 3 d 0 0 1 a a c \" ,  \" d e p a r t m e n t \" :  \" C o s t u m e  &  M a k e - U p \" ,  \" g e n d e r \" :  2 ,  \" i d \" :  1 2 0 2 8 5 0 ,  \" j o b \" :  \" M a k e u p  D e p a r t m e n t  H e a d \" ,  \" n a m e \" :  \" M i k e  S m i t h s o n \" } ,  { \" c r e d i t _ i d \" :  \" 5 4 9 5 9 9 9 e c 3 a 3 6 8 6 a e 1 0 0 4 6 0 c \" ,  \" d e p a r t m e n t \" :  \" V i s u a l  E f f e c t s \" ,  \" g e n d e r \" :  0 ,  \" i d \" :  1 2 0 4 6 6 8 ,  \" j o b \" :  \" V i s u a l  E f f e c t s  P r o d u c e r \" ,  \" n a m e \" :  \" A l a i n  L a l a n n e \" } ,  { \" c r e d i t _ i d \" :  \" 5 4 9 5 9 c d f c 3 a 3 6 8 1 1 5 3 0 0 2 7 2 9 \" ,  \" d e p a r t m e n t \" :  \" V i s u a l  E f f e c t s \" ,  \" g e n d e r \" :  0 ,  \" i d \" :  1 2 0 6 4 1 0 ,  \" j o b \" :  \" V i s u a l  E f f e c t s  S u p e r v i s o r \" ,  \" n a m e \" :  \" L u c a s  S a l t o n \" } ,  { \" c r e d i t _ i d \" :  \" 5 4 9 5 9 6 2 3 9 2 5 1 4 1 7 a 8 1 0 0 1 e a e \" ,  \" d e p a r t m e n t \" :  \" C r e w \" ,  \" g e n d e r \" :  0 ,  \" i d \" :  1 2 3 4 2 6 6 ,  \" j o b \" :  \" P o s t  P r o d u c t i o n  S u p e r v i s o r \" ,  \" n a m e \" :  \" J a n a c e  T a s h j i a n \" } ,  { \" c r e d i t _ i d \" :  \" 5 4 9 5 9 c 8 5 9 2 5 1 4 1 6 e 1 e 0 0 3 e f e \" ,  \" d e p a r t m e n t \" :  \" V i s u a l  E f f e c t s \" ,  \" g e n d e r \" :  0 ,  \" i d \" :  1 2 7 1 9 3 2 ,  \" j o b \" :  \" V i s u a l  E f f e c t s  S u p e r v i s o r \" ,  \" n a m e \" :  \" S t e p h e n  R o s e n b a u m \" } ,  { \" c r e d i t _ i d \" :  \" 5 5 9 2 a f 2 8 c 3 a 3 6 8 7 7 5 a 0 0 1 0 5 f \" ,  \" d e p a r t m e n t \" :  \" C o s t u m e  &  M a k e - U p \" ,  \" g e n d e r \" :  0 ,  \" i d \" :  1 3 1 0 0 6 4 ,  \" j o b \" :  \" M a k e u p  A r t i s t \" ,  \" n a m e \" :  \" F r a n k i e  K a r e n a \" } ,  { \" c r e d i t _ i d \" :  \" 5 3 9 c 4 a d f c 3 a 3 6 8 1 0 e 3 0 0 2 0 3 b \" ,  \" d e p a r t m e n t \" :  \" C o s t u m e  &  M a k e - U p \" ,  \" g e n d e r \" :  1 ,  \" i d \" :  1 3 1 9 8 4 4 ,  \" j o b \" :  \" C o s t u m e  S u p e r v i s o r \" ,  \" n a m e \" :  \" L i s a  L o v a a s \" } ,  { \" c r e d i t _ i d \" :  \" 5 4 9 5 9 b 5 7 9 2 5 1 4 1 6 e 2 b 0 0 4 3 7 1 \" ,  \" d e p a r t m e n t \" :  \" V i s u a l  E f f e c t s \" ,  \" g e n d e r \" :  0 ,  \" i d \" :  1 3 2 7 0 2 8 ,  \" j o b \" :  \" V i s u a l  E f f e c t s  S u p e r v i s o r \" ,  \" n a m e \" :  \" J o n a t h a n  F a w k n e r \" } ,  { \" c r e d i t _ i d \" :  \" 5 3 9 c 4 8 a 7 c 3 a 3 6 8 1 0 b 5 0 0 1 f a 7 \" ,  \" d e p a r t m e n t \" :  \" A r t \" ,  \" g e n d e r \" :  0 ,  \" i d \" :  1 3 3 0 5 6 1 ,  \" j o b \" :  \" A r t  D i r e c t i o n \" ,  \" n a m e \" :  \" R o b e r t  B a v i n \" } ,  { \" c r e d i t _ i d \" :  \" 5 3 9 c 4 a 7 1 c 3 a 3 6 8 1 0 d a 0 0 2 1 e 0 \" ,  \" d e p a r t m e n t \" :  \" C o s t u m e  &  M a k e - U p \" ,  \" g e n d e r \" :  0 ,  \" i d \" :  1 3 3 0 5 6 7 ,  \" j o b \" :  \" C o s t u m e  S u p e r v i s o r \" ,  \" n a m e \" :  \" A n t h o n y  A l m a r a z \" } ,  { \" c r e d i t _ i d \" :  \" 5 3 9 c 4 a 8 a c 3 a 3 6 8 1 0 b a 0 0 2 1 e 4 \" ,  \" d e p a r t m e n t \" :  \" C o s t u m e  &  M a k e - U p \" ,  \" g e n d e r \" :  0 ,  \" i d \" :  1 3 3 0 5 7 0 ,  \" j o b \" :  \" C o s t u m e  S u p e r v i s o r \" ,  \" n a m e \" :  \" C a r o l y n  M .  F e n t o n \" } ,  { \" c r e d i t _ i d \" :  \" 5 3 9 c 4 a b 6 c 3 a 3 6 8 1 0 d a 0 0 2 1 f 0 \" ,  \" d e p a r t m e n t \" :  \" C o s t u m e  &  M a k e - U p \" ,  \" g e n d e r \" :  0 ,  \" i d \" :  1 3 3 0 5 7 4 ,  \" j o b \" :  \" C o s t u m e  S u p e r v i s o r \" ,  \" n a m e \" :  \" B e t h  K o e n i g s b e r g \" } ,  { \" c r e d i t _ i d \" :  \" 5 4 4 9 1 a b 7 0 e 0 a 2 6 7 4 8 0 0 0 1 b a 2 \" ,  \" d e p a r t m e n t \" :  \" A r t \" ,  \" g e n d e r \" :  0 ,  \" i d \" :  1 3 3 6 1 9 1 ,  \" j o b \" :  \" S e t  D e s i g n e r \" ,  \" n a m e \" :  \" S a m  P a g e \" } ,  { \" c r e d i t _ i d \" :  \" 5 4 4 9 1 9 d 9 c 3 a 3 6 8 0 f c 3 0 0 1 8 b d \" ,  \" d e p a r t m e n t \" :  \" A r t \" ,  \" g e n d e r \" :  0 ,  \" i d \" :  1 3 3 9 4 4 1 ,  \" j o b \" :  \" S e t  D e s i g n e r \" ,  \" n a m e \" :  \" T e x  K a d o n a g a \" } ,  { \" c r e d i t _ i d \" :  \" 5 4 4 9 1 c f 5 0 e 0 a 2 6 7 4 8 3 0 0 1 b 0 c \" ,  \" d e p a r t m e n t \" :  \" E d i t i n g \" ,  \" g e n d e r \" :  0 ,  \" i d \" :  1 3 5 2 4 2 2 ,  \" j o b \" :  \" D i a l o g u e  E d i t o r \" ,  \" n a m e \" :  \" K i m  F o s c a t o \" } ,  { \" c r e d i t _ i d \" :  \" 5 4 4 9 1 9 f 4 0 e 0 a 2 6 7 4 8 c 0 0 1 b 0 9 \" ,  \" d e p a r t m e n t \" :  \" A r t \" ,  \" g e n d e r \" :  0 ,  \" i d \" :  1 3 5 2 9 6 2 ,  \" j o b \" :  \" S e t  D e s i g n e r \" ,  \" n a m e \" :  \" T a m m y  S .  L e e \" } ,  { \" c r e d i t _ i d \" :  \" 5 4 9 5 a 1 1 5 c 3 a 3 6 8 0 f f 5 0 0 2 d 7 1 \" ,  \" d e p a r t m e n t \" :  \" C r e w \" ,  \" g e n d e r \" :  0 ,  \" i d \" :  1 3 5 7 0 7 0 ,  \" j o b \" :  \" T r a n s p o r t a t i o n  C o o r d i n a t o r \" ,  \" n a m e \" :  \" D e n n y  C a i r a \" } ,  { \" c r e d i t _ i d \" :  \" 5 4 9 5 a 1 2 f 9 2 5 1 4 1 3 0 f c 0 0 2 e 9 4 \" ,  \" d e p a r t m e n t \" :  \" C r e w \" ,  \" g e n d e r \" :  0 ,  \" i d \" :  1 3 5 7 0 7 1 ,  \" j o b \" :  \" T r a n s p o r t a t i o n  C o o r d i n a t o r \" ,  \" n a m e \" :  \" J a m e s  W a i t k u s \" } ,  { \" c r e d i t _ i d \" :  \" 5 4 9 5 9 7 6 f c 3 a 3 6 8 1 1 5 3 0 0 2 6 b 0 \" ,  \" d e p a r t m e n t \" :  \" S o u n d \" ,  \" g e n d e r \" :  0 ,  \" i d \" :  1 3 6 0 1 0 3 ,  \" j o b \" :  \" S u p e r v i s i n g  S o u n d  E d i t o r \" ,  \" n a m e \" :  \" A d d i s o n  T e a g u e \" } ,  { \" c r e d i t _ i d \" :  \" 5 4 4 9 1 8 3 7 c 3 a 3 6 8 0 f b 1 0 0 1 c 5 a \" ,  \" d e p a r t m e n t \" :  \" A r t \" ,  \" g e n d e r \" :  2 ,  \" i d \" :  1 3 7 6 8 8 7 ,  \" j o b \" :  \" S e t  D e s i g n e r \" ,  \" n a m e \" :  \" C .  S c o t t  B a k e r \" } ,  { \" c r e d i t _ i d \" :  \" 5 4 4 9 1 8 7 8 c 3 a 3 6 8 0 f b 4 0 0 1 c 9 d \" ,  \" d e p a r t m e n t \" :  \" A r t \" ,  \" g e n d e r \" :  0 ,  \" i d \" :  1 3 7 6 8 8 8 ,  \" j o b \" :  \" S e t  D e s i g n e r \" ,  \" n a m e \" :  \" L u k e  C a s k a \" } ,  { \" c r e d i t _ i d \" :  \" 5 4 4 9 1 8 d a c 3 a 3 6 8 0 f a 5 0 0 1 a e 0 \" ,  \" d e p a r t m e n t \" :  \" A r t \" ,  \" g e n d e r \" :  0 ,  \" i d \" :  1 3 7 6 8 8 9 ,  \" j o b \" :  \" S e t  D e s i g n e r \" ,  \" n a m e \" :  \" D a v i d  C h o w \" } ,  { \" c r e d i t _ i d \" :  \" 5 4 4 9 1 9 1 1 0 e 0 a 2 6 7 4 8 6 0 0 1 b 6 8 \" ,  \" d e p a r t m e n t \" :  \" A r t \" ,  \" g e n d e r \" :  0 ,  \" i d \" :  1 3 7 6 8 9 0 ,  \" j o b \" :  \" S e t  D e s i g n e r \" ,  \" n a m e \" :  \" J o n a t h a n  D y e r \" } ,  { \" c r e d i t _ i d \" :  \" 5 4 4 9 1 9 6 7 c 3 a 3 6 8 0 f a a 0 0 1 b 5 e \" ,  \" d e p a r t m e n t \" :  \" A r t \" ,  \" g e n d e r \" :  0 ,  \" i d \" :  1 3 7 6 8 9 1 ,  \" j o b \" :  \" S e t  D e s i g n e r \" ,  \" n a m e \" :  \" J o s e p h  H i u r a \" } ,  { \" c r e d i t _ i d \" :  \" 5 4 4 9 1 9 9 7 c 3 a 3 6 8 0 f b 1 0 0 1 c 8 a \" ,  \" d e p a r t m e n t \" :  \" A r t \" ,  \" g e n d e r \" :  0 ,  \" i d \" :  1 3 7 6 8 9 2 ,  \" j o b \" :  \" A r t  D e p a r t m e n t  C o o r d i n a t o r \" ,  \" n a m e \" :  \" R e b e c c a  J e l l i e \" } ,  { \" c r e d i t _ i d \" :  \" 5 4 4 9 1 9 b a 0 e 0 a 2 6 7 4 8 f 0 0 1 b 4 2 \" ,  \" d e p a r t m e n t \" :  \" A r t \" ,  \" g e n d e r \" :  0 ,  \" i d \" :  1 3 7 6 8 9 3 ,  \" j o b \" :  \" S e t  D e s i g n e r \" ,  \" n a m e \" :  \" R o b e r t  A n d r e w  J o h n s o n \" } ,  { \" c r e d i t _ i d \" :  \" 5 4 4 9 1 b 1 d c 3 a 3 6 8 0 f a a 0 0 1 b 8 c \" ,  \" d e p a r t m e n t \" :  \" A r t \" ,  \" g e n d e r \" :  0 ,  \" i d \" :  1 3 7 6 8 9 5 ,  \" j o b \" :  \" A s s i s t a n t  A r t  D i r e c t o r \" ,  \" n a m e \" :  \" M i k e  S t a s s i \" } ,  { \" c r e d i t _ i d \" :  \" 5 4 4 9 1 b 7 9 c 3 a 3 6 8 0 f b b 0 0 1 8 2 6 \" ,  \" d e p a r t m e n t \" :  \" A r t \" ,  \" g e n d e r \" :  0 ,  \" i d \" :  1 3 7 6 8 9 7 ,  \" j o b \" :  \" C o n s t r u c t i o n  C o o r d i n a t o r \" ,  \" n a m e \" :  \" J o h n  V i l l a r i n o \" } ,  { \" c r e d i t _ i d \" :  \" 5 4 4 9 1 b a e c 3 a 3 6 8 0 f b 4 0 0 1 c e 6 \" ,  \" d e p a r t m e n t \" :  \" A r t \" ,  \" g e n d e r \" :  2 ,  \" i d \" :  1 3 7 6 8 9 8 ,  \" j o b \" :  \" A s s i s t a n t  A r t  D i r e c t o r \" ,  \" n a m e \" :  \" J e f f r e y  W i s n i e w s k i \" } ,  { \" c r e d i t _ i d \" :  \" 5 4 4 9 1 d 2 f c 3 a 3 6 8 0 f b 4 0 0 1 d 0 7 \" ,  \" d e p a r t m e n t \" :  \" E d i t i n g \" ,  \" g e n d e r \" :  0 ,  \" i d \" :  1 3 7 6 8 9 9 ,  \" j o b \" :  \" D i a l o g u e  E d i t o r \" ,  \" n a m e \" :  \" C h e r y l  N a r d i \" } ,  { \" c r e d i t _ i d \" :  \" 5 4 4 9 1 d 8 6 c 3 a 3 6 8 0 f a 5 0 0 1 b 2 f \" ,  \" d e p a r t m e n t \" :  \" E d i t i n g \" ,  \" g e n d e r \" :  0 ,  \" i d \" :  1 3 7 6 9 0 1 ,  \" j o b \" :  \" D i a l o g u e  E d i t o r \" ,  \" n a m e \" :  \" M a r s h a l l  W i n n \" } ,  { \" c r e d i t _ i d \" :  \" 5 4 4 9 1 d 9 d c 3 a 3 6 8 0 f a a 0 0 1 b b 0 \" ,  \" d e p a r t m e n t \" :  \" S o u n d \" ,  \" g e n d e r \" :  0 ,  \" i d \" :  1 3 7 6 9 0 2 ,  \" j o b \" :  \" S u p e r v i s i n g  S o u n d  E d i t o r \" ,  \" n a m e \" :  \" G w e n d o l y n  Y a t e s  W h i t t l e \" } ,  { \" c r e d i t _ i d \" :  \" 5 4 4 9 1 d c 1 0 e 0 a 2 6 7 4 8 6 0 0 1 b c e \" ,  \" d e p a r t m e n t \" :  \" S o u n d \" ,  \" g e n d e r \" :  0 ,  \" i d \" :  1 3 7 6 9 0 3 ,  \" j o b \" :  \" S o u n d  R e - R e c o r d i n g  M i x e r \" ,  \" n a m e \" :  \" W i l l i a m  S t e i n \" } ,  { \" c r e d i t _ i d \" :  \" 5 4 4 9 1 f 5 0 0 e 0 a 2 6 7 4 7 c 0 0 1 c 0 7 \" ,  \" d e p a r t m e n t \" :  \" C r e w \" ,  \" g e n d e r \" :  0 ,  \" i d \" :  1 3 7 6 9 0 9 ,  \" j o b \" :  \" C h o r e o g r a p h e r \" ,  \" n a m e \" :  \" L u l a  W a s h i n g t o n \" } ,  { \" c r e d i t _ i d \" :  \" 5 4 9 5 9 9 2 3 9 2 5 1 4 1 2 c 4 e 0 0 2 a 2 e \" ,  \" d e p a r t m e n t \" :  \" V i s u a l  E f f e c t s \" ,  \" g e n d e r \" :  0 ,  \" i d \" :  1 3 9 1 6 9 2 ,  \" j o b \" :  \" V i s u a l  E f f e c t s  P r o d u c e r \" ,  \" n a m e \" :  \" C h r i s  D e l  C o n t e \" } ,  { \" c r e d i t _ i d \" :  \" 5 4 9 5 9 d 5 4 c 3 a 3 6 8 3 1 b 8 0 0 1 d 9 a \" ,  \" d e p a r t m e n t \" :  \" V i s u a l  E f f e c t s \" ,  \" g e n d e r \" :  2 ,  \" i d \" :  1 3 9 1 6 9 5 ,  \" j o b \" :  \" V i s u a l  E f f e c t s  S u p e r v i s o r \" ,  \" n a m e \" :  \" R .  C h r i s t o p h e r  W h i t e \" } ,  { \" c r e d i t _ i d \" :  \" 5 4 9 5 9 b d f 9 2 5 1 4 1 2 c 4 e 0 0 2 a 6 6 \" ,  \" d e p a r t m e n t \" :  \" V i s u a l  E f f e c t s \" ,  \" g e n d e r \" :  0 ,  \" i d \" :  1 3 9 4 0 7 0 ,  \" j o b \" :  \" V i s u a l  E f f e c t s  S u p e r v i s o r \" ,  \" n a m e \" :  \" D a n  L e m m o n \" } ,  { \" c r e d i t _ i d \" :  \" 5 4 9 5 9 7 1 d 9 2 5 1 4 1 3 2 e d 0 0 2 9 2 2 \" ,  \" d e p a r t m e n t \" :  \" S o u n d \" ,  \" g e n d e r \" :  0 ,  \" i d \" :  1 3 9 4 1 2 9 ,  \" j o b \" :  \" S o u n d  E f f e c t s  E d i t o r \" ,  \" n a m e \" :  \" T i m  N i e l s e n \" } ,  { \" c r e d i t _ i d \" :  \" 5 5 9 2 b 2 5 7 9 2 5 1 4 1 5 2 c c 0 0 1 1 a a \" ,  \" d e p a r t m e n t \" :  \" C r e w \" ,  \" g e n d e r \" :  0 ,  \" i d \" :  1 3 9 4 2 8 6 ,  \" j o b \" :  \" C G  S u p e r v i s o r \" ,  \" n a m e \" :  \" M i c h a e l  M u l h o l l a n d \" } ,  { \" c r e d i t _ i d \" :  \" 5 4 9 5 9 a 3 2 9 2 5 1 4 1 6 e 2 b 0 0 4 3 5 5 \" ,  \" d e p a r t m e n t \" :  \" C r e w \" ,  \" g e n d e r \" :  0 ,  \" i d \" :  1 3 9 4 7 5 0 ,  \" j o b \" :  \" V i s u a l  E f f e c t s  E d i t o r \" ,  \" n a m e \" :  \" T h o m a s  N i t t m a n n \" } ,  { \" c r e d i t _ i d \" :  \" 5 4 9 5 9 d 6 d c 3 a 3 6 8 6 a e 9 0 0 4 4 0 1 \" ,  \" d e p a r t m e n t \" :  \" V i s u a l  E f f e c t s \" ,  \" g e n d e r \" :  0 ,  \" i d \" :  1 3 9 4 7 5 5 ,  \" j o b \" :  \" V i s u a l  E f f e c t s  S u p e r v i s o r \" ,  \" n a m e \" :  \" E d s o n  W i l l i a m s \" } ,  { \" c r e d i t _ i d \" :  \" 5 4 9 5 a 0 8 f c 3 a 3 6 8 6 a e 3 0 0 4 4 1 c \" ,  \" d e p a r t m e n t \" :  \" E d i t i n g \" ,  \" g e n d e r \" :  0 ,  \" i d \" :  1 3 9 4 9 5 3 ,  \" j o b \" :  \" D i g i t a l  I n t e r m e d i a t e \" ,  \" n a m e \" :  \" C h r i s t i n e  C a r r \" } ,  { \" c r e d i t _ i d \" :  \" 5 5 4 0 2 d 6 5 9 2 5 1 4 1 3 d 6 d 0 0 0 2 4 9 \" ,  \" d e p a r t m e n t \" :  \" V i s u a l  E f f e c t s \" ,  \" g e n d e r \" :  0 ,  \" i d \" :  1 3 9 5 2 6 9 ,  \" j o b \" :  \" V i s u a l  E f f e c t s  S u p e r v i s o r \" ,  \" n a m e \" :  \" J o h n  B r u n o \" } ,  { \" c r e d i t _ i d \" :  \" 5 4 9 5 9 e 7 b 9 2 5 1 4 1 6 e 1 e 0 0 3 f 3 e \" ,  \" d e p a r t m e n t \" :  \" C a m e r a \" ,  \" g e n d e r \" :  0 ,  \" i d \" :  1 3 9 8 9 7 0 ,  \" j o b \" :  \" S t e a d i c a m  O p e r a t o r \" ,  \" n a m e \" :  \" D a v i d  E m m e r i c h s \" } ,  { \" c r e d i t _ i d \" :  \" 5 4 9 5 9 7 3 4 c 3 a 3 6 8 6 a e 1 0 0 4 5 e 0 \" ,  \" d e p a r t m e n t \" :  \" S o u n d \" ,  \" g e n d e r \" :  0 ,  \" i d \" :  1 4 0 0 9 0 6 ,  \" j o b \" :  \" S o u n d  E f f e c t s  E d i t o r \" ,  \" n a m e \" :  \" C h r i s t o p h e r  S c a r a b o s i o \" } ,  { \" c r e d i t _ i d \" :  \" 5 4 9 5 9 5 d d 9 2 5 1 4 1 3 0 f c 0 0 2 d 7 9 \" ,  \" d e p a r t m e n t \" :  \" P r o d u c t i o n \" ,  \" g e n d e r \" :  0 ,  \" i d \" :  1 4 0 1 7 8 4 ,  \" j o b \" :  \" P r o d u c t i o n  S u p e r v i s o r \" ,  \" n a m e \" :  \" J e n n i f e r  T e v e s \" } ,  { \" c r e d i t _ i d \" :  \" 5 4 9 5 9 6 0 0 9 2 5 1 4 1 3 a f 7 0 0 2 8 c c \" ,  \" d e p a r t m e n t \" :  \" P r o d u c t i o n \" ,  \" g e n d e r \" :  0 ,  \" i d \" :  1 4 0 1 7 8 5 ,  \" j o b \" :  \" P r o d u c t i o n  M a n a g e r \" ,  \" n a m e \" :  \" B r i g i t t e  Y o r k e \" } ,  { \" c r e d i t _ i d \" :  \" 5 4 9 5 9 6 e 8 9 2 5 1 4 1 3 0 f c 0 0 2 d 9 9 \" ,  \" d e p a r t m e n t \" :  \" S o u n d \" ,  \" g e n d e r \" :  0 ,  \" i d \" :  1 4 0 1 7 8 6 ,  \" j o b \" :  \" S o u n d  E f f e c t s  E d i t o r \" ,  \" n a m e \" :  \" K e n  F i s c h e r \" } ,  { \" c r e d i t _ i d \" :  \" 5 4 9 5 9 8 2 2 9 2 5 1 4 1 2 c 4 e 0 0 2 a 1 c \" ,  \" d e p a r t m e n t \" :  \" C r e w \" ,  \" g e n d e r \" :  0 ,  \" i d \" :  1 4 0 1 7 8 7 ,  \" j o b \" :  \" S p e c i a l  E f f e c t s  C o o r d i n a t o r \" ,  \" n a m e \" :  \" I a i n  H u t t o n \" } ,  { \" c r e d i t _ i d \" :  \" 5 4 9 5 9 8 3 4 9 2 5 1 4 1 6 e 2 b 0 0 4 3 2 b \" ,  \" d e p a r t m e n t \" :  \" C r e w \" ,  \" g e n d e r \" :  0 ,  \" i d \" :  1 4 0 1 7 8 8 ,  \" j o b \" :  \" S p e c i a l  E f f e c t s  C o o r d i n a t o r \" ,  \" n a m e \" :  \" S t e v e  I n g r a m \" } ,  { \" c r e d i t _ i d \" :  \" 5 4 9 5 9 9 0 5 c 3 a 3 6 8 6 a e 3 0 0 4 3 2 4 \" ,  \" d e p a r t m e n t \" :  \" V i s u a l  E f f e c t s \" ,  \" g e n d e r \" :  0 ,  \" i d \" :  1 4 0 1 7 8 9 ,  \" j o b \" :  \" V i s u a l  E f f e c t s  P r o d u c e r \" ,  \" n a m e \" :  \" J o y c e  C o x \" } ,  { \" c r e d i t _ i d \" :  \" 5 4 9 5 9 9 4 b 9 2 5 1 4 1 3 2 e d 0 0 2 9 5 1 \" ,  \" d e p a r t m e n t \" :  \" V i s u a l  E f f e c t s \" ,  \" g e n d e r \" :  0 ,  \" i d \" :  1 4 0 1 7 9 0 ,  \" j o b \" :  \" V i s u a l  E f f e c t s  P r o d u c e r \" ,  \" n a m e \" :  \" J e n n y  F o s t e r \" } ,  { \" c r e d i t _ i d \" :  \" 5 4 9 5 9 9 c b c 3 a 3 6 8 6 a e 1 0 0 4 6 1 3 \" ,  \" d e p a r t m e n t \" :  \" C r e w \" ,  \" g e n d e r \" :  0 ,  \" i d \" :  1 4 0 1 7 9 1 ,  \" j o b \" :  \" V i s u a l  E f f e c t s  E d i t o r \" ,  \" n a m e \" :  \" C h r i s t o p h e r  M a r i n o \" } ,  { \" c r e d i t _ i d \" :  \" 5 4 9 5 9 9 f 2 c 3 a 3 6 8 6 a e 1 0 0 4 6 1 e \" ,  \" d e p a r t m e n t \" :  \" C r e w \" ,  \" g e n d e r \" :  0 ,  \" i d \" :  1 4 0 1 7 9 2 ,  \" j o b \" :  \" V i s u a l  E f f e c t s  E d i t o r \" ,  \" n a m e \" :  \" J i m  M i l t o n \" } ,  { \" c r e d i t _ i d \" :  \" 5 4 9 5 9 a 5 1 c 3 a 3 6 8 6 a f 3 0 0 3 e b 5 \" ,  \" d e p a r t m e n t \" :  \" V i s u a l  E f f e c t s \" ,  \" g e n d e r \" :  0 ,  \" i d \" :  1 4 0 1 7 9 3 ,  \" j o b \" :  \" V i s u a l  E f f e c t s  P r o d u c e r \" ,  \" n a m e \" :  \" C y n d i  O c h s \" } ,  { \" c r e d i t _ i d \" :  \" 5 4 9 5 9 a 7 c c 3 a 3 6 8 1 1 5 3 0 0 2 6 f 4 \" ,  \" d e p a r t m e n t \" :  \" C r e w \" ,  \" g e n d e r \" :  0 ,  \" i d \" :  1 4 0 1 7 9 4 ,  \" j o b \" :  \" V i s u a l  E f f e c t s  E d i t o r \" ,  \" n a m e \" :  \" L u c a s  P u t n a m \" } ,  { \" c r e d i t _ i d \" :  \" 5 4 9 5 9 b 9 1 c 3 a 3 6 8 0 f f 5 0 0 2 c b 4 \" ,  \" d e p a r t m e n t \" :  \" V i s u a l  E f f e c t s \" ,  \" g e n d e r \" :  0 ,  \" i d \" :  1 4 0 1 7 9 5 ,  \" j o b \" :  \" V i s u a l  E f f e c t s  S u p e r v i s o r \" ,  \" n a m e \" :  \" A n t h o n y  \\' M a x \\'  I v i n s \" } ,  { \" c r e d i t _ i d \" :  \" 5 4 9 5 9 b b 6 9 2 5 1 4 1 2 c 4 e 0 0 2 a 5 f \" ,  \" d e p a r t m e n t \" :  \" V i s u a l  E f f e c t s \" ,  \" g e n d e r \" :  0 ,  \" i d \" :  1 4 0 1 7 9 6 ,  \" j o b \" :  \" V i s u a l  E f f e c t s  S u p e r v i s o r \" ,  \" n a m e \" :  \" J o h n  K n o l l \" } ,  { \" c r e d i t _ i d \" :  \" 5 4 9 5 9 c b b c 3 a 3 6 8 6 a e 3 0 0 4 3 9 1 \" ,  \" d e p a r t m e n t \" :  \" V i s u a l  E f f e c t s \" ,  \" g e n d e r \" :  2 ,  \" i d \" :  1 4 0 1 7 9 9 ,  \" j o b \" :  \" V i s u a l  E f f e c t s  S u p e r v i s o r \" ,  \" n a m e \" :  \" E r i c  S a i n d o n \" } ,  { \" c r e d i t _ i d \" :  \" 5 4 9 5 9 d 0 6 c 3 a 3 6 8 6 a e 9 0 0 4 3 f 6 \" ,  \" d e p a r t m e n t \" :  \" V i s u a l  E f f e c t s \" ,  \" g e n d e r \" :  0 ,  \" i d \" :  1 4 0 1 8 0 0 ,  \" j o b \" :  \" V i s u a l  E f f e c t s  S u p e r v i s o r \" ,  \" n a m e \" :  \" W a y n e  S t a b l e s \" } ,  { \" c r e d i t _ i d \" :  \" 5 4 9 5 9 d 2 5 9 2 5 1 4 1 6 e 1 e 0 0 3 f 1 1 \" ,  \" d e p a r t m e n t \" :  \" V i s u a l  E f f e c t s \" ,  \" g e n d e r \" :  0 ,  \" i d \" :  1 4 0 1 8 0 1 ,  \" j o b \" :  \" V i s u a l  E f f e c t s  S u p e r v i s o r \" ,  \" n a m e \" :  \" D a v i d  S t i n n e t t \" } ,  { \" c r e d i t _ i d \" :  \" 5 4 9 5 9 d b 4 9 2 5 1 4 1 3 a f 7 0 0 2 9 7 5 \" ,  \" d e p a r t m e n t \" :  \" V i s u a l  E f f e c t s \" ,  \" g e n d e r \" :  0 ,  \" i d \" :  1 4 0 1 8 0 3 ,  \" j o b \" :  \" V i s u a l  E f f e c t s  S u p e r v i s o r \" ,  \" n a m e \" :  \" G u y  W i l l i a m s \" } ,  { \" c r e d i t _ i d \" :  \" 5 4 9 5 9 d e 4 c 3 a 3 6 8 1 1 5 3 0 0 2 7 5 0 \" ,  \" d e p a r t m e n t \" :  \" C r e w \" ,  \" g e n d e r \" :  0 ,  \" i d \" :  1 4 0 1 8 0 4 ,  \" j o b \" :  \" S t u n t  C o o r d i n a t o r \" ,  \" n a m e \" :  \" S t u a r t  T h o r p \" } ,  { \" c r e d i t _ i d \" :  \" 5 4 9 5 9 e f 2 c 3 a 3 6 8 0 f c 6 0 0 2 7 f 2 \" ,  \" d e p a r t m e n t \" :  \" L i g h t i n g \" ,  \" g e n d e r \" :  0 ,  \" i d \" :  1 4 0 1 8 0 5 ,  \" j o b \" :  \" B e s t  B o y  E l e c t r i c \" ,  \" n a m e \" :  \" G i l e s  C o b u r n \" } ,  { \" c r e d i t _ i d \" :  \" 5 4 9 5 9 f 0 7 c 3 a 3 6 8 0 f c 6 0 0 2 7 f 9 \" ,  \" d e p a r t m e n t \" :  \" C a m e r a \" ,  \" g e n d e r \" :  2 ,  \" i d \" :  1 4 0 1 8 0 6 ,  \" j o b \" :  \" S t i l l  P h o t o g r a p h e r \" ,  \" n a m e \" :  \" M a r k  F e l l m a n \" } ,  { \" c r e d i t _ i d \" :  \" 5 4 9 5 9 f 4 7 c 3 a 3 6 8 1 1 5 3 0 0 2 7 7 4 \" ,  \" d e p a r t m e n t \" :  \" L i g h t i n g \" ,  \" g e n d e r \" :  0 ,  \" i d \" :  1 4 0 1 8 0 7 ,  \" j o b \" :  \" L i g h t i n g  T e c h n i c i a n \" ,  \" n a m e \" :  \" S c o t t  S p r a g u e \" } ,  { \" c r e d i t _ i d \" :  \" 5 4 9 5 9 f 8 c c 3 a 3 6 8 3 1 b 8 0 0 1 d f 2 \" ,  \" d e p a r t m e n t \" :  \" V i s u a l  E f f e c t s \" ,  \" g e n d e r \" :  0 ,  \" i d \" :  1 4 0 1 8 0 8 ,  \" j o b \" :  \" A n i m a t i o n  D i r e c t o r \" ,  \" n a m e \" :  \" J e r e m y  H o l l o b o n \" } ,  { \" c r e d i t _ i d \" :  \" 5 4 9 5 9 f a 0 c 3 a 3 6 8 3 1 b 8 0 0 1 d f b \" ,  \" d e p a r t m e n t \" :  \" V i s u a l  E f f e c t s \" ,  \" g e n d e r \" :  0 ,  \" i d \" :  1 4 0 1 8 0 9 ,  \" j o b \" :  \" A n i m a t i o n  D i r e c t o r \" ,  \" n a m e \" :  \" O r l a n d o  M e u n i e r \" } ,  { \" c r e d i t _ i d \" :  \" 5 4 9 5 9 f b 6 c 3 a 3 6 8 6 a f 3 0 0 3 f 5 4 \" ,  \" d e p a r t m e n t \" :  \" V i s u a l  E f f e c t s \" ,  \" g e n d e r \" :  0 ,  \" i d \" :  1 4 0 1 8 1 0 ,  \" j o b \" :  \" A n i m a t i o n  D i r e c t o r \" ,  \" n a m e \" :  \" T a i s u k e  T a n i m u r a \" } ,  { \" c r e d i t _ i d \" :  \" 5 4 9 5 9 f d 2 c 3 a 3 6 8 3 1 b 8 0 0 1 e 0 2 \" ,  \" d e p a r t m e n t \" :  \" C o s t u m e  &  M a k e - U p \" ,  \" g e n d e r \" :  0 ,  \" i d \" :  1 4 0 1 8 1 2 ,  \" j o b \" :  \" S e t  C o s t u m e r \" ,  \" n a m e \" :  \" L i l i a  M i s h e l  A c e v e d o \" } ,  { \" c r e d i t _ i d \" :  \" 5 4 9 5 9 f f 9 c 3 a 3 6 8 6 a e 3 0 0 4 4 0 c \" ,  \" d e p a r t m e n t \" :  \" C o s t u m e  &  M a k e - U p \" ,  \" g e n d e r \" :  0 ,  \" i d \" :  1 4 0 1 8 1 4 ,  \" j o b \" :  \" S e t  C o s t u m e r \" ,  \" n a m e \" :  \" A l e j a n d r o  M .  H e r n a n d e z \" } ,  { \" c r e d i t _ i d \" :  \" 5 4 9 5 a 0 d d c 3 a 3 6 8 6 a e 1 0 0 4 6 f e \" ,  \" d e p a r t m e n t \" :  \" E d i t i n g \" ,  \" g e n d e r \" :  0 ,  \" i d \" :  1 4 0 1 8 1 5 ,  \" j o b \" :  \" D i g i t a l  I n t e r m e d i a t e \" ,  \" n a m e \" :  \" M a r v i n  H a l l \" } ,  { \" c r e d i t _ i d \" :  \" 5 4 9 5 a 1 f 7 c 3 a 3 6 8 6 a e 3 0 0 4 4 4 3 \" ,  \" d e p a r t m e n t \" :  \" P r o d u c t i o n \" ,  \" g e n d e r \" :  0 ,  \" i d \" :  1 4 0 1 8 1 6 ,  \" j o b \" :  \" P u b l i c i s t \" ,  \" n a m e \" :  \" J u d y  A l l e y \" } ,  { \" c r e d i t _ i d \" :  \" 5 5 9 2 b 2 9 f c 3 a 3 6 8 6 9 d 1 0 0 0 0 2 f \" ,  \" d e p a r t m e n t \" :  \" C r e w \" ,  \" g e n d e r \" :  0 ,  \" i d \" :  1 4 1 8 3 8 1 ,  \" j o b \" :  \" C G  S u p e r v i s o r \" ,  \" n a m e \" :  \" M i k e  P e r r y \" } ,  { \" c r e d i t _ i d \" :  \" 5 5 9 2 b 2 3 a 9 2 5 1 4 1 5 d f 8 0 0 1 0 8 1 \" ,  \" d e p a r t m e n t \" :  \" C r e w \" ,  \" g e n d e r \" :  0 ,  \" i d \" :  1 4 2 6 8 5 4 ,  \" j o b \" :  \" C G  S u p e r v i s o r \" ,  \" n a m e \" :  \" A n d r e w  M o r l e y \" } ,  { \" c r e d i t _ i d \" :  \" 5 5 4 9 1 e 1 1 9 2 5 1 4 1 0 4 c 4 0 0 0 2 d 8 \" ,  \" d e p a r t m e n t \" :  \" A r t \" ,  \" g e n d e r \" :  0 ,  \" i d \" :  1 4 3 8 9 0 1 ,  \" j o b \" :  \" C o n c e p t u a l  D e s i g n \" ,  \" n a m e \" :  \" S e t h  E n g s t r o m \" } ,  { \" c r e d i t _ i d \" :  \" 5 5 2 5 d 5 8 0 9 2 5 1 4 1 7 2 7 6 0 0 2 b 0 6 \" ,  \" d e p a r t m e n t \" :  \" C r e w \" ,  \" g e n d e r \" :  0 ,  \" i d \" :  1 4 4 7 3 6 2 ,  \" j o b \" :  \" V i s u a l  E f f e c t s  A r t  D i r e c t o r \" ,  \" n a m e \" :  \" E r i c  O l i v e r \" } ,  { \" c r e d i t _ i d \" :  \" 5 5 4 4 2 7 c a 9 2 5 1 4 1 5 8 6 5 0 0 3 1 2 a \" ,  \" d e p a r t m e n t \" :  \" V i s u a l  E f f e c t s \" ,  \" g e n d e r \" :  0 ,  \" i d \" :  1 4 4 7 5 0 3 ,  \" j o b \" :  \" M o d e l i n g \" ,  \" n a m e \" :  \" M a t s u n e  S u z u k i \" } ,  { \" c r e d i t _ i d \" :  \" 5 5 1 9 0 6 8 8 9 2 5 1 4 1 5 a a b 0 0 1 c 8 8 \" ,  \" d e p a r t m e n t \" :  \" A r t \" ,  \" g e n d e r \" :  0 ,  \" i d \" :  1 4 4 7 5 2 4 ,  \" j o b \" :  \" A r t  D e p a r t m e n t  M a n a g e r \" ,  \" n a m e \" :  \" P a u l  T o b i n \" } ,  { \" c r e d i t _ i d \" :  \" 5 5 9 2 a f 8 4 9 2 5 1 4 1 5 2 c c 0 0 1 0 d e \" ,  \" d e p a r t m e n t \" :  \" C o s t u m e  &  M a k e - U p \" ,  \" g e n d e r \" :  0 ,  \" i d \" :  1 4 5 2 6 4 3 ,  \" j o b \" :  \" H a i r s t y l i s t \" ,  \" n a m e \" :  \" R o x a n e  G r i f f i n \" } ,  { \" c r e d i t _ i d \" :  \" 5 5 3 d 3 c 1 0 9 2 5 1 4 1 5 8 5 2 0 0 1 3 1 8 \" ,  \" d e p a r t m e n t \" :  \" L i g h t i n g \" ,  \" g e n d e r \" :  0 ,  \" i d \" :  1 4 5 3 9 3 8 ,  \" j o b \" :  \" L i g h t i n g  A r t i s t \" ,  \" n a m e \" :  \" A r u n  R a m - M o h a n \" } ,  { \" c r e d i t _ i d \" :  \" 5 5 9 2 a f 4 6 9 2 5 1 4 1 5 2 d 5 0 0 1 3 5 5 \" ,  \" d e p a r t m e n t \" :  \" C o s t u m e  &  M a k e - U p \" ,  \" g e n d e r \" :  0 ,  \" i d \" :  1 4 5 7 3 0 5 ,  \" j o b \" :  \" M a k e u p  A r t i s t \" ,  \" n a m e \" :  \" G e o r g i a  L o c k h a r t - A d a m s \" } ,  { \" c r e d i t _ i d \" :  \" 5 5 9 2 b 2 e a c 3 a 3 6 8 7 7 4 7 0 0 1 2 a 5 \" ,  \" d e p a r t m e n t \" :  \" C r e w \" ,  \" g e n d e r \" :  0 ,  \" i d \" :  1 4 6 6 0 3 5 ,  \" j o b \" :  \" C G  S u p e r v i s o r \" ,  \" n a m e \" :  \" T h r a i n  S h a d b o l t \" } ,  { \" c r e d i t _ i d \" :  \" 5 5 9 2 b 0 3 2 c 3 a 3 6 8 7 7 4 5 0 0 1 5 f 1 \" ,  \" d e p a r t m e n t \" :  \" C r e w \" ,  \" g e n d e r \" :  0 ,  \" i d \" :  1 4 8 3 2 2 0 ,  \" j o b \" :  \" C G  S u p e r v i s o r \" ,  \" n a m e \" :  \" B r a d  A l e x a n d e r \" } ,  { \" c r e d i t _ i d \" :  \" 5 5 9 2 b 0 5 5 9 2 5 1 4 1 5 2 d 8 0 0 1 2 f 6 \" ,  \" d e p a r t m e n t \" :  \" C r e w \" ,  \" g e n d e r \" :  0 ,  \" i d \" :  1 4 8 3 2 2 1 ,  \" j o b \" :  \" C G  S u p e r v i s o r \" ,  \" n a m e \" :  \" S h a d i  A l m a s s i z a d e h \" } ,  { \" c r e d i t _ i d \" :  \" 5 5 9 2 b 0 9 0 c 3 a 3 6 8 7 7 5 7 0 0 1 0 b 5 \" ,  \" d e p a r t m e n t \" :  \" C r e w \" ,  \" g e n d e r \" :  0 ,  \" i d \" :  1 4 8 3 2 2 2 ,  \" j o b \" :  \" C G  S u p e r v i s o r \" ,  \" n a m e \" :  \" S i m o n  C l u t t e r b u c k \" } ,  { \" c r e d i t _ i d \" :  \" 5 5 9 2 b 0 d b c 3 a 3 6 8 7 7 4 b 0 0 1 1 2 c \" ,  \" d e p a r t m e n t \" :  \" C r e w \" ,  \" g e n d e r \" :  0 ,  \" i d \" :  1 4 8 3 2 2 3 ,  \" j o b \" :  \" C G  S u p e r v i s o r \" ,  \" n a m e \" :  \" G r a e m e  D e m m o c k s \" } ,  { \" c r e d i t _ i d \" :  \" 5 5 9 2 b 0 f e 9 2 5 1 4 1 5 2 d b 0 0 1 0 c 1 \" ,  \" d e p a r t m e n t \" :  \" C r e w \" ,  \" g e n d e r \" :  0 ,  \" i d \" :  1 4 8 3 2 2 4 ,  \" j o b \" :  \" C G  S u p e r v i s o r \" ,  \" n a m e \" :  \" A d r i a n  F e r n a n d e s \" } ,  { \" c r e d i t _ i d \" :  \" 5 5 9 2 b 1 1 f 9 2 5 1 4 1 5 d f 8 0 0 1 0 5 9 \" ,  \" d e p a r t m e n t \" :  \" C r e w \" ,  \" g e n d e r \" :  0 ,  \" i d \" :  1 4 8 3 2 2 5 ,  \" j o b \" :  \" C G  S u p e r v i s o r \" ,  \" n a m e \" :  \" M i t c h  G a t e s \" } ,  { \" c r e d i t _ i d \" :  \" 5 5 9 2 b 1 5 d c 3 a 3 6 8 7 7 4 5 0 0 1 6 4 5 \" ,  \" d e p a r t m e n t \" :  \" C r e w \" ,  \" g e n d e r \" :  0 ,  \" i d \" :  1 4 8 3 2 2 6 ,  \" j o b \" :  \" C G  S u p e r v i s o r \" ,  \" n a m e \" :  \" J e r r y  K u n g \" } ,  { \" c r e d i t _ i d \" :  \" 5 5 9 2 b 1 8 e 9 2 5 1 4 1 6 4 5 a 0 0 0 4 a e \" ,  \" d e p a r t m e n t \" :  \" C r e w \" ,  \" g e n d e r \" :  0 ,  \" i d \" :  1 4 8 3 2 2 7 ,  \" j o b \" :  \" C G  S u p e r v i s o r \" ,  \" n a m e \" :  \" A n d y  L o m a s \" } ,  { \" c r e d i t _ i d \" :  \" 5 5 9 2 b 1 b f c 3 a 3 6 8 7 7 5 d 0 0 1 0 e 7 \" ,  \" d e p a r t m e n t \" :  \" C r e w \" ,  \" g e n d e r \" :  0 ,  \" i d \" :  1 4 8 3 2 2 8 ,  \" j o b \" :  \" C G  S u p e r v i s o r \" ,  \" n a m e \" :  \" S e b a s t i a n  M a r i n o \" } ,  { \" c r e d i t _ i d \" :  \" 5 5 9 2 b 2 0 4 9 2 5 1 4 1 5 d f 8 0 0 1 0 7 8 \" ,  \" d e p a r t m e n t \" :  \" C r e w \" ,  \" g e n d e r \" :  0 ,  \" i d \" :  1 4 8 3 2 2 9 ,  \" j o b \" :  \" C G  S u p e r v i s o r \" ,  \" n a m e \" :  \" M a t t h i a s  M e n z \" } ,  { \" c r e d i t _ i d \" :  \" 5 5 9 2 b 2 7 b 9 2 5 1 4 1 5 2 d 8 0 0 1 3 6 a \" ,  \" d e p a r t m e n t \" :  \" C r e w \" ,  \" g e n d e r \" :  0 ,  \" i d \" :  1 4 8 3 2 3 0 ,  \" j o b \" :  \" C G  S u p e r v i s o r \" ,  \" n a m e \" :  \" S e r g e i  N e v s h u p o v \" } ,  { \" c r e d i t _ i d \" :  \" 5 5 9 2 b 2 c 3 c 3 a 3 6 8 6 9 e 8 0 0 0 0 3 c \" ,  \" d e p a r t m e n t \" :  \" C r e w \" ,  \" g e n d e r \" :  0 ,  \" i d \" :  1 4 8 3 2 3 1 ,  \" j o b \" :  \" C G  S u p e r v i s o r \" ,  \" n a m e \" :  \" P h i l i p p e  R e b o u r s \" } ,  { \" c r e d i t _ i d \" :  \" 5 5 9 2 b 3 1 7 c 3 a 3 6 8 7 7 4 7 0 0 1 2 a f \" ,  \" d e p a r t m e n t \" :  \" C r e w \" ,  \" g e n d e r \" :  0 ,  \" i d \" :  1 4 8 3 2 3 2 ,  \" j o b \" :  \" C G  S u p e r v i s o r \" ,  \" n a m e \" :  \" M i c h a e l  T a k a r a n g i \" } ,  { \" c r e d i t _ i d \" :  \" 5 5 9 2 b 3 4 5 c 3 a 3 6 8 7 7 4 7 0 0 1 2 b b \" ,  \" d e p a r t m e n t \" :  \" C r e w \" ,  \" g e n d e r \" :  0 ,  \" i d \" :  1 4 8 3 2 3 3 ,  \" j o b \" :  \" C G  S u p e r v i s o r \" ,  \" n a m e \" :  \" D a v i d  W e i t z b e r g \" } ,  { \" c r e d i t _ i d \" :  \" 5 5 9 2 b 3 7 c c 3 a 3 6 8 7 7 5 1 0 0 1 1 3 b \" ,  \" d e p a r t m e n t \" :  \" C r e w \" ,  \" g e n d e r \" :  0 ,  \" i d \" :  1 4 8 3 2 3 4 ,  \" j o b \" :  \" C G  S u p e r v i s o r \" ,  \" n a m e \" :  \" B e n  W h i t e \" } ,  { \" c r e d i t _ i d \" :  \" 5 7 3 c 8 e 2 f 9 2 5 1 4 1 3 f 5 d 0 0 0 0 9 4 \" ,  \" d e p a r t m e n t \" :  \" C r e w \" ,  \" g e n d e r \" :  1 ,  \" i d \" :  1 6 2 1 9 3 2 ,  \" j o b \" :  \" S t u n t s \" ,  \" n a m e \" :  \" M i n  W i n d l e \" } ]'"
      ]
     },
     "execution_count": 48,
     "metadata": {},
     "output_type": "execute_result"
    }
   ],
   "source": [
    "new_df['tags'][0]"
   ]
  },
  {
   "cell_type": "code",
   "execution_count": 49,
   "id": "6df5d8ad",
   "metadata": {},
   "outputs": [
    {
     "name": "stderr",
     "output_type": "stream",
     "text": [
      "C:\\Users\\Hp\\AppData\\Local\\Temp\\ipykernel_18828\\3213734980.py:1: SettingWithCopyWarning: \n",
      "A value is trying to be set on a copy of a slice from a DataFrame.\n",
      "Try using .loc[row_indexer,col_indexer] = value instead\n",
      "\n",
      "See the caveats in the documentation: https://pandas.pydata.org/pandas-docs/stable/user_guide/indexing.html#returning-a-view-versus-a-copy\n",
      "  new_df['tags'] = new_df['tags'].apply(stem)\n"
     ]
    }
   ],
   "source": [
    "new_df['tags'] = new_df['tags'].apply(stem)"
   ]
  },
  {
   "cell_type": "code",
   "execution_count": null,
   "id": "aec1a928",
   "metadata": {},
   "outputs": [],
   "source": []
  },
  {
   "cell_type": "code",
   "execution_count": 50,
   "id": "28ecb576",
   "metadata": {},
   "outputs": [
    {
     "name": "stderr",
     "output_type": "stream",
     "text": [
      "C:\\Users\\Hp\\AppData\\Local\\Temp\\ipykernel_18828\\3214958533.py:1: SettingWithCopyWarning: \n",
      "A value is trying to be set on a copy of a slice from a DataFrame.\n",
      "Try using .loc[row_indexer,col_indexer] = value instead\n",
      "\n",
      "See the caveats in the documentation: https://pandas.pydata.org/pandas-docs/stable/user_guide/indexing.html#returning-a-view-versus-a-copy\n",
      "  new_df['tags'] = new_df['tags'].apply(lambda x:x.lower())\n"
     ]
    }
   ],
   "source": [
    "new_df['tags'] = new_df['tags'].apply(lambda x:x.lower())"
   ]
  },
  {
   "cell_type": "code",
   "execution_count": 51,
   "id": "ef86ee39",
   "metadata": {},
   "outputs": [
    {
     "data": {
      "text/html": [
       "<div>\n",
       "<style scoped>\n",
       "    .dataframe tbody tr th:only-of-type {\n",
       "        vertical-align: middle;\n",
       "    }\n",
       "\n",
       "    .dataframe tbody tr th {\n",
       "        vertical-align: top;\n",
       "    }\n",
       "\n",
       "    .dataframe thead th {\n",
       "        text-align: right;\n",
       "    }\n",
       "</style>\n",
       "<table border=\"1\" class=\"dataframe\">\n",
       "  <thead>\n",
       "    <tr style=\"text-align: right;\">\n",
       "      <th></th>\n",
       "      <th>movie_id</th>\n",
       "      <th>title</th>\n",
       "      <th>tags</th>\n",
       "    </tr>\n",
       "  </thead>\n",
       "  <tbody>\n",
       "    <tr>\n",
       "      <th>0</th>\n",
       "      <td>19995</td>\n",
       "      <td>Avatar</td>\n",
       "      <td>in the 22nd century, a parapleg marin is dispa...</td>\n",
       "    </tr>\n",
       "    <tr>\n",
       "      <th>1</th>\n",
       "      <td>285</td>\n",
       "      <td>Pirates of the Caribbean: At World's End</td>\n",
       "      <td>captain barbossa, long believ to be dead, ha c...</td>\n",
       "    </tr>\n",
       "    <tr>\n",
       "      <th>2</th>\n",
       "      <td>206647</td>\n",
       "      <td>Spectre</td>\n",
       "      <td>a cryptic messag from bond’ past send him on a...</td>\n",
       "    </tr>\n",
       "    <tr>\n",
       "      <th>3</th>\n",
       "      <td>49026</td>\n",
       "      <td>The Dark Knight Rises</td>\n",
       "      <td>follow the death of district attorney harvey d...</td>\n",
       "    </tr>\n",
       "    <tr>\n",
       "      <th>4</th>\n",
       "      <td>49529</td>\n",
       "      <td>John Carter</td>\n",
       "      <td>john carter is a war-weary, former militari ca...</td>\n",
       "    </tr>\n",
       "  </tbody>\n",
       "</table>\n",
       "</div>"
      ],
      "text/plain": [
       "   movie_id                                     title  \\\n",
       "0     19995                                    Avatar   \n",
       "1       285  Pirates of the Caribbean: At World's End   \n",
       "2    206647                                   Spectre   \n",
       "3     49026                     The Dark Knight Rises   \n",
       "4     49529                               John Carter   \n",
       "\n",
       "                                                tags  \n",
       "0  in the 22nd century, a parapleg marin is dispa...  \n",
       "1  captain barbossa, long believ to be dead, ha c...  \n",
       "2  a cryptic messag from bond’ past send him on a...  \n",
       "3  follow the death of district attorney harvey d...  \n",
       "4  john carter is a war-weary, former militari ca...  "
      ]
     },
     "execution_count": 51,
     "metadata": {},
     "output_type": "execute_result"
    }
   ],
   "source": [
    "new_df.head()"
   ]
  },
  {
   "cell_type": "code",
   "execution_count": 52,
   "id": "75cb8ae6",
   "metadata": {},
   "outputs": [],
   "source": [
    "from sklearn.feature_extraction.text import CountVectorizer\n",
    "cv = CountVectorizer(max_features = 5000, stop_words='english')\n",
    "# english k sbhi words link is am are to from htaa doye"
   ]
  },
  {
   "cell_type": "code",
   "execution_count": 53,
   "id": "59a7611c",
   "metadata": {},
   "outputs": [],
   "source": [
    "vectors = cv.fit_transform(new_df['tags']).toarray()"
   ]
  },
  {
   "cell_type": "code",
   "execution_count": 54,
   "id": "d1c80d6f",
   "metadata": {},
   "outputs": [
    {
     "data": {
      "text/plain": [
       "array([[0, 0, 0, ..., 0, 0, 0],\n",
       "       [0, 0, 0, ..., 0, 0, 0],\n",
       "       [0, 0, 0, ..., 0, 0, 0],\n",
       "       ...,\n",
       "       [0, 0, 0, ..., 0, 0, 0],\n",
       "       [0, 0, 0, ..., 0, 0, 0],\n",
       "       [0, 0, 0, ..., 0, 0, 0]], dtype=int64)"
      ]
     },
     "execution_count": 54,
     "metadata": {},
     "output_type": "execute_result"
    }
   ],
   "source": [
    "vectors"
   ]
  },
  {
   "cell_type": "code",
   "execution_count": 55,
   "id": "6b71c8ff",
   "metadata": {},
   "outputs": [
    {
     "data": {
      "text/plain": [
       "array([0, 0, 0, ..., 0, 0, 0], dtype=int64)"
      ]
     },
     "execution_count": 55,
     "metadata": {},
     "output_type": "execute_result"
    }
   ],
   "source": [
    "vectors[0]"
   ]
  },
  {
   "cell_type": "code",
   "execution_count": 56,
   "id": "a5cac264",
   "metadata": {},
   "outputs": [
    {
     "data": {
      "text/plain": [
       "array(['000', '007', '10', ..., 'zone', 'zoo', 'zooey'], dtype=object)"
      ]
     },
     "execution_count": 56,
     "metadata": {},
     "output_type": "execute_result"
    }
   ],
   "source": [
    "cv.get_feature_names_out()"
   ]
  },
  {
   "cell_type": "code",
   "execution_count": 57,
   "id": "07aeb5e4",
   "metadata": {},
   "outputs": [
    {
     "data": {
      "text/plain": [
       "'in the 22nd century, a parapleg marin is dispatch to the moon pandora on a uniqu mission, but becom torn between follow order and protect an alien civilization. action adventur fantasi sciencefict cultureclash futur spacewar spacecoloni societi spacetravel futurist romanc space alien tribe alienplanet cgi marin soldier battl loveaffair antiwar powerrel mindandsoul 3d samworthington zoesaldana sigourneyweav jamescameron'"
      ]
     },
     "execution_count": 57,
     "metadata": {},
     "output_type": "execute_result"
    }
   ],
   "source": [
    "stem('In the 22nd century, a paraplegic Marine is dispatched to the moon Pandora on a unique mission, but becomes torn between following orders and protecting an alien civilization. Action Adventure Fantasy ScienceFiction cultureclash future spacewar spacecolony society spacetravel futuristic romance space alien tribe alienplanet cgi marine soldier battle loveaffair antiwar powerrelations mindandsoul 3d SamWorthington ZoeSaldana SigourneyWeaver JamesCameron'\n",
    ")"
   ]
  },
  {
   "cell_type": "code",
   "execution_count": 58,
   "id": "1250705b",
   "metadata": {},
   "outputs": [
    {
     "name": "stdout",
     "output_type": "stream",
     "text": [
      "Defaulting to user installation because normal site-packages is not writeable\n",
      "Requirement already satisfied: sklearn in c:\\users\\hp\\appdata\\roaming\\python\\python311\\site-packages (0.0.post7)\n"
     ]
    },
    {
     "name": "stderr",
     "output_type": "stream",
     "text": [
      "\n",
      "[notice] A new release of pip is available: 23.2.1 -> 23.3.1\n",
      "[notice] To update, run: python.exe -m pip install --upgrade pip\n"
     ]
    }
   ],
   "source": [
    "!pip install sklearn"
   ]
  },
  {
   "cell_type": "code",
   "execution_count": 59,
   "id": "7e23d5cb",
   "metadata": {},
   "outputs": [],
   "source": [
    "from sklearn.metrics.pairwise import cosine_similarity"
   ]
  },
  {
   "cell_type": "code",
   "execution_count": 60,
   "id": "6593e347",
   "metadata": {},
   "outputs": [],
   "source": [
    "similarity = cosine_similarity(vectors)"
   ]
  },
  {
   "cell_type": "code",
   "execution_count": 61,
   "id": "fa214f29",
   "metadata": {},
   "outputs": [
    {
     "ename": "NameError",
     "evalue": "name 'distances' is not defined",
     "output_type": "error",
     "traceback": [
      "\u001b[1;31m---------------------------------------------------------------------------\u001b[0m",
      "\u001b[1;31mNameError\u001b[0m                                 Traceback (most recent call last)",
      "Cell \u001b[1;32mIn[61], line 1\u001b[0m\n\u001b[1;32m----> 1\u001b[0m \u001b[38;5;28msorted\u001b[39m(\u001b[38;5;28mlist\u001b[39m(\u001b[38;5;28menumerate\u001b[39m(\u001b[43mdistances\u001b[49m)), reverse\u001b[38;5;241m=\u001b[39m\u001b[38;5;28;01mTrue\u001b[39;00m, key \u001b[38;5;241m=\u001b[39m \u001b[38;5;28;01mlambda\u001b[39;00m x:x[\u001b[38;5;241m1\u001b[39m])[\u001b[38;5;241m1\u001b[39m:\u001b[38;5;241m6\u001b[39m]\n",
      "\u001b[1;31mNameError\u001b[0m: name 'distances' is not defined"
     ]
    }
   ],
   "source": [
    "sorted(list(enumerate(distances)), reverse=True, key = lambda x:x[1])[1:6]"
   ]
  },
  {
   "cell_type": "code",
   "execution_count": 62,
   "id": "3b2ab222",
   "metadata": {},
   "outputs": [],
   "source": [
    "def recommend(movie):\n",
    "    movie_index = new_df[new_df['title'] == movie].index[0]\n",
    "    distances = similarity[movie_index]\n",
    "    movies_list = sorted(list(enumerate(distances)), reverse=True, key = lambda x:x[1])[1:6]\n",
    "    \n",
    "    for i in movies_list: \n",
    "        print(new_df.iloc[i[0]].title)\n",
    "    "
   ]
  },
  {
   "cell_type": "code",
   "execution_count": 85,
   "id": "d6a1bc4a",
   "metadata": {},
   "outputs": [
    {
     "name": "stdout",
     "output_type": "stream",
     "text": [
      "Bucky Larson: Born to Be a Star\n",
      "Tears of the Sun\n",
      "Apollo 18\n",
      "Aliens vs Predator: Requiem\n",
      "Meet Dave\n"
     ]
    }
   ],
   "source": [
    "recommend('Avatar')"
   ]
  },
  {
   "cell_type": "code",
   "execution_count": 56,
   "id": "7f8c167b",
   "metadata": {},
   "outputs": [
    {
     "data": {
      "text/plain": [
       "'Aliens vs Predator: Requiem'"
      ]
     },
     "execution_count": 56,
     "metadata": {},
     "output_type": "execute_result"
    }
   ],
   "source": [
    "new_df.iloc[1216].title"
   ]
  },
  {
   "cell_type": "code",
   "execution_count": null,
   "id": "da6a4e7c",
   "metadata": {},
   "outputs": [],
   "source": []
  }
 ],
 "metadata": {
  "kernelspec": {
   "display_name": "Python 3 (ipykernel)",
   "language": "python",
   "name": "python3"
  },
  "language_info": {
   "codemirror_mode": {
    "name": "ipython",
    "version": 3
   },
   "file_extension": ".py",
   "mimetype": "text/x-python",
   "name": "python",
   "nbconvert_exporter": "python",
   "pygments_lexer": "ipython3",
   "version": "3.11.2"
  }
 },
 "nbformat": 4,
 "nbformat_minor": 5
}
